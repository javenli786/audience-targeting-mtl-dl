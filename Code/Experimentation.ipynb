{
  "cells": [
    {
      "cell_type": "markdown",
      "metadata": {},
      "source": [
        "# **DL_MultiTaskLearning_DonationMaximization**"
      ]
    },
    {
      "cell_type": "code",
      "execution_count": null,
      "metadata": {
        "id": "2UzT5FbR_0wT"
      },
      "outputs": [],
      "source": [
        "import numpy as np\n",
        "import pandas as pd\n",
        "import matplotlib.pyplot as plt\n",
        "import seaborn as sns\n",
        "%matplotlib inline\n",
        "pd.set_option('display.max_columns', None)\n",
        "pd.set_option('display.expand_frame_repr', False)\n",
        "pd.set_option('max_colwidth', None)\n",
        "pd.set_option('display.max_rows', None)"
      ]
    },
    {
      "cell_type": "markdown",
      "metadata": {
        "id": "Nzs3xJCL9SyA"
      },
      "source": [
        "### Data Preparation"
      ]
    },
    {
      "cell_type": "code",
      "execution_count": null,
      "metadata": {},
      "outputs": [],
      "source": [
        "df = pd.read_csv('G:\\我的雲端硬碟\\GitHub_Desktop\\DL_MultiTaskLearning_DonationMaximization_\\Data\\Donar_Data.csv')"
      ]
    },
    {
      "cell_type": "code",
      "execution_count": 10,
      "metadata": {
        "id": "EM40_Ry-FA9D"
      },
      "outputs": [
        {
          "name": "stdout",
          "output_type": "stream",
          "text": [
            "<class 'pandas.core.frame.DataFrame'>\n",
            "RangeIndex: 118854 entries, 0 to 118853\n",
            "Data columns (total 17 columns):\n",
            " #   Column               Non-Null Count   Dtype  \n",
            "---  ------               --------------   -----  \n",
            " 0   ACCOUNT_ID           118854 non-null  object \n",
            " 1   NUMBER_OF_DONATIONS  118854 non-null  int64  \n",
            " 2   VALUE_OF_DONATIONS   118854 non-null  float64\n",
            " 3   CITY                 99728 non-null   object \n",
            " 4   STATE                99728 non-null   object \n",
            " 5   ZIP                  99728 non-null   object \n",
            " 6   MI                   12957 non-null   object \n",
            " 7   ALUMNI_TYPE          118854 non-null  object \n",
            " 8   UG_CLASS_YEAR        118854 non-null  int64  \n",
            " 9   UG_SCHOOL            70297 non-null   object \n",
            " 10  GRAD_DEGREE          54423 non-null   object \n",
            " 11  GRAD_CLASS_YEAR      54422 non-null   float64\n",
            " 12  GRAD_SCHOOL          54393 non-null   object \n",
            " 13  GENDER               118854 non-null  object \n",
            " 14  MARRIED_TO_ALUM      118854 non-null  object \n",
            " 15  ROTC                 118854 non-null  int64  \n",
            " 16  JC                   118854 non-null  int64  \n",
            "dtypes: float64(2), int64(4), object(11)\n",
            "memory usage: 15.4+ MB\n"
          ]
        }
      ],
      "source": [
        "df.info()"
      ]
    },
    {
      "cell_type": "code",
      "execution_count": 11,
      "metadata": {
        "colab": {
          "base_uri": "https://localhost:8080/",
          "height": 449
        },
        "id": "tm_J6nMQKdQ_",
        "outputId": "83b60a3d-425e-45da-9845-2c36f39f3b9f"
      },
      "outputs": [
        {
          "data": {
            "text/html": [
              "<div>\n",
              "<style scoped>\n",
              "    .dataframe tbody tr th:only-of-type {\n",
              "        vertical-align: middle;\n",
              "    }\n",
              "\n",
              "    .dataframe tbody tr th {\n",
              "        vertical-align: top;\n",
              "    }\n",
              "\n",
              "    .dataframe thead th {\n",
              "        text-align: right;\n",
              "    }\n",
              "</style>\n",
              "<table border=\"1\" class=\"dataframe\">\n",
              "  <thead>\n",
              "    <tr style=\"text-align: right;\">\n",
              "      <th></th>\n",
              "      <th>ACCOUNT_ID</th>\n",
              "      <th>NUMBER_OF_DONATIONS</th>\n",
              "      <th>VALUE_OF_DONATIONS</th>\n",
              "      <th>CITY</th>\n",
              "      <th>STATE</th>\n",
              "      <th>ZIP</th>\n",
              "      <th>MI</th>\n",
              "      <th>ALUMNI_TYPE</th>\n",
              "      <th>UG_CLASS_YEAR</th>\n",
              "      <th>UG_SCHOOL</th>\n",
              "      <th>GRAD_DEGREE</th>\n",
              "      <th>GRAD_CLASS_YEAR</th>\n",
              "      <th>GRAD_SCHOOL</th>\n",
              "      <th>GENDER</th>\n",
              "      <th>MARRIED_TO_ALUM</th>\n",
              "      <th>ROTC</th>\n",
              "      <th>JC</th>\n",
              "    </tr>\n",
              "  </thead>\n",
              "  <tbody>\n",
              "    <tr>\n",
              "      <th>count</th>\n",
              "      <td>118854</td>\n",
              "      <td>118854.000000</td>\n",
              "      <td>118854.000000</td>\n",
              "      <td>99728</td>\n",
              "      <td>99728</td>\n",
              "      <td>99728</td>\n",
              "      <td>12957</td>\n",
              "      <td>118854</td>\n",
              "      <td>118854.000000</td>\n",
              "      <td>70297</td>\n",
              "      <td>54423</td>\n",
              "      <td>54422.00000</td>\n",
              "      <td>54393</td>\n",
              "      <td>118854</td>\n",
              "      <td>118854</td>\n",
              "      <td>118854.000000</td>\n",
              "      <td>118854.000000</td>\n",
              "    </tr>\n",
              "    <tr>\n",
              "      <th>unique</th>\n",
              "      <td>118854</td>\n",
              "      <td>NaN</td>\n",
              "      <td>NaN</td>\n",
              "      <td>4515</td>\n",
              "      <td>60</td>\n",
              "      <td>87028</td>\n",
              "      <td>20</td>\n",
              "      <td>2</td>\n",
              "      <td>NaN</td>\n",
              "      <td>10</td>\n",
              "      <td>38</td>\n",
              "      <td>NaN</td>\n",
              "      <td>9</td>\n",
              "      <td>2</td>\n",
              "      <td>2</td>\n",
              "      <td>NaN</td>\n",
              "      <td>NaN</td>\n",
              "    </tr>\n",
              "    <tr>\n",
              "      <th>top</th>\n",
              "      <td>003o000000pO6zhAAC</td>\n",
              "      <td>NaN</td>\n",
              "      <td>NaN</td>\n",
              "      <td>San Francisco</td>\n",
              "      <td>CA</td>\n",
              "      <td>94118</td>\n",
              "      <td>L</td>\n",
              "      <td>Undergraduate</td>\n",
              "      <td>NaN</td>\n",
              "      <td>College of Arts and Sci (Arts)</td>\n",
              "      <td>MA</td>\n",
              "      <td>NaN</td>\n",
              "      <td>School of Education</td>\n",
              "      <td>F</td>\n",
              "      <td>N</td>\n",
              "      <td>NaN</td>\n",
              "      <td>NaN</td>\n",
              "    </tr>\n",
              "    <tr>\n",
              "      <th>freq</th>\n",
              "      <td>1</td>\n",
              "      <td>NaN</td>\n",
              "      <td>NaN</td>\n",
              "      <td>13763</td>\n",
              "      <td>77935</td>\n",
              "      <td>38</td>\n",
              "      <td>693</td>\n",
              "      <td>64431</td>\n",
              "      <td>NaN</td>\n",
              "      <td>24244</td>\n",
              "      <td>17376</td>\n",
              "      <td>NaN</td>\n",
              "      <td>16030</td>\n",
              "      <td>67199</td>\n",
              "      <td>115013</td>\n",
              "      <td>NaN</td>\n",
              "      <td>NaN</td>\n",
              "    </tr>\n",
              "    <tr>\n",
              "      <th>mean</th>\n",
              "      <td>NaN</td>\n",
              "      <td>0.485714</td>\n",
              "      <td>214.147586</td>\n",
              "      <td>NaN</td>\n",
              "      <td>NaN</td>\n",
              "      <td>NaN</td>\n",
              "      <td>NaN</td>\n",
              "      <td>NaN</td>\n",
              "      <td>1996.331609</td>\n",
              "      <td>NaN</td>\n",
              "      <td>NaN</td>\n",
              "      <td>1999.43736</td>\n",
              "      <td>NaN</td>\n",
              "      <td>NaN</td>\n",
              "      <td>NaN</td>\n",
              "      <td>0.051248</td>\n",
              "      <td>0.089345</td>\n",
              "    </tr>\n",
              "    <tr>\n",
              "      <th>std</th>\n",
              "      <td>NaN</td>\n",
              "      <td>1.497361</td>\n",
              "      <td>3033.199077</td>\n",
              "      <td>NaN</td>\n",
              "      <td>NaN</td>\n",
              "      <td>NaN</td>\n",
              "      <td>NaN</td>\n",
              "      <td>NaN</td>\n",
              "      <td>16.569137</td>\n",
              "      <td>NaN</td>\n",
              "      <td>NaN</td>\n",
              "      <td>14.38638</td>\n",
              "      <td>NaN</td>\n",
              "      <td>NaN</td>\n",
              "      <td>NaN</td>\n",
              "      <td>0.220504</td>\n",
              "      <td>0.285242</td>\n",
              "    </tr>\n",
              "    <tr>\n",
              "      <th>min</th>\n",
              "      <td>NaN</td>\n",
              "      <td>0.000000</td>\n",
              "      <td>0.000000</td>\n",
              "      <td>NaN</td>\n",
              "      <td>NaN</td>\n",
              "      <td>NaN</td>\n",
              "      <td>NaN</td>\n",
              "      <td>NaN</td>\n",
              "      <td>1855.000000</td>\n",
              "      <td>NaN</td>\n",
              "      <td>NaN</td>\n",
              "      <td>1915.00000</td>\n",
              "      <td>NaN</td>\n",
              "      <td>NaN</td>\n",
              "      <td>NaN</td>\n",
              "      <td>0.000000</td>\n",
              "      <td>0.000000</td>\n",
              "    </tr>\n",
              "    <tr>\n",
              "      <th>25%</th>\n",
              "      <td>NaN</td>\n",
              "      <td>0.000000</td>\n",
              "      <td>0.000000</td>\n",
              "      <td>NaN</td>\n",
              "      <td>NaN</td>\n",
              "      <td>NaN</td>\n",
              "      <td>NaN</td>\n",
              "      <td>NaN</td>\n",
              "      <td>1984.000000</td>\n",
              "      <td>NaN</td>\n",
              "      <td>NaN</td>\n",
              "      <td>1988.00000</td>\n",
              "      <td>NaN</td>\n",
              "      <td>NaN</td>\n",
              "      <td>NaN</td>\n",
              "      <td>0.000000</td>\n",
              "      <td>0.000000</td>\n",
              "    </tr>\n",
              "    <tr>\n",
              "      <th>50%</th>\n",
              "      <td>NaN</td>\n",
              "      <td>0.000000</td>\n",
              "      <td>0.000000</td>\n",
              "      <td>NaN</td>\n",
              "      <td>NaN</td>\n",
              "      <td>NaN</td>\n",
              "      <td>NaN</td>\n",
              "      <td>NaN</td>\n",
              "      <td>1998.000000</td>\n",
              "      <td>NaN</td>\n",
              "      <td>NaN</td>\n",
              "      <td>2001.00000</td>\n",
              "      <td>NaN</td>\n",
              "      <td>NaN</td>\n",
              "      <td>NaN</td>\n",
              "      <td>0.000000</td>\n",
              "      <td>0.000000</td>\n",
              "    </tr>\n",
              "    <tr>\n",
              "      <th>75%</th>\n",
              "      <td>NaN</td>\n",
              "      <td>0.000000</td>\n",
              "      <td>0.000000</td>\n",
              "      <td>NaN</td>\n",
              "      <td>NaN</td>\n",
              "      <td>NaN</td>\n",
              "      <td>NaN</td>\n",
              "      <td>NaN</td>\n",
              "      <td>2011.000000</td>\n",
              "      <td>NaN</td>\n",
              "      <td>NaN</td>\n",
              "      <td>2012.00000</td>\n",
              "      <td>NaN</td>\n",
              "      <td>NaN</td>\n",
              "      <td>NaN</td>\n",
              "      <td>0.000000</td>\n",
              "      <td>0.000000</td>\n",
              "    </tr>\n",
              "    <tr>\n",
              "      <th>max</th>\n",
              "      <td>NaN</td>\n",
              "      <td>10.000000</td>\n",
              "      <td>227900.000000</td>\n",
              "      <td>NaN</td>\n",
              "      <td>NaN</td>\n",
              "      <td>NaN</td>\n",
              "      <td>NaN</td>\n",
              "      <td>NaN</td>\n",
              "      <td>2021.000000</td>\n",
              "      <td>NaN</td>\n",
              "      <td>NaN</td>\n",
              "      <td>2021.00000</td>\n",
              "      <td>NaN</td>\n",
              "      <td>NaN</td>\n",
              "      <td>NaN</td>\n",
              "      <td>1.000000</td>\n",
              "      <td>1.000000</td>\n",
              "    </tr>\n",
              "  </tbody>\n",
              "</table>\n",
              "</div>"
            ],
            "text/plain": [
              "                ACCOUNT_ID  NUMBER_OF_DONATIONS  VALUE_OF_DONATIONS           CITY  STATE    ZIP     MI    ALUMNI_TYPE  UG_CLASS_YEAR                       UG_SCHOOL GRAD_DEGREE  GRAD_CLASS_YEAR          GRAD_SCHOOL  GENDER MARRIED_TO_ALUM           ROTC             JC\n",
              "count               118854        118854.000000       118854.000000          99728  99728  99728  12957         118854  118854.000000                           70297       54423      54422.00000                54393  118854          118854  118854.000000  118854.000000\n",
              "unique              118854                  NaN                 NaN           4515     60  87028     20              2            NaN                              10          38              NaN                    9       2               2            NaN            NaN\n",
              "top     003o000000pO6zhAAC                  NaN                 NaN  San Francisco     CA  94118      L  Undergraduate            NaN  College of Arts and Sci (Arts)          MA              NaN  School of Education       F               N            NaN            NaN\n",
              "freq                     1                  NaN                 NaN          13763  77935     38    693          64431            NaN                           24244       17376              NaN                16030   67199          115013            NaN            NaN\n",
              "mean                   NaN             0.485714          214.147586            NaN    NaN    NaN    NaN            NaN    1996.331609                             NaN         NaN       1999.43736                  NaN     NaN             NaN       0.051248       0.089345\n",
              "std                    NaN             1.497361         3033.199077            NaN    NaN    NaN    NaN            NaN      16.569137                             NaN         NaN         14.38638                  NaN     NaN             NaN       0.220504       0.285242\n",
              "min                    NaN             0.000000            0.000000            NaN    NaN    NaN    NaN            NaN    1855.000000                             NaN         NaN       1915.00000                  NaN     NaN             NaN       0.000000       0.000000\n",
              "25%                    NaN             0.000000            0.000000            NaN    NaN    NaN    NaN            NaN    1984.000000                             NaN         NaN       1988.00000                  NaN     NaN             NaN       0.000000       0.000000\n",
              "50%                    NaN             0.000000            0.000000            NaN    NaN    NaN    NaN            NaN    1998.000000                             NaN         NaN       2001.00000                  NaN     NaN             NaN       0.000000       0.000000\n",
              "75%                    NaN             0.000000            0.000000            NaN    NaN    NaN    NaN            NaN    2011.000000                             NaN         NaN       2012.00000                  NaN     NaN             NaN       0.000000       0.000000\n",
              "max                    NaN            10.000000       227900.000000            NaN    NaN    NaN    NaN            NaN    2021.000000                             NaN         NaN       2021.00000                  NaN     NaN             NaN       1.000000       1.000000"
            ]
          },
          "execution_count": 11,
          "metadata": {},
          "output_type": "execute_result"
        }
      ],
      "source": [
        "df.describe(include = 'all')"
      ]
    },
    {
      "cell_type": "code",
      "execution_count": 12,
      "metadata": {
        "id": "_LYQWDhaxee0"
      },
      "outputs": [
        {
          "data": {
            "text/html": [
              "<div>\n",
              "<style scoped>\n",
              "    .dataframe tbody tr th:only-of-type {\n",
              "        vertical-align: middle;\n",
              "    }\n",
              "\n",
              "    .dataframe tbody tr th {\n",
              "        vertical-align: top;\n",
              "    }\n",
              "\n",
              "    .dataframe thead th {\n",
              "        text-align: right;\n",
              "    }\n",
              "</style>\n",
              "<table border=\"1\" class=\"dataframe\">\n",
              "  <thead>\n",
              "    <tr style=\"text-align: right;\">\n",
              "      <th></th>\n",
              "      <th>ACCOUNT_ID</th>\n",
              "      <th>NUMBER_OF_DONATIONS</th>\n",
              "      <th>VALUE_OF_DONATIONS</th>\n",
              "      <th>CITY</th>\n",
              "      <th>STATE</th>\n",
              "      <th>ZIP</th>\n",
              "      <th>MI</th>\n",
              "      <th>ALUMNI_TYPE</th>\n",
              "      <th>UG_CLASS_YEAR</th>\n",
              "      <th>UG_SCHOOL</th>\n",
              "      <th>GRAD_DEGREE</th>\n",
              "      <th>GRAD_CLASS_YEAR</th>\n",
              "      <th>GRAD_SCHOOL</th>\n",
              "      <th>GENDER</th>\n",
              "      <th>MARRIED_TO_ALUM</th>\n",
              "      <th>ROTC</th>\n",
              "      <th>JC</th>\n",
              "    </tr>\n",
              "  </thead>\n",
              "  <tbody>\n",
              "    <tr>\n",
              "      <th>0</th>\n",
              "      <td>003o000000pO6zhAAC</td>\n",
              "      <td>0</td>\n",
              "      <td>0.0</td>\n",
              "      <td>Gainesville</td>\n",
              "      <td>FL</td>\n",
              "      <td>32605-6400</td>\n",
              "      <td>NaN</td>\n",
              "      <td>Graduate</td>\n",
              "      <td>1969</td>\n",
              "      <td>NaN</td>\n",
              "      <td>MS</td>\n",
              "      <td>1969.0</td>\n",
              "      <td>College of Arts and Sci (Sci)</td>\n",
              "      <td>M</td>\n",
              "      <td>N</td>\n",
              "      <td>0</td>\n",
              "      <td>0</td>\n",
              "    </tr>\n",
              "    <tr>\n",
              "      <th>1</th>\n",
              "      <td>003o000000pOSIxAAO</td>\n",
              "      <td>1</td>\n",
              "      <td>100.0</td>\n",
              "      <td>Pasadena</td>\n",
              "      <td>CA</td>\n",
              "      <td>91105-1515</td>\n",
              "      <td>NaN</td>\n",
              "      <td>Graduate</td>\n",
              "      <td>1968</td>\n",
              "      <td>NaN</td>\n",
              "      <td>JD</td>\n",
              "      <td>1968.0</td>\n",
              "      <td>School of Law</td>\n",
              "      <td>M</td>\n",
              "      <td>N</td>\n",
              "      <td>0</td>\n",
              "      <td>1</td>\n",
              "    </tr>\n",
              "    <tr>\n",
              "      <th>2</th>\n",
              "      <td>003o000000pNvhHAAS</td>\n",
              "      <td>4</td>\n",
              "      <td>1700.0</td>\n",
              "      <td>San Rafael</td>\n",
              "      <td>CA</td>\n",
              "      <td>94901-2478</td>\n",
              "      <td>NaN</td>\n",
              "      <td>Graduate</td>\n",
              "      <td>1964</td>\n",
              "      <td>NaN</td>\n",
              "      <td>JD</td>\n",
              "      <td>1964.0</td>\n",
              "      <td>School of Law</td>\n",
              "      <td>M</td>\n",
              "      <td>N</td>\n",
              "      <td>0</td>\n",
              "      <td>0</td>\n",
              "    </tr>\n",
              "    <tr>\n",
              "      <th>3</th>\n",
              "      <td>003o000000q0hl1AAA</td>\n",
              "      <td>0</td>\n",
              "      <td>0.0</td>\n",
              "      <td>San Antonio</td>\n",
              "      <td>TX</td>\n",
              "      <td>78232-4154</td>\n",
              "      <td>T</td>\n",
              "      <td>Undergraduate</td>\n",
              "      <td>1967</td>\n",
              "      <td>School of Nursing</td>\n",
              "      <td>NaN</td>\n",
              "      <td>NaN</td>\n",
              "      <td>NaN</td>\n",
              "      <td>F</td>\n",
              "      <td>N</td>\n",
              "      <td>0</td>\n",
              "      <td>0</td>\n",
              "    </tr>\n",
              "    <tr>\n",
              "      <th>4</th>\n",
              "      <td>003o000000pOZe9AAG</td>\n",
              "      <td>5</td>\n",
              "      <td>500.0</td>\n",
              "      <td>Westborough</td>\n",
              "      <td>MA</td>\n",
              "      <td>1581</td>\n",
              "      <td>NaN</td>\n",
              "      <td>Undergraduate</td>\n",
              "      <td>1964</td>\n",
              "      <td>School of Business</td>\n",
              "      <td>NaN</td>\n",
              "      <td>NaN</td>\n",
              "      <td>NaN</td>\n",
              "      <td>M</td>\n",
              "      <td>N</td>\n",
              "      <td>0</td>\n",
              "      <td>1</td>\n",
              "    </tr>\n",
              "  </tbody>\n",
              "</table>\n",
              "</div>"
            ],
            "text/plain": [
              "           ACCOUNT_ID  NUMBER_OF_DONATIONS  VALUE_OF_DONATIONS         CITY STATE         ZIP   MI    ALUMNI_TYPE  UG_CLASS_YEAR           UG_SCHOOL GRAD_DEGREE  GRAD_CLASS_YEAR                    GRAD_SCHOOL GENDER MARRIED_TO_ALUM  ROTC  JC\n",
              "0  003o000000pO6zhAAC                    0                 0.0  Gainesville    FL  32605-6400  NaN       Graduate           1969                 NaN          MS           1969.0  College of Arts and Sci (Sci)      M               N     0   0\n",
              "1  003o000000pOSIxAAO                    1               100.0     Pasadena    CA  91105-1515  NaN       Graduate           1968                 NaN          JD           1968.0                  School of Law      M               N     0   1\n",
              "2  003o000000pNvhHAAS                    4              1700.0   San Rafael    CA  94901-2478  NaN       Graduate           1964                 NaN          JD           1964.0                  School of Law      M               N     0   0\n",
              "3  003o000000q0hl1AAA                    0                 0.0  San Antonio    TX  78232-4154    T  Undergraduate           1967   School of Nursing         NaN              NaN                            NaN      F               N     0   0\n",
              "4  003o000000pOZe9AAG                    5               500.0  Westborough    MA        1581  NaN  Undergraduate           1964  School of Business         NaN              NaN                            NaN      M               N     0   1"
            ]
          },
          "execution_count": 12,
          "metadata": {},
          "output_type": "execute_result"
        }
      ],
      "source": [
        "df.head()"
      ]
    },
    {
      "cell_type": "code",
      "execution_count": 13,
      "metadata": {
        "id": "eFU2c1sU5Xik"
      },
      "outputs": [
        {
          "data": {
            "text/plain": [
              "ACCOUNT_ID              object\n",
              "NUMBER_OF_DONATIONS      int64\n",
              "VALUE_OF_DONATIONS     float64\n",
              "CITY                    object\n",
              "STATE                   object\n",
              "ZIP                     object\n",
              "MI                      object\n",
              "ALUMNI_TYPE             object\n",
              "UG_CLASS_YEAR            int64\n",
              "UG_SCHOOL               object\n",
              "GRAD_DEGREE             object\n",
              "GRAD_CLASS_YEAR        float64\n",
              "GRAD_SCHOOL             object\n",
              "GENDER                  object\n",
              "MARRIED_TO_ALUM         object\n",
              "ROTC                     int64\n",
              "JC                       int64\n",
              "dtype: object"
            ]
          },
          "execution_count": 13,
          "metadata": {},
          "output_type": "execute_result"
        }
      ],
      "source": [
        "df.dtypes"
      ]
    },
    {
      "cell_type": "code",
      "execution_count": 14,
      "metadata": {},
      "outputs": [
        {
          "data": {
            "text/plain": [
              "ACCOUNT_ID                  0\n",
              "NUMBER_OF_DONATIONS         0\n",
              "VALUE_OF_DONATIONS          0\n",
              "CITY                    19126\n",
              "STATE                   19126\n",
              "ZIP                     19126\n",
              "MI                     105897\n",
              "ALUMNI_TYPE                 0\n",
              "UG_CLASS_YEAR               0\n",
              "UG_SCHOOL               48557\n",
              "GRAD_DEGREE             64431\n",
              "GRAD_CLASS_YEAR         64432\n",
              "GRAD_SCHOOL             64461\n",
              "GENDER                      0\n",
              "MARRIED_TO_ALUM             0\n",
              "ROTC                        0\n",
              "JC                          0\n",
              "dtype: int64"
            ]
          },
          "execution_count": 14,
          "metadata": {},
          "output_type": "execute_result"
        }
      ],
      "source": [
        "df.isnull().sum()"
      ]
    },
    {
      "cell_type": "markdown",
      "metadata": {
        "id": "6_wnlK_mB5lR"
      },
      "source": [
        "#### Drop insignificant columns"
      ]
    },
    {
      "cell_type": "code",
      "execution_count": 15,
      "metadata": {
        "id": "PF6sF2JVCJAJ"
      },
      "outputs": [],
      "source": [
        "df = df.drop(['MI'], axis = 1)"
      ]
    },
    {
      "cell_type": "markdown",
      "metadata": {
        "id": "K7Ah3NjDCB4G"
      },
      "source": [
        "#### Unique values in each categorical column"
      ]
    },
    {
      "cell_type": "code",
      "execution_count": 41,
      "metadata": {
        "colab": {
          "base_uri": "https://localhost:8080/"
        },
        "id": "Rk-5MIZ6z9pw",
        "outputId": "02d966d9-8f59-490b-f882-20bf53ca8f10"
      },
      "outputs": [
        {
          "name": "stdout",
          "output_type": "stream",
          "text": [
            "['32605-6400' '91105-1515' '94901-2478' ... '94108-3820' '96067-1194'\n",
            " '95003-3172']\n",
            "['Graduate' 'Undergraduate']\n",
            "['UG_SCHOOL_Unknown' 'School of Nursing'\n",
            " 'Business and Professional Studies' 'Arts and Sciences'\n",
            " 'School of Education' 'School of Law' 'Continuing Education'\n",
            " 'Not Categorized']\n",
            "['MS' 'JD' 'NA' 'MA' 'MBA' 'MPA' 'MHR' 'EDD' 'MAT' 'MSE' 'MRA' 'MSP' 'MHL'\n",
            " 'MSN' 'MPT' 'MNA' 'MMD' 'MAS' 'MAW' 'MFA' 'PSD' 'LLM' 'CRD' 'DNP' 'MGEM'\n",
            " 'MGEN' 'MPH' 'MOPA' 'PSYD' 'PSM' 'MLSL' 'MIG' 'HON' 'MSA' 'NDG' 'MNB'\n",
            " 'MCA' 'MSB' 'MPM']\n",
            "['1960s' 'NA' '1920s' '1970s' '1950s' '1980s' '1990s' '1940s' '2000s'\n",
            " '1930s' '2010s' '2020s' '1910s']\n",
            "['Arts and Sciences' 'Law' 'GRAD_SCHOOL_Unknown' 'Education' 'Nursing'\n",
            " 'Business and Professional Studies']\n",
            "['1960s' '1950s' '1920s' '1970s' '1940s' '1930s' '1990s' '1980s' '2000s'\n",
            " '2010s' '2020s' '1910s' '1900s' '1850s']\n",
            "[1 0]\n",
            "[0 1]\n",
            "[0 1]\n",
            "[0 1]\n"
          ]
        }
      ],
      "source": [
        "categorical_col = ['ZIP', 'ALUMNI_TYPE', 'UG_SCHOOL', 'GRAD_DEGREE', 'GRAD_CLASS_YEAR', 'GRAD_SCHOOL', 'UG_CLASS_YEAR', 'GENDER', 'MARRIED_TO_ALUM', 'ROTC', 'JC']\n",
        "for c in categorical_col:\n",
        "  print(df[c].unique())"
      ]
    },
    {
      "cell_type": "markdown",
      "metadata": {
        "id": "SCyDVHD4sXfw"
      },
      "source": [
        "#### 'ZIP'"
      ]
    },
    {
      "cell_type": "code",
      "execution_count": 22,
      "metadata": {},
      "outputs": [],
      "source": [
        "df['ZIP_V2'] = df['ZIP'].str.replace('-', '').str[3:]"
      ]
    },
    {
      "cell_type": "code",
      "execution_count": 26,
      "metadata": {},
      "outputs": [],
      "source": [
        "df['ZIP_V2'] = df['ZIP_V2'].apply(lambda x: '000000' if len(str(x)) < 6 else x)"
      ]
    },
    {
      "cell_type": "code",
      "execution_count": 27,
      "metadata": {
        "id": "SezfvSHnsctN"
      },
      "outputs": [],
      "source": [
        "df['ZIP_V2'] = df['ZIP_V2'].fillna(value = '000000')"
      ]
    },
    {
      "cell_type": "markdown",
      "metadata": {
        "id": "s860HTYj_yzU"
      },
      "source": [
        "#### 'GRAD_SCHOOL'"
      ]
    },
    {
      "cell_type": "code",
      "execution_count": 31,
      "metadata": {
        "id": "IP5jNpMm_yCI"
      },
      "outputs": [],
      "source": [
        "GRAD_SCHOOL_mapping_dict = {\n",
        "    'College of Arts and Sci (Sci)': 'Arts and Sciences',\n",
        "    'College of Arts and Sci (Arts)': 'Arts and Sciences',\n",
        "    'Col of Arts/Sci and Sch Mgt': 'Arts and Sciences',\n",
        "    'School of Law': 'Law',\n",
        "    'School of Education': 'Education',\n",
        "    'School of Nursing': 'Nursing',\n",
        "    'School of Business': 'Business and Professional Studies',\n",
        "    'Sch of Bus and Prof Studies': 'Business and Professional Studies',\n",
        "    'College of Prof. Studies': 'Business and Professional Studies',\n",
        "    np.nan: 'GRAD_SCHOOL_Unknown'\n",
        "}\n",
        "\n",
        "df['GRAD_SCHOOL'] = df['GRAD_SCHOOL'].replace(GRAD_SCHOOL_mapping_dict)\n"
      ]
    },
    {
      "cell_type": "markdown",
      "metadata": {
        "id": "0zKXJf9S5UeC"
      },
      "source": [
        "#### 'UG_SCHOOL'"
      ]
    },
    {
      "cell_type": "code",
      "execution_count": 32,
      "metadata": {
        "id": "y4QUSNVC55pI"
      },
      "outputs": [],
      "source": [
        "UG_SCHOOL_mapping_dict = {\n",
        "    'School of Nursing': 'School of Nursing',\n",
        "    'School of Business': 'Business and Professional Studies',\n",
        "    'Sch of Bus and Prof Studies': 'Business and Professional Studies',\n",
        "    'College of Arts and Sci (Arts)': 'Arts and Sciences',\n",
        "    'College of Arts and Sci (Sci)': 'Arts and Sciences',\n",
        "    'School of Education': 'School of Education',\n",
        "    'College of Prof. Studies': 'Business and Professional Studies',\n",
        "    'School of Law': 'School of Law',\n",
        "    'Continuing Education': 'Continuing Education',\n",
        "    'Not used in standing': 'Not Categorized',\n",
        "    np.nan: 'UG_SCHOOL_Unknown'\n",
        "  }\n",
        "\n",
        "df['UG_SCHOOL'] = df['UG_SCHOOL'].replace(UG_SCHOOL_mapping_dict)\n"
      ]
    },
    {
      "cell_type": "markdown",
      "metadata": {
        "id": "5iMIF-aJ_P6E"
      },
      "source": [
        "#### 'GENDER', 'MARRIED_TO_ALUM'"
      ]
    },
    {
      "cell_type": "code",
      "execution_count": 33,
      "metadata": {
        "id": "cowx9agY_Pd4"
      },
      "outputs": [],
      "source": [
        "GENDER_mapping_dict = {\n",
        "    'M': 1,\n",
        "    'F': 0,\n",
        "    np.nan: 'GENDER_Unknown'\n",
        "  }\n",
        "\n",
        "MARRIED_TO_ALUM_mapping_dict = {\n",
        "    'N': 0,\n",
        "    'Y': 1,\n",
        "    np.nan: 'MARRIED_TO_ALUM_Unknown'\n",
        "  }\n",
        "\n",
        "df['GENDER'] = df['GENDER'].replace(GENDER_mapping_dict)\n",
        "df['MARRIED_TO_ALUM'] = df['MARRIED_TO_ALUM'].replace(MARRIED_TO_ALUM_mapping_dict)"
      ]
    },
    {
      "cell_type": "markdown",
      "metadata": {
        "id": "NH6b00i3BGgi"
      },
      "source": [
        "#### 'GRAD_CLASS_YEAR', 'UG_CLASS_YEAR'"
      ]
    },
    {
      "cell_type": "code",
      "execution_count": 34,
      "metadata": {
        "id": "PNQ91oVQBOaJ"
      },
      "outputs": [],
      "source": [
        "def year_mapping(year):\n",
        "    if np.isnan(year):\n",
        "        return 'NA'\n",
        "    else:\n",
        "        return str(int(year//10 * 10)) + 's'\n",
        "\n",
        "df['UG_CLASS_YEAR'] = df['UG_CLASS_YEAR'].apply(year_mapping)\n",
        "df['GRAD_CLASS_YEAR'] = df['GRAD_CLASS_YEAR'].apply(year_mapping)"
      ]
    },
    {
      "cell_type": "markdown",
      "metadata": {
        "id": "yf5Y1G57fs39"
      },
      "source": [
        "#### 'GRAD_DEGREE'"
      ]
    },
    {
      "cell_type": "code",
      "execution_count": 35,
      "metadata": {
        "id": "Gc3vhri3fx51"
      },
      "outputs": [],
      "source": [
        "df['GRAD_DEGREE'] = df['GRAD_DEGREE'].fillna(value = 'NA')"
      ]
    },
    {
      "cell_type": "markdown",
      "metadata": {
        "id": "El8lWQX0UEo_"
      },
      "source": [
        "#### 'DONATED'"
      ]
    },
    {
      "cell_type": "code",
      "execution_count": 36,
      "metadata": {
        "id": "EA50TitIUEcL"
      },
      "outputs": [],
      "source": [
        "df['Donated'] = df['NUMBER_OF_DONATIONS'].apply(lambda x: 1 if x > 0 else 0)"
      ]
    },
    {
      "cell_type": "markdown",
      "metadata": {},
      "source": [
        "#### 'AVERAGE_DONATIONS'"
      ]
    },
    {
      "cell_type": "code",
      "execution_count": 38,
      "metadata": {},
      "outputs": [],
      "source": [
        "df['AVERAGE_DONATIONS'] = df['VALUE_OF_DONATIONS'] / df['NUMBER_OF_DONATIONS']\n"
      ]
    },
    {
      "cell_type": "markdown",
      "metadata": {
        "id": "QQp3jLAMC7Zp"
      },
      "source": [
        "#### Unique Values"
      ]
    },
    {
      "cell_type": "code",
      "execution_count": 42,
      "metadata": {
        "colab": {
          "base_uri": "https://localhost:8080/"
        },
        "id": "jcWHAlg6DAhf",
        "outputId": "d87be0a4-4f92-45fe-fedc-ebf8e391943f"
      },
      "outputs": [
        {
          "name": "stdout",
          "output_type": "stream",
          "text": [
            "['FL' 'CA' 'TX' 'MA' nan 'TN' 'WA' 'UT' 'NY' 'MN' 'ID' 'VA' 'NC' 'WI' 'CO'\n",
            " 'LA' 'OR' 'NV' 'NM' 'KY' 'IL' 'HI' 'MO' 'NE' 'AR' 'GA' 'AZ' 'IA' 'RI'\n",
            " 'ME' 'AK' 'DC' 'AL' 'MD' 'MT' 'CT' 'MI' 'WY' 'OK' 'NH' 'NJ' 'PA' 'VT'\n",
            " 'DE' 'OH' 'SC' 'WV' 'IN' 'MS' 'SD' 'KS' 'GU' 'AP' 'ND' 'MP' 'VI' 'AE'\n",
            " 'PR' 'AS' 'FM' 'AA']\n",
            "['Gainesville' 'Pasadena' 'San Rafael' ... 'Cambria Heights' 'Wilson'\n",
            " 'Lake View Ter']\n",
            "['056400' '051515' '012478' ... '156110' '083820' '671194']\n",
            "['Graduate' 'Undergraduate']\n",
            "['UG_SCHOOL_Unknown' 'School of Nursing'\n",
            " 'Business and Professional Studies' 'Arts and Sciences'\n",
            " 'School of Education' 'School of Law' 'Continuing Education'\n",
            " 'Not Categorized']\n",
            "['MS' 'JD' 'NA' 'MA' 'MBA' 'MPA' 'MHR' 'EDD' 'MAT' 'MSE' 'MRA' 'MSP' 'MHL'\n",
            " 'MSN' 'MPT' 'MNA' 'MMD' 'MAS' 'MAW' 'MFA' 'PSD' 'LLM' 'CRD' 'DNP' 'MGEM'\n",
            " 'MGEN' 'MPH' 'MOPA' 'PSYD' 'PSM' 'MLSL' 'MIG' 'HON' 'MSA' 'NDG' 'MNB'\n",
            " 'MCA' 'MSB' 'MPM']\n",
            "['1960s' 'NA' '1920s' '1970s' '1950s' '1980s' '1990s' '1940s' '2000s'\n",
            " '1930s' '2010s' '2020s' '1910s']\n",
            "['Arts and Sciences' 'Law' 'GRAD_SCHOOL_Unknown' 'Education' 'Nursing'\n",
            " 'Business and Professional Studies']\n",
            "['1960s' '1950s' '1920s' '1970s' '1940s' '1930s' '1990s' '1980s' '2000s'\n",
            " '2010s' '2020s' '1910s' '1900s' '1850s']\n",
            "[1 0]\n",
            "[0 1]\n",
            "[0 1]\n",
            "[0 1]\n"
          ]
        }
      ],
      "source": [
        "categorical_col = ['STATE', 'CITY', 'ZIP_V2', 'ALUMNI_TYPE', 'UG_SCHOOL', 'GRAD_DEGREE', 'GRAD_CLASS_YEAR', 'GRAD_SCHOOL', 'UG_CLASS_YEAR', 'GENDER', 'MARRIED_TO_ALUM', 'ROTC', 'JC']\n",
        "for c in categorical_col:\n",
        "  print(df[c].unique())"
      ]
    },
    {
      "cell_type": "markdown",
      "metadata": {},
      "source": [
        "#### Missing Value"
      ]
    },
    {
      "cell_type": "code",
      "execution_count": 49,
      "metadata": {},
      "outputs": [
        {
          "data": {
            "text/plain": [
              "ACCOUNT_ID                 0\n",
              "NUMBER_OF_DONATIONS        0\n",
              "VALUE_OF_DONATIONS         0\n",
              "CITY                       0\n",
              "STATE                      0\n",
              "ZIP                    19126\n",
              "ALUMNI_TYPE                0\n",
              "UG_CLASS_YEAR              0\n",
              "UG_SCHOOL                  0\n",
              "GRAD_DEGREE                0\n",
              "GRAD_CLASS_YEAR            0\n",
              "GRAD_SCHOOL                0\n",
              "GENDER                     0\n",
              "MARRIED_TO_ALUM            0\n",
              "ROTC                       0\n",
              "JC                         0\n",
              "ZIP_V2                     0\n",
              "DONATED                    0\n",
              "AVERAGE_DONATIONS          0\n",
              "dtype: int64"
            ]
          },
          "execution_count": 49,
          "metadata": {},
          "output_type": "execute_result"
        }
      ],
      "source": [
        "df.isnull().sum()"
      ]
    },
    {
      "cell_type": "code",
      "execution_count": 48,
      "metadata": {},
      "outputs": [],
      "source": [
        "df['STATE'].fillna(0, inplace=True)\n",
        "df['CITY'].fillna(0, inplace=True)\n",
        "df['AVERAGE_DONATIONS'].fillna(0, inplace=True)"
      ]
    },
    {
      "cell_type": "markdown",
      "metadata": {
        "id": "GSRUMBqmthfk"
      },
      "source": [
        "#### Categorical Variable"
      ]
    },
    {
      "cell_type": "code",
      "execution_count": 50,
      "metadata": {
        "id": "LTx02eo6t7zV"
      },
      "outputs": [],
      "source": [
        "from category_encoders import CountEncoder, TargetEncoder"
      ]
    },
    {
      "cell_type": "code",
      "execution_count": 115,
      "metadata": {
        "id": "_BKkDUWkttqJ"
      },
      "outputs": [],
      "source": [
        "target_encoder = TargetEncoder()\n",
        "\n",
        "encoded_columns = target_encoder.fit_transform(df[['ZIP_V2', 'ALUMNI_TYPE', 'UG_SCHOOL', 'GRAD_DEGREE', 'GRAD_CLASS_YEAR', 'GRAD_SCHOOL', 'UG_CLASS_YEAR','STATE','CITY']], df['DONATED'])\n",
        "encoded_columns = encoded_columns.rename(columns = {'ZIP_V2': 'ZIP_ENCODED', 'ALUMNI_TYPE': 'ALUMNI_TYPE_ENCODED', 'UG_SCHOOL': 'UG_SCHOOL_ENCODED', 'GRAD_DEGREE': 'GRAD_DEGREE_ENCODED', 'GRAD_CLASS_YEAR': 'GRAD_CLASS_YEAR_ENCODED', 'GRAD_SCHOOL': 'GRAD_SCHOOL_ENCODED', 'UG_CLASS_YEAR': 'UG_CLASS_YEAR_ENCODED','STATE': 'STATE_ENCODED', 'CITY': 'CITY_ENCODED'})"
      ]
    },
    {
      "cell_type": "code",
      "execution_count": 116,
      "metadata": {
        "id": "0PqQO9TnxCV7"
      },
      "outputs": [],
      "source": [
        "df_encoded = pd.concat([df, pd.DataFrame(encoded_columns)], axis = 1)\n",
        "df_encoded = df_encoded.drop(['ZIP', 'ZIP_V2', 'ALUMNI_TYPE', 'UG_SCHOOL', 'GRAD_DEGREE', 'GRAD_CLASS_YEAR', 'GRAD_SCHOOL', 'UG_CLASS_YEAR','STATE','CITY'], axis = 1)"
      ]
    },
    {
      "cell_type": "markdown",
      "metadata": {},
      "source": [
        "#### Split the Data"
      ]
    },
    {
      "cell_type": "code",
      "execution_count": 117,
      "metadata": {},
      "outputs": [],
      "source": [
        "X = df_encoded.drop(['DONATED', 'NUMBER_OF_DONATIONS', 'VALUE_OF_DONATIONS', 'ACCOUNT_ID'], axis = 1)\n",
        "Y_regression = df_encoded['VALUE_OF_DONATIONS']\n",
        "Y_classification= df_encoded['DONATED']"
      ]
    },
    {
      "cell_type": "code",
      "execution_count": 120,
      "metadata": {},
      "outputs": [],
      "source": [
        "X_train, X_test, Y_regression_train, Y_regression_test, Y_classification_train, Y_classification_test = train_test_split(X, Y_regression, Y_classification, test_size=0.2, random_state=42)"
      ]
    },
    {
      "cell_type": "markdown",
      "metadata": {},
      "source": [
        "### Data Exploration"
      ]
    },
    {
      "cell_type": "markdown",
      "metadata": {},
      "source": [
        "### Data Modeling"
      ]
    },
    {
      "cell_type": "code",
      "execution_count": 159,
      "metadata": {},
      "outputs": [],
      "source": [
        "import os\n",
        "from datetime import datetime\n",
        "\n",
        "from sklearn.model_selection import cross_val_score, train_test_split, RandomizedSearchCV\n",
        "from sklearn.metrics import mean_squared_error, accuracy_score, confusion_matrix\n",
        "\n",
        "import tensorflow as tf\n",
        "from tensorflow import keras\n",
        "\n",
        "import mlflow\n",
        "import optuna"
      ]
    },
    {
      "cell_type": "code",
      "execution_count": 160,
      "metadata": {},
      "outputs": [],
      "source": [
        "MLFLOW_TRACKING_URI = mlflow.get_tracking_uri()\n",
        "EXPERIMENT_NAME = \"DonationMaximization\""
      ]
    },
    {
      "cell_type": "code",
      "execution_count": 161,
      "metadata": {},
      "outputs": [
        {
          "data": {
            "text/plain": [
              "'http://localhost:5000'"
            ]
          },
          "execution_count": 161,
          "metadata": {},
          "output_type": "execute_result"
        }
      ],
      "source": [
        "MLFLOW_TRACKING_URI"
      ]
    },
    {
      "cell_type": "code",
      "execution_count": 162,
      "metadata": {},
      "outputs": [],
      "source": [
        "mlflow.set_tracking_uri(MLFLOW_TRACKING_URI)\n",
        "\n",
        "experiment = mlflow.get_experiment_by_name(EXPERIMENT_NAME)\n",
        "if experiment is None:\n",
        "    experiment_id = mlflow.create_experiment(EXPERIMENT_NAME) \n",
        "else:\n",
        "    experiment_id = experiment.experiment_id"
      ]
    },
    {
      "cell_type": "code",
      "execution_count": null,
      "metadata": {},
      "outputs": [
        {
          "name": "stderr",
          "output_type": "stream",
          "text": [
            "[I 2025-06-29 22:40:27,229] A new study created in memory with name: Optuna_Optimization\n"
          ]
        },
        {
          "name": "stdout",
          "output_type": "stream",
          "text": [
            "INFO:tensorflow:Assets written to: C:\\Users\\Reazeng\\AppData\\Local\\Temp\\tmp7t4zmr2p\\model\\data\\model\\assets\n"
          ]
        },
        {
          "name": "stderr",
          "output_type": "stream",
          "text": [
            "[I 2025-06-29 22:42:38,715] Trial 0 finished with value: 4076103.25 and parameters: {'units': 16, 'dropout_rate': 0.1, 'learning_rate': 0.0027271187876076373, 'activation': 'relu'}. Best is trial 0 with value: 4076103.25.\n"
          ]
        },
        {
          "name": "stdout",
          "output_type": "stream",
          "text": [
            "INFO:tensorflow:Assets written to: C:\\Users\\Reazeng\\AppData\\Local\\Temp\\tmpfv7dqnpp\\model\\data\\model\\assets\n"
          ]
        },
        {
          "name": "stderr",
          "output_type": "stream",
          "text": [
            "[I 2025-06-29 22:49:18,088] Trial 1 finished with value: 5901341.0 and parameters: {'units': 64, 'dropout_rate': 0.4, 'learning_rate': 0.0003039537374235948, 'activation': 'tanh'}. Best is trial 0 with value: 4076103.25.\n"
          ]
        },
        {
          "name": "stdout",
          "output_type": "stream",
          "text": [
            "INFO:tensorflow:Assets written to: C:\\Users\\Reazeng\\AppData\\Local\\Temp\\tmpl9l3twby\\model\\data\\model\\assets\n"
          ]
        },
        {
          "name": "stderr",
          "output_type": "stream",
          "text": [
            "[I 2025-06-29 22:53:18,032] Trial 2 finished with value: 3170297.0 and parameters: {'units': 64, 'dropout_rate': 0.2, 'learning_rate': 0.004493396937020764, 'activation': 'elu'}. Best is trial 2 with value: 3170297.0.\n"
          ]
        },
        {
          "name": "stdout",
          "output_type": "stream",
          "text": [
            "INFO:tensorflow:Assets written to: C:\\Users\\Reazeng\\AppData\\Local\\Temp\\tmpry7pmwuf\\model\\data\\model\\assets\n"
          ]
        },
        {
          "name": "stderr",
          "output_type": "stream",
          "text": [
            "[I 2025-06-29 22:55:01,269] Trial 3 finished with value: 6146283.0 and parameters: {'units': 64, 'dropout_rate': 0.1, 'learning_rate': 0.0008373152184518921, 'activation': 'tanh'}. Best is trial 2 with value: 3170297.0.\n"
          ]
        },
        {
          "name": "stdout",
          "output_type": "stream",
          "text": [
            "INFO:tensorflow:Assets written to: C:\\Users\\Reazeng\\AppData\\Local\\Temp\\tmph6u80zz1\\model\\data\\model\\assets\n"
          ]
        },
        {
          "name": "stderr",
          "output_type": "stream",
          "text": [
            "[I 2025-06-29 22:56:20,962] Trial 4 finished with value: 4567158.5 and parameters: {'units': 64, 'dropout_rate': 0.5, 'learning_rate': 0.021310968075939546, 'activation': 'elu'}. Best is trial 2 with value: 3170297.0.\n"
          ]
        },
        {
          "name": "stdout",
          "output_type": "stream",
          "text": [
            "INFO:tensorflow:Assets written to: C:\\Users\\Reazeng\\AppData\\Local\\Temp\\tmp70bph6ey\\model\\data\\model\\assets\n"
          ]
        },
        {
          "name": "stderr",
          "output_type": "stream",
          "text": [
            "Registered model 'DonationMaximization_MTL_Model_20250629' already exists. Creating a new version of this model...\n",
            "2025/06/29 22:56:32 INFO mlflow.tracking._model_registry.client: Waiting up to 300 seconds for model version to finish creation.                     Model name: DonationMaximization_MTL_Model_20250629, version 2\n",
            "Created version '2' of model 'DonationMaximization_MTL_Model_20250629'.\n"
          ]
        }
      ],
      "source": [
        "def objective(trial):\n",
        "\n",
        "    with mlflow.start_run(nested=True) as run:\n",
        "\n",
        "        trial_num = trial.number\n",
        "        mlflow.set_tag(\"trial_num\", trial_num)\n",
        "        \n",
        "        # Set up Options for Hyperparameters Tuning\n",
        "        units = trial.suggest_categorical(\"units\", [16, 32, 64, 128])\n",
        "        dropout_rate = trial.suggest_float(\"dropout_rate\", 0.1, 0.5, step=0.1)\n",
        "        learning_rate = trial.suggest_float(\"learning_rate\", 1e-4, 1e-1, log=True)\n",
        "        activation = trial.suggest_categorical(\"activation\", [\"relu\", \"elu\", \"tanh\"])\n",
        "        \n",
        "        # Log Hyperparameters to MLflow\n",
        "        params = {\n",
        "            \"units\": units,\n",
        "            \"dropout_rate\": dropout_rate,\n",
        "            \"learning_rate\": learning_rate,\n",
        "            \"activation\": activation,\n",
        "            \"batch_size\": 32,\n",
        "            \"epochs\": 50,\n",
        "            \"early_stopping_patience\": 5\n",
        "        }\n",
        "        mlflow.log_params(params)\n",
        "    \n",
        "        # Set User Attributes for Trial\n",
        "        trial.set_user_attr(\"run_id\", run.info.run_id)\n",
        "        trial.set_user_attr(\"model_path\", f\"model_trial_{trial.number}\")\n",
        "        \n",
        "        # Model Building\n",
        "        inputs = tf.keras.Input(shape=X_train.shape[1:])\n",
        "        x = inputs\n",
        "        x = tf.keras.layers.Dense(units, activation=activation)(x)\n",
        "        x = tf.keras.layers.BatchNormalization()(x)\n",
        "        x = tf.keras.layers.Dropout(dropout_rate)(x)\n",
        "        \n",
        "        reg_output = tf.keras.layers.Dense(1, name='regression_output')(x)\n",
        "        class_output = tf.keras.layers.Dense(1, activation='sigmoid', name='classification_output')(x)\n",
        "        \n",
        "        model = tf.keras.Model(inputs=inputs, outputs=[reg_output, class_output])\n",
        "        \n",
        "        # Model Compilation\n",
        "        model.compile(\n",
        "            optimizer=tf.keras.optimizers.Adam(learning_rate=learning_rate),\n",
        "            loss={\n",
        "                'regression_output': 'mse',\n",
        "                'classification_output': 'binary_crossentropy'\n",
        "            },\n",
        "            metrics={\n",
        "                'regression_output': 'mae',\n",
        "                'classification_output': 'accuracy'\n",
        "            }\n",
        "        )\n",
        "        \n",
        "        # Model Training\n",
        "        history = model.fit(\n",
        "            x=X_train,\n",
        "            y={'regression_output': Y_regression_train, 'classification_output': Y_classification_train},\n",
        "            validation_data=(X_test, {'regression_output': Y_regression_test, 'classification_output': Y_classification_test}),\n",
        "            epochs=50,\n",
        "            batch_size=32,\n",
        "            callbacks=[\n",
        "                tf.keras.callbacks.EarlyStopping(monitor='val_loss', patience=5, restore_best_weights=True)\n",
        "            ],\n",
        "            verbose=0 \n",
        "        )\n",
        "    \n",
        "        # Log Metrics to MLflow\n",
        "        for epoch in range(len(history.history['loss'])):\n",
        "            metrics_dict = {}\n",
        "            for metric_name, values in history.history.items():\n",
        "                if epoch < len(values):\n",
        "                    metrics_dict[metric_name] = values[epoch]\n",
        "            mlflow.log_metrics(metrics_dict, step=epoch)\n",
        "        \n",
        "        # Generate Best Validation Metrics\n",
        "        val_loss_history = history.history['val_loss']\n",
        "        best_epoch_idx = np.argmin(val_loss_history)\n",
        "        best_val_loss = val_loss_history[best_epoch_idx]\n",
        "        best_val_reg_mae = history.history['val_regression_output_mae'][best_epoch_idx]\n",
        "        best_val_class_acc = history.history['val_classification_output_accuracy'][best_epoch_idx]\n",
        "        \n",
        "        # Log Best Validation Metrics to MLflow\n",
        "        mlflow.log_metrics({\n",
        "            \"best_val_loss\": best_val_loss,\n",
        "            \"best_val_reg_mae\": best_val_reg_mae,\n",
        "            \"best_val_class_acc\": best_val_class_acc,\n",
        "            \"best_epoch\": best_epoch_idx + 1,\n",
        "            \"epochs_trained\": len(history.history['loss'])\n",
        "        })\n",
        "        \n",
        "        # Log Model to MLflow\n",
        "        model_name = f\"model_trial_{trial_num}\"\n",
        "        mlflow.keras.log_model(keras_model=model, artifact_path=model_name)\n",
        "        \n",
        "        # Log Run ID to MLflow\n",
        "        mlflow.log_param(\"run_id\", run.info.run_id)\n",
        "        \n",
        "        return best_val_loss\n",
        "\n",
        "# Optimize Hyperparameters conducting Optuna\n",
        "now = datetime.now().strftime(\"%Y%m%d_%H%M\")\n",
        "with mlflow.start_run(run_name=f\"Optuna_Optimization_{now}\") as main_run:\n",
        "    study = optuna.create_study(direction=\"minimize\", study_name=\"Optuna_Optimization\")\n",
        "    study.optimize(objective, n_trials=5) \n",
        "    \n",
        "    # Generate Best Trial Information\n",
        "    best_trial_num = study.best_trial.number\n",
        "    best_val_loss = study.best_value\n",
        "    \n",
        "    mlflow.log_params({\n",
        "        \"best_trial\": best_trial_num,\n",
        "        \"best_val_loss\": best_val_loss,\n",
        "        \"total_trials\": len(study.trials)\n",
        "    })\n",
        "    \n",
        "    # Log Best Parameters\n",
        "    mlflow.log_params({f\"best_{k}\": v for k, v in study.best_params.items()})\n",
        "\n",
        "    \n",
        "    # Generate Best Trial Information for Loading Best Model\n",
        "    best_trial = study.best_trial\n",
        "    best_run_id = best_trial.user_attrs[\"run_id\"]\n",
        "    best_model_path = best_trial.user_attrs[\"model_path\"]\n",
        "    \n",
        "    # Load Best Model\n",
        "    best_model_uri = f\"runs:/{best_run_id}/{best_model_path}\"\n",
        "    best_model = mlflow.keras.load_model(best_model_uri)\n",
        "    mlflow.keras.log_model(\n",
        "        keras_model=best_model, \n",
        "        artifact_path=\"best_model\",\n",
        "        registered_model_name=\"DonationMaximization_MTL_Model\"\n",
        "    )"
      ]
    },
    {
      "cell_type": "markdown",
      "metadata": {},
      "source": [
        "---"
      ]
    },
    {
      "cell_type": "markdown",
      "metadata": {
        "id": "_NQUrXjkYv9Q"
      },
      "source": [
        "### Feature importance: Shape"
      ]
    },
    {
      "cell_type": "code",
      "execution_count": 184,
      "metadata": {
        "id": "ondb6q8MYx0P"
      },
      "outputs": [],
      "source": [
        "import shap"
      ]
    },
    {
      "cell_type": "code",
      "execution_count": null,
      "metadata": {},
      "outputs": [
        {
          "name": "stdout",
          "output_type": "stream",
          "text": [
            "4/4 [==============================] - 0s 5ms/step\n"
          ]
        },
        {
          "name": "stderr",
          "output_type": "stream",
          "text": [
            "  0%|          | 0/100 [00:00<?, ?it/s]"
          ]
        },
        {
          "name": "stdout",
          "output_type": "stream",
          "text": [
            "1/1 [==============================] - 0s 44ms/step\n",
            "6488/6488 [==============================] - 17s 3ms/step\n"
          ]
        },
        {
          "name": "stderr",
          "output_type": "stream",
          "text": [
            "  1%|          | 1/100 [00:23<38:23, 23.26s/it]"
          ]
        },
        {
          "name": "stdout",
          "output_type": "stream",
          "text": [
            "1/1 [==============================] - 0s 68ms/step\n",
            "6488/6488 [==============================] - 18s 3ms/step\n"
          ]
        },
        {
          "name": "stderr",
          "output_type": "stream",
          "text": [
            "  2%|▏         | 2/100 [00:47<39:18, 24.07s/it]"
          ]
        },
        {
          "name": "stdout",
          "output_type": "stream",
          "text": [
            "1/1 [==============================] - 0s 31ms/step\n",
            "6488/6488 [==============================] - 25s 4ms/step\n"
          ]
        },
        {
          "name": "stderr",
          "output_type": "stream",
          "text": [
            "  3%|▎         | 3/100 [01:17<42:42, 26.42s/it]"
          ]
        },
        {
          "name": "stdout",
          "output_type": "stream",
          "text": [
            "1/1 [==============================] - 0s 29ms/step\n",
            "6488/6488 [==============================] - 55s 8ms/step\n"
          ]
        },
        {
          "name": "stderr",
          "output_type": "stream",
          "text": [
            "  4%|▍         | 4/100 [02:17<1:03:32, 39.71s/it]"
          ]
        },
        {
          "name": "stdout",
          "output_type": "stream",
          "text": [
            "1/1 [==============================] - 0s 37ms/step\n",
            "6488/6488 [==============================] - 59s 9ms/step\n"
          ]
        },
        {
          "name": "stderr",
          "output_type": "stream",
          "text": [
            "  5%|▌         | 5/100 [03:19<1:15:53, 47.93s/it]"
          ]
        },
        {
          "name": "stdout",
          "output_type": "stream",
          "text": [
            "1/1 [==============================] - 0s 30ms/step\n",
            "6488/6488 [==============================] - 50s 8ms/step\n"
          ]
        },
        {
          "name": "stderr",
          "output_type": "stream",
          "text": [
            "  6%|▌         | 6/100 [04:18<1:20:37, 51.46s/it]"
          ]
        },
        {
          "name": "stdout",
          "output_type": "stream",
          "text": [
            "1/1 [==============================] - 0s 48ms/step\n",
            "6488/6488 [==============================] - 17s 3ms/step\n"
          ]
        },
        {
          "name": "stderr",
          "output_type": "stream",
          "text": [
            "  7%|▋         | 7/100 [04:43<1:06:30, 42.91s/it]"
          ]
        },
        {
          "name": "stdout",
          "output_type": "stream",
          "text": [
            "1/1 [==============================] - 0s 59ms/step\n",
            "6488/6488 [==============================] - 13s 2ms/step\n"
          ]
        },
        {
          "name": "stderr",
          "output_type": "stream",
          "text": [
            "  8%|▊         | 8/100 [05:03<54:34, 35.59s/it]  "
          ]
        },
        {
          "name": "stdout",
          "output_type": "stream",
          "text": [
            "1/1 [==============================] - 0s 48ms/step\n",
            "6488/6488 [==============================] - 12s 2ms/step\n"
          ]
        },
        {
          "name": "stderr",
          "output_type": "stream",
          "text": [
            "  9%|▉         | 9/100 [05:21<45:59, 30.32s/it]"
          ]
        },
        {
          "name": "stdout",
          "output_type": "stream",
          "text": [
            "1/1 [==============================] - 0s 58ms/step\n",
            "6488/6488 [==============================] - 17s 3ms/step\n"
          ]
        },
        {
          "name": "stderr",
          "output_type": "stream",
          "text": [
            " 10%|█         | 10/100 [05:47<43:06, 28.74s/it]"
          ]
        },
        {
          "name": "stdout",
          "output_type": "stream",
          "text": [
            "1/1 [==============================] - 0s 40ms/step\n",
            "6488/6488 [==============================] - 14s 2ms/step\n"
          ]
        },
        {
          "name": "stderr",
          "output_type": "stream",
          "text": [
            " 11%|█         | 11/100 [06:10<40:22, 27.22s/it]"
          ]
        },
        {
          "name": "stdout",
          "output_type": "stream",
          "text": [
            "1/1 [==============================] - 0s 38ms/step\n",
            "6488/6488 [==============================] - 17s 3ms/step\n"
          ]
        },
        {
          "name": "stderr",
          "output_type": "stream",
          "text": [
            " 12%|█▏        | 12/100 [06:34<38:28, 26.23s/it]"
          ]
        },
        {
          "name": "stdout",
          "output_type": "stream",
          "text": [
            "1/1 [==============================] - 0s 43ms/step\n",
            "6488/6488 [==============================] - 14s 2ms/step\n"
          ]
        },
        {
          "name": "stderr",
          "output_type": "stream",
          "text": [
            " 13%|█▎        | 13/100 [06:57<36:15, 25.01s/it]"
          ]
        },
        {
          "name": "stdout",
          "output_type": "stream",
          "text": [
            "1/1 [==============================] - 0s 41ms/step\n",
            "6488/6488 [==============================] - 16s 3ms/step\n"
          ]
        },
        {
          "name": "stderr",
          "output_type": "stream",
          "text": [
            " 14%|█▍        | 14/100 [07:21<35:25, 24.71s/it]"
          ]
        },
        {
          "name": "stdout",
          "output_type": "stream",
          "text": [
            "1/1 [==============================] - 0s 46ms/step\n",
            "6488/6488 [==============================] - 14s 2ms/step\n"
          ]
        },
        {
          "name": "stderr",
          "output_type": "stream",
          "text": [
            " 15%|█▌        | 15/100 [07:41<33:17, 23.50s/it]"
          ]
        },
        {
          "name": "stdout",
          "output_type": "stream",
          "text": [
            "1/1 [==============================] - 0s 38ms/step\n",
            "6488/6488 [==============================] - 13s 2ms/step\n"
          ]
        },
        {
          "name": "stderr",
          "output_type": "stream",
          "text": [
            " 16%|█▌        | 16/100 [08:00<30:45, 21.97s/it]"
          ]
        },
        {
          "name": "stdout",
          "output_type": "stream",
          "text": [
            "1/1 [==============================] - 0s 19ms/step\n",
            "6488/6488 [==============================] - 16s 2ms/step\n"
          ]
        },
        {
          "name": "stderr",
          "output_type": "stream",
          "text": [
            " 17%|█▋        | 17/100 [08:18<29:01, 20.99s/it]"
          ]
        },
        {
          "name": "stdout",
          "output_type": "stream",
          "text": [
            "1/1 [==============================] - 0s 22ms/step\n",
            "6488/6488 [==============================] - 19s 3ms/step\n"
          ]
        },
        {
          "name": "stderr",
          "output_type": "stream",
          "text": [
            " 18%|█▊        | 18/100 [08:40<28:57, 21.19s/it]"
          ]
        },
        {
          "name": "stdout",
          "output_type": "stream",
          "text": [
            "1/1 [==============================] - 0s 31ms/step\n",
            "6488/6488 [==============================] - 20s 3ms/step\n"
          ]
        },
        {
          "name": "stderr",
          "output_type": "stream",
          "text": [
            " 19%|█▉        | 19/100 [09:04<29:48, 22.09s/it]"
          ]
        },
        {
          "name": "stdout",
          "output_type": "stream",
          "text": [
            "1/1 [==============================] - 0s 19ms/step\n",
            "6488/6488 [==============================] - 43s 7ms/step\n"
          ]
        },
        {
          "name": "stderr",
          "output_type": "stream",
          "text": [
            " 20%|██        | 20/100 [09:51<39:11, 29.40s/it]"
          ]
        },
        {
          "name": "stdout",
          "output_type": "stream",
          "text": [
            "1/1 [==============================] - 0s 23ms/step\n",
            "3701/6488 [================>.............] - ETA: 9s"
          ]
        }
      ],
      "source": [
        "def predict_func(x):\n",
        "    preds = best_model.predict(x)\n",
        "    return preds[0]\n",
        "    \n",
        "explainer = shap.KernelExplainer(predict_func, shap.sample(X_test, 100))\n",
        "    \n",
        "shap_values = explainer.shap_values(X_test[:100])"
      ]
    },
    {
      "cell_type": "code",
      "execution_count": null,
      "metadata": {},
      "outputs": [],
      "source": [
        "shap.summary_plot(shap_values, X_test[:100])  # 摘要圖\n",
        "shap.dependence_plot(0, shap_values, X_test[:100])  # 依賴圖"
      ]
    },
    {
      "cell_type": "markdown",
      "metadata": {
        "id": "Jul-m-hSpVAk"
      },
      "source": [
        "#### Confusion Matrix"
      ]
    },
    {
      "cell_type": "code",
      "execution_count": 200,
      "metadata": {
        "id": "wDsc3L6VpYrc"
      },
      "outputs": [],
      "source": [
        "def create_confusion_matrix(label_true, label_pred):\n",
        "    mat = confusion_matrix(label_true, label_pred)\n",
        "    plt.figure(figsize = (6, 6))\n",
        "    sns.heatmap(mat, cmap = 'Blues', alpha = 0.8, annot = True, fmt = 'd')\n",
        "    plt.xlabel('Predicted label')\n",
        "    plt.ylabel('True label')\n",
        "    plt.show()"
      ]
    },
    {
      "cell_type": "code",
      "execution_count": 214,
      "metadata": {
        "colab": {
          "base_uri": "https://localhost:8080/",
          "height": 542
        },
        "id": "N342-ZP6pt7i",
        "outputId": "2b935c80-d517-41d4-8a6a-c233e92aff1c"
      },
      "outputs": [
        {
          "data": {
            "image/png": "[encoded data removed]",
            "text/plain": [
              "<Figure size 600x600 with 2 Axes>"
            ]
          },
          "metadata": {},
          "output_type": "display_data"
        }
      ],
      "source": [
        "create_confusion_matrix(y_pred_lgbmc, y_test)"
      ]
    },
    {
      "cell_type": "code",
      "execution_count": 23,
      "metadata": {
        "id": "27MjgKfHQ4a7"
      },
      "outputs": [],
      "source": [
        "sorted_df_proba_lgbmc = df_proba_lgbmc.sort_values(by = '1', ascending = False).iloc[0: 10000]"
      ]
    },
    {
      "cell_type": "code",
      "execution_count": null,
      "metadata": {
        "colab": {
          "base_uri": "https://localhost:8080/",
          "height": 835
        },
        "id": "RwdyEERqRSiJ",
        "outputId": "d5dd0218-34eb-4e1d-c635-75ba5f7d2a66"
      },
      "outputs": [],
      "source": [
        "plt.figure(figsize = (8, 6))\n",
        "plt.grid(color = 'lightgray', axis = 'y')\n",
        "sns.distplot(sorted_df_proba_lgbmc.iloc[0: 10000]['1'])\n",
        "plt.xlabel('Probability')\n",
        "plt.ylabel('Value')\n",
        "plt.legend(fontsize = 10)\n",
        "plt.tight_layout()\n",
        "plt.show()"
      ]
    },
    {
      "cell_type": "markdown",
      "metadata": {
        "id": "jQOXa8PgoRVS"
      },
      "source": [
        "#### Export excel file including 10000 selected alumni data according to probability"
      ]
    },
    {
      "cell_type": "code",
      "execution_count": 24,
      "metadata": {
        "id": "d7dLQbt1Sg87"
      },
      "outputs": [],
      "source": [
        "df_2 = pd.merge(df, sorted_df_proba_lgbmc, on = 'ACCOUNT_ID', how = 'inner')"
      ]
    },
    {
      "cell_type": "code",
      "execution_count": null,
      "metadata": {
        "colab": {
          "base_uri": "https://localhost:8080/",
          "height": 17
        },
        "id": "lBNyGFvlUV40",
        "outputId": "bd742f9e-c943-4250-f4ac-a923edce4137"
      },
      "outputs": [],
      "source": [
        "df_2.to_excel('Selected 10000 Alumni Attributes.xlsx', index = False)\n",
        "files.download('Selected 10000 Alumni Attributes.xlsx')"
      ]
    },
    {
      "cell_type": "markdown",
      "metadata": {
        "id": "xGOhtpGySuYA"
      },
      "source": [
        "#### Feature trends of 10,000 selected alumni"
      ]
    },
    {
      "cell_type": "code",
      "execution_count": 75,
      "metadata": {
        "id": "gt3C0v4bUjTM"
      },
      "outputs": [],
      "source": [
        "def pie_plot(c):\n",
        "  plt.figure(figsize = (6, 6))\n",
        "  plt.grid(color = 'lightgray', axis = 'y')\n",
        "  plt.pie(c.value_counts(), labels = c.value_counts().index, colors = ['skyblue', 'steelblue'])\n",
        "  plt.legend(fontsize = 10)\n",
        "  plt.tight_layout()\n",
        "  plt.show()"
      ]
    },
    {
      "cell_type": "code",
      "execution_count": null,
      "metadata": {
        "colab": {
          "base_uri": "https://localhost:8080/",
          "height": 1000
        },
        "id": "Oc6uRtUOZUG4",
        "outputId": "f5f6edd2-58e1-457b-d297-395cdeae97f4"
      },
      "outputs": [],
      "source": [
        "for c in ['GENDER', 'MARRIED_TO_ALUM', 'JC', 'ROTC', 'ALUMNI_TYPE']:\n",
        "  print(c)\n",
        "  pie_plot(sorted_df_3[c])"
      ]
    },
    {
      "cell_type": "code",
      "execution_count": 116,
      "metadata": {
        "id": "tMjB2Pm_aYmN"
      },
      "outputs": [],
      "source": [
        "def count_plot(c):\n",
        "  order = sorted_df_3[c].value_counts().sort_values(ascending = False).nlargest(10).index\n",
        "  plt.figure(figsize = (8, 6))\n",
        "  plt.grid(color = 'lightgray', axis = 'y')\n",
        "  sns.countplot(data = sorted_df_3, x = c, palette = list(reversed(sns.color_palette('Blues'))), alpha = 0.8, order = order)\n",
        "  plt.legend(fontsize = 10)\n",
        "  plt.xticks(rotation = 'vertical')\n",
        "  plt.tight_layout()\n",
        "  plt.show()"
      ]
    },
    {
      "cell_type": "code",
      "execution_count": null,
      "metadata": {
        "colab": {
          "base_uri": "https://localhost:8080/",
          "height": 1000
        },
        "id": "WE3JcdbGa1bT",
        "outputId": "30bfad23-b7f9-43e8-8bc6-5244bfd891b6"
      },
      "outputs": [],
      "source": [
        "for c in ['ZIP','UG_CLASS_YEAR','UG_SCHOOL','GRAD_DEGREE','GRAD_CLASS_YEAR','GRAD_SCHOOL']:\n",
        "  count_plot(c)"
      ]
    },
    {
      "cell_type": "markdown",
      "metadata": {},
      "source": [
        "### Result"
      ]
    },
    {
      "cell_type": "code",
      "execution_count": 107,
      "metadata": {
        "colab": {
          "base_uri": "https://localhost:8080/",
          "height": 17
        },
        "id": "CCQuGzh0EsUR",
        "outputId": "f4d77929-c33f-4d2e-cba3-3ed4464a0533"
      },
      "outputs": [
        {
          "data": {
            "application/javascript": "\n    async function download(id, filename, size) {\n      if (!google.colab.kernel.accessAllowed) {\n        return;\n      }\n      const div = document.createElement('div');\n      const label = document.createElement('label');\n      label.textContent = `Downloading \"${filename}\": `;\n      div.appendChild(label);\n      const progress = document.createElement('progress');\n      progress.max = size;\n      div.appendChild(progress);\n      document.body.appendChild(div);\n\n      const buffers = [];\n      let downloaded = 0;\n\n      const channel = await google.colab.kernel.comms.open(id);\n      // Send a message to notify the kernel that we're ready.\n      channel.send({})\n\n      for await (const message of channel.messages) {\n        // Send a message to notify the kernel that we're ready.\n        channel.send({})\n        if (message.buffers) {\n          for (const buffer of message.buffers) {\n            buffers.push(buffer);\n            downloaded += buffer.byteLength;\n            progress.value = downloaded;\n          }\n        }\n      }\n      const blob = new Blob(buffers, {type: 'application/binary'});\n      const a = document.createElement('a');\n      a.href = window.URL.createObjectURL(blob);\n      a.download = filename;\n      div.appendChild(a);\n      a.click();\n      div.remove();\n    }\n  ",
            "text/plain": [
              "<IPython.core.display.Javascript object>"
            ]
          },
          "metadata": {},
          "output_type": "display_data"
        },
        {
          "data": {
            "application/javascript": "download(\"download_d4b7366d-5ddf-4fb3-a1c0-18fcc78abd39\", \"Selected 10000 Alumni Attributes.xlsx\", 862591)",
            "text/plain": [
              "<IPython.core.display.Javascript object>"
            ]
          },
          "metadata": {},
          "output_type": "display_data"
        }
      ],
      "source": [
        "sorted_df_3.to_excel('Selected 10000 Alumni Attributes.xlsx', index = False)\n",
        "files.download('Selected 10000 Alumni Attributes.xlsx')"
      ]
    }
  ],
  "metadata": {
    "colab": {
      "provenance": []
    },
    "kernelspec": {
      "display_name": "tf",
      "language": "python",
      "name": "python3"
    },
    "language_info": {
      "codemirror_mode": {
        "name": "ipython",
        "version": 3
      },
      "file_extension": ".py",
      "mimetype": "text/x-python",
      "name": "python",
      "nbconvert_exporter": "python",
      "pygments_lexer": "ipython3",
      "version": "3.10.13"
    }
  },
  "nbformat": 4,
  "nbformat_minor": 0
}

{
  "cells": [
    {
      "cell_type": "markdown",
      "metadata": {},
      "source": [
        "# **DL_MultiTaskLearning_DonationMaximization**"
      ]
    },
    {
      "cell_type": "code",
      "execution_count": 2,
      "metadata": {
        "id": "2UzT5FbR_0wT"
      },
      "outputs": [],
      "source": [
        "import numpy as np\n",
        "import pandas as pd\n",
        "import matplotlib.pyplot as plt\n",
        "import seaborn as sns\n",
        "%matplotlib inline\n",
        "pd.set_option('display.max_columns', None)\n",
        "pd.set_option('display.expand_frame_repr', False)\n",
        "pd.set_option('max_colwidth', None)\n",
        "pd.set_option('display.max_rows', None)"
      ]
    },
    {
      "cell_type": "markdown",
      "metadata": {
        "id": "Nzs3xJCL9SyA"
      },
      "source": [
        "### Data Preparation"
      ]
    },
    {
      "cell_type": "code",
      "execution_count": 3,
      "metadata": {},
      "outputs": [],
      "source": [
        "df = pd.read_csv('G:\\我的雲端硬碟\\GitHub_Desktop\\DL_MultiTaskLearning_DonationMaximization_\\Data\\Donar_Data.csv')"
      ]
    },
    {
      "cell_type": "code",
      "execution_count": 4,
      "metadata": {
        "id": "EM40_Ry-FA9D"
      },
      "outputs": [
        {
          "name": "stdout",
          "output_type": "stream",
          "text": [
            "<class 'pandas.core.frame.DataFrame'>\n",
            "RangeIndex: 118854 entries, 0 to 118853\n",
            "Data columns (total 17 columns):\n",
            " #   Column               Non-Null Count   Dtype  \n",
            "---  ------               --------------   -----  \n",
            " 0   ACCOUNT_ID           118854 non-null  object \n",
            " 1   NUMBER_OF_DONATIONS  118854 non-null  int64  \n",
            " 2   VALUE_OF_DONATIONS   118854 non-null  float64\n",
            " 3   CITY                 99728 non-null   object \n",
            " 4   STATE                99728 non-null   object \n",
            " 5   ZIP                  99728 non-null   object \n",
            " 6   MI                   12957 non-null   object \n",
            " 7   ALUMNI_TYPE          118854 non-null  object \n",
            " 8   UG_CLASS_YEAR        118854 non-null  int64  \n",
            " 9   UG_SCHOOL            70297 non-null   object \n",
            " 10  GRAD_DEGREE          54423 non-null   object \n",
            " 11  GRAD_CLASS_YEAR      54422 non-null   float64\n",
            " 12  GRAD_SCHOOL          54393 non-null   object \n",
            " 13  GENDER               118854 non-null  object \n",
            " 14  MARRIED_TO_ALUM      118854 non-null  object \n",
            " 15  ROTC                 118854 non-null  int64  \n",
            " 16  JC                   118854 non-null  int64  \n",
            "dtypes: float64(2), int64(4), object(11)\n",
            "memory usage: 15.4+ MB\n"
          ]
        }
      ],
      "source": [
        "df.info()"
      ]
    },
    {
      "cell_type": "code",
      "execution_count": 5,
      "metadata": {
        "colab": {
          "base_uri": "https://localhost:8080/",
          "height": 449
        },
        "id": "tm_J6nMQKdQ_",
        "outputId": "83b60a3d-425e-45da-9845-2c36f39f3b9f"
      },
      "outputs": [
        {
          "data": {
            "text/html": [
              "<div>\n",
              "<style scoped>\n",
              "    .dataframe tbody tr th:only-of-type {\n",
              "        vertical-align: middle;\n",
              "    }\n",
              "\n",
              "    .dataframe tbody tr th {\n",
              "        vertical-align: top;\n",
              "    }\n",
              "\n",
              "    .dataframe thead th {\n",
              "        text-align: right;\n",
              "    }\n",
              "</style>\n",
              "<table border=\"1\" class=\"dataframe\">\n",
              "  <thead>\n",
              "    <tr style=\"text-align: right;\">\n",
              "      <th></th>\n",
              "      <th>ACCOUNT_ID</th>\n",
              "      <th>NUMBER_OF_DONATIONS</th>\n",
              "      <th>VALUE_OF_DONATIONS</th>\n",
              "      <th>CITY</th>\n",
              "      <th>STATE</th>\n",
              "      <th>ZIP</th>\n",
              "      <th>MI</th>\n",
              "      <th>ALUMNI_TYPE</th>\n",
              "      <th>UG_CLASS_YEAR</th>\n",
              "      <th>UG_SCHOOL</th>\n",
              "      <th>GRAD_DEGREE</th>\n",
              "      <th>GRAD_CLASS_YEAR</th>\n",
              "      <th>GRAD_SCHOOL</th>\n",
              "      <th>GENDER</th>\n",
              "      <th>MARRIED_TO_ALUM</th>\n",
              "      <th>ROTC</th>\n",
              "      <th>JC</th>\n",
              "    </tr>\n",
              "  </thead>\n",
              "  <tbody>\n",
              "    <tr>\n",
              "      <th>count</th>\n",
              "      <td>118854</td>\n",
              "      <td>118854.000000</td>\n",
              "      <td>118854.000000</td>\n",
              "      <td>99728</td>\n",
              "      <td>99728</td>\n",
              "      <td>99728</td>\n",
              "      <td>12957</td>\n",
              "      <td>118854</td>\n",
              "      <td>118854.000000</td>\n",
              "      <td>70297</td>\n",
              "      <td>54423</td>\n",
              "      <td>54422.00000</td>\n",
              "      <td>54393</td>\n",
              "      <td>118854</td>\n",
              "      <td>118854</td>\n",
              "      <td>118854.000000</td>\n",
              "      <td>118854.000000</td>\n",
              "    </tr>\n",
              "    <tr>\n",
              "      <th>unique</th>\n",
              "      <td>118854</td>\n",
              "      <td>NaN</td>\n",
              "      <td>NaN</td>\n",
              "      <td>4515</td>\n",
              "      <td>60</td>\n",
              "      <td>87028</td>\n",
              "      <td>20</td>\n",
              "      <td>2</td>\n",
              "      <td>NaN</td>\n",
              "      <td>10</td>\n",
              "      <td>38</td>\n",
              "      <td>NaN</td>\n",
              "      <td>9</td>\n",
              "      <td>2</td>\n",
              "      <td>2</td>\n",
              "      <td>NaN</td>\n",
              "      <td>NaN</td>\n",
              "    </tr>\n",
              "    <tr>\n",
              "      <th>top</th>\n",
              "      <td>003o000000pO6zhAAC</td>\n",
              "      <td>NaN</td>\n",
              "      <td>NaN</td>\n",
              "      <td>San Francisco</td>\n",
              "      <td>CA</td>\n",
              "      <td>94118</td>\n",
              "      <td>L</td>\n",
              "      <td>Undergraduate</td>\n",
              "      <td>NaN</td>\n",
              "      <td>College of Arts and Sci (Arts)</td>\n",
              "      <td>MA</td>\n",
              "      <td>NaN</td>\n",
              "      <td>School of Education</td>\n",
              "      <td>F</td>\n",
              "      <td>N</td>\n",
              "      <td>NaN</td>\n",
              "      <td>NaN</td>\n",
              "    </tr>\n",
              "    <tr>\n",
              "      <th>freq</th>\n",
              "      <td>1</td>\n",
              "      <td>NaN</td>\n",
              "      <td>NaN</td>\n",
              "      <td>13763</td>\n",
              "      <td>77935</td>\n",
              "      <td>38</td>\n",
              "      <td>693</td>\n",
              "      <td>64431</td>\n",
              "      <td>NaN</td>\n",
              "      <td>24244</td>\n",
              "      <td>17376</td>\n",
              "      <td>NaN</td>\n",
              "      <td>16030</td>\n",
              "      <td>67199</td>\n",
              "      <td>115013</td>\n",
              "      <td>NaN</td>\n",
              "      <td>NaN</td>\n",
              "    </tr>\n",
              "    <tr>\n",
              "      <th>mean</th>\n",
              "      <td>NaN</td>\n",
              "      <td>0.485714</td>\n",
              "      <td>214.147586</td>\n",
              "      <td>NaN</td>\n",
              "      <td>NaN</td>\n",
              "      <td>NaN</td>\n",
              "      <td>NaN</td>\n",
              "      <td>NaN</td>\n",
              "      <td>1996.331609</td>\n",
              "      <td>NaN</td>\n",
              "      <td>NaN</td>\n",
              "      <td>1999.43736</td>\n",
              "      <td>NaN</td>\n",
              "      <td>NaN</td>\n",
              "      <td>NaN</td>\n",
              "      <td>0.051248</td>\n",
              "      <td>0.089345</td>\n",
              "    </tr>\n",
              "    <tr>\n",
              "      <th>std</th>\n",
              "      <td>NaN</td>\n",
              "      <td>1.497361</td>\n",
              "      <td>3033.199077</td>\n",
              "      <td>NaN</td>\n",
              "      <td>NaN</td>\n",
              "      <td>NaN</td>\n",
              "      <td>NaN</td>\n",
              "      <td>NaN</td>\n",
              "      <td>16.569137</td>\n",
              "      <td>NaN</td>\n",
              "      <td>NaN</td>\n",
              "      <td>14.38638</td>\n",
              "      <td>NaN</td>\n",
              "      <td>NaN</td>\n",
              "      <td>NaN</td>\n",
              "      <td>0.220504</td>\n",
              "      <td>0.285242</td>\n",
              "    </tr>\n",
              "    <tr>\n",
              "      <th>min</th>\n",
              "      <td>NaN</td>\n",
              "      <td>0.000000</td>\n",
              "      <td>0.000000</td>\n",
              "      <td>NaN</td>\n",
              "      <td>NaN</td>\n",
              "      <td>NaN</td>\n",
              "      <td>NaN</td>\n",
              "      <td>NaN</td>\n",
              "      <td>1855.000000</td>\n",
              "      <td>NaN</td>\n",
              "      <td>NaN</td>\n",
              "      <td>1915.00000</td>\n",
              "      <td>NaN</td>\n",
              "      <td>NaN</td>\n",
              "      <td>NaN</td>\n",
              "      <td>0.000000</td>\n",
              "      <td>0.000000</td>\n",
              "    </tr>\n",
              "    <tr>\n",
              "      <th>25%</th>\n",
              "      <td>NaN</td>\n",
              "      <td>0.000000</td>\n",
              "      <td>0.000000</td>\n",
              "      <td>NaN</td>\n",
              "      <td>NaN</td>\n",
              "      <td>NaN</td>\n",
              "      <td>NaN</td>\n",
              "      <td>NaN</td>\n",
              "      <td>1984.000000</td>\n",
              "      <td>NaN</td>\n",
              "      <td>NaN</td>\n",
              "      <td>1988.00000</td>\n",
              "      <td>NaN</td>\n",
              "      <td>NaN</td>\n",
              "      <td>NaN</td>\n",
              "      <td>0.000000</td>\n",
              "      <td>0.000000</td>\n",
              "    </tr>\n",
              "    <tr>\n",
              "      <th>50%</th>\n",
              "      <td>NaN</td>\n",
              "      <td>0.000000</td>\n",
              "      <td>0.000000</td>\n",
              "      <td>NaN</td>\n",
              "      <td>NaN</td>\n",
              "      <td>NaN</td>\n",
              "      <td>NaN</td>\n",
              "      <td>NaN</td>\n",
              "      <td>1998.000000</td>\n",
              "      <td>NaN</td>\n",
              "      <td>NaN</td>\n",
              "      <td>2001.00000</td>\n",
              "      <td>NaN</td>\n",
              "      <td>NaN</td>\n",
              "      <td>NaN</td>\n",
              "      <td>0.000000</td>\n",
              "      <td>0.000000</td>\n",
              "    </tr>\n",
              "    <tr>\n",
              "      <th>75%</th>\n",
              "      <td>NaN</td>\n",
              "      <td>0.000000</td>\n",
              "      <td>0.000000</td>\n",
              "      <td>NaN</td>\n",
              "      <td>NaN</td>\n",
              "      <td>NaN</td>\n",
              "      <td>NaN</td>\n",
              "      <td>NaN</td>\n",
              "      <td>2011.000000</td>\n",
              "      <td>NaN</td>\n",
              "      <td>NaN</td>\n",
              "      <td>2012.00000</td>\n",
              "      <td>NaN</td>\n",
              "      <td>NaN</td>\n",
              "      <td>NaN</td>\n",
              "      <td>0.000000</td>\n",
              "      <td>0.000000</td>\n",
              "    </tr>\n",
              "    <tr>\n",
              "      <th>max</th>\n",
              "      <td>NaN</td>\n",
              "      <td>10.000000</td>\n",
              "      <td>227900.000000</td>\n",
              "      <td>NaN</td>\n",
              "      <td>NaN</td>\n",
              "      <td>NaN</td>\n",
              "      <td>NaN</td>\n",
              "      <td>NaN</td>\n",
              "      <td>2021.000000</td>\n",
              "      <td>NaN</td>\n",
              "      <td>NaN</td>\n",
              "      <td>2021.00000</td>\n",
              "      <td>NaN</td>\n",
              "      <td>NaN</td>\n",
              "      <td>NaN</td>\n",
              "      <td>1.000000</td>\n",
              "      <td>1.000000</td>\n",
              "    </tr>\n",
              "  </tbody>\n",
              "</table>\n",
              "</div>"
            ],
            "text/plain": [
              "                ACCOUNT_ID  NUMBER_OF_DONATIONS  VALUE_OF_DONATIONS           CITY  STATE    ZIP     MI    ALUMNI_TYPE  UG_CLASS_YEAR                       UG_SCHOOL GRAD_DEGREE  GRAD_CLASS_YEAR          GRAD_SCHOOL  GENDER MARRIED_TO_ALUM           ROTC             JC\n",
              "count               118854        118854.000000       118854.000000          99728  99728  99728  12957         118854  118854.000000                           70297       54423      54422.00000                54393  118854          118854  118854.000000  118854.000000\n",
              "unique              118854                  NaN                 NaN           4515     60  87028     20              2            NaN                              10          38              NaN                    9       2               2            NaN            NaN\n",
              "top     003o000000pO6zhAAC                  NaN                 NaN  San Francisco     CA  94118      L  Undergraduate            NaN  College of Arts and Sci (Arts)          MA              NaN  School of Education       F               N            NaN            NaN\n",
              "freq                     1                  NaN                 NaN          13763  77935     38    693          64431            NaN                           24244       17376              NaN                16030   67199          115013            NaN            NaN\n",
              "mean                   NaN             0.485714          214.147586            NaN    NaN    NaN    NaN            NaN    1996.331609                             NaN         NaN       1999.43736                  NaN     NaN             NaN       0.051248       0.089345\n",
              "std                    NaN             1.497361         3033.199077            NaN    NaN    NaN    NaN            NaN      16.569137                             NaN         NaN         14.38638                  NaN     NaN             NaN       0.220504       0.285242\n",
              "min                    NaN             0.000000            0.000000            NaN    NaN    NaN    NaN            NaN    1855.000000                             NaN         NaN       1915.00000                  NaN     NaN             NaN       0.000000       0.000000\n",
              "25%                    NaN             0.000000            0.000000            NaN    NaN    NaN    NaN            NaN    1984.000000                             NaN         NaN       1988.00000                  NaN     NaN             NaN       0.000000       0.000000\n",
              "50%                    NaN             0.000000            0.000000            NaN    NaN    NaN    NaN            NaN    1998.000000                             NaN         NaN       2001.00000                  NaN     NaN             NaN       0.000000       0.000000\n",
              "75%                    NaN             0.000000            0.000000            NaN    NaN    NaN    NaN            NaN    2011.000000                             NaN         NaN       2012.00000                  NaN     NaN             NaN       0.000000       0.000000\n",
              "max                    NaN            10.000000       227900.000000            NaN    NaN    NaN    NaN            NaN    2021.000000                             NaN         NaN       2021.00000                  NaN     NaN             NaN       1.000000       1.000000"
            ]
          },
          "execution_count": 5,
          "metadata": {},
          "output_type": "execute_result"
        }
      ],
      "source": [
        "df.describe(include = 'all')"
      ]
    },
    {
      "cell_type": "code",
      "execution_count": 6,
      "metadata": {
        "id": "_LYQWDhaxee0"
      },
      "outputs": [
        {
          "data": {
            "text/html": [
              "<div>\n",
              "<style scoped>\n",
              "    .dataframe tbody tr th:only-of-type {\n",
              "        vertical-align: middle;\n",
              "    }\n",
              "\n",
              "    .dataframe tbody tr th {\n",
              "        vertical-align: top;\n",
              "    }\n",
              "\n",
              "    .dataframe thead th {\n",
              "        text-align: right;\n",
              "    }\n",
              "</style>\n",
              "<table border=\"1\" class=\"dataframe\">\n",
              "  <thead>\n",
              "    <tr style=\"text-align: right;\">\n",
              "      <th></th>\n",
              "      <th>ACCOUNT_ID</th>\n",
              "      <th>NUMBER_OF_DONATIONS</th>\n",
              "      <th>VALUE_OF_DONATIONS</th>\n",
              "      <th>CITY</th>\n",
              "      <th>STATE</th>\n",
              "      <th>ZIP</th>\n",
              "      <th>MI</th>\n",
              "      <th>ALUMNI_TYPE</th>\n",
              "      <th>UG_CLASS_YEAR</th>\n",
              "      <th>UG_SCHOOL</th>\n",
              "      <th>GRAD_DEGREE</th>\n",
              "      <th>GRAD_CLASS_YEAR</th>\n",
              "      <th>GRAD_SCHOOL</th>\n",
              "      <th>GENDER</th>\n",
              "      <th>MARRIED_TO_ALUM</th>\n",
              "      <th>ROTC</th>\n",
              "      <th>JC</th>\n",
              "    </tr>\n",
              "  </thead>\n",
              "  <tbody>\n",
              "    <tr>\n",
              "      <th>0</th>\n",
              "      <td>003o000000pO6zhAAC</td>\n",
              "      <td>0</td>\n",
              "      <td>0.0</td>\n",
              "      <td>Gainesville</td>\n",
              "      <td>FL</td>\n",
              "      <td>32605-6400</td>\n",
              "      <td>NaN</td>\n",
              "      <td>Graduate</td>\n",
              "      <td>1969</td>\n",
              "      <td>NaN</td>\n",
              "      <td>MS</td>\n",
              "      <td>1969.0</td>\n",
              "      <td>College of Arts and Sci (Sci)</td>\n",
              "      <td>M</td>\n",
              "      <td>N</td>\n",
              "      <td>0</td>\n",
              "      <td>0</td>\n",
              "    </tr>\n",
              "    <tr>\n",
              "      <th>1</th>\n",
              "      <td>003o000000pOSIxAAO</td>\n",
              "      <td>1</td>\n",
              "      <td>100.0</td>\n",
              "      <td>Pasadena</td>\n",
              "      <td>CA</td>\n",
              "      <td>91105-1515</td>\n",
              "      <td>NaN</td>\n",
              "      <td>Graduate</td>\n",
              "      <td>1968</td>\n",
              "      <td>NaN</td>\n",
              "      <td>JD</td>\n",
              "      <td>1968.0</td>\n",
              "      <td>School of Law</td>\n",
              "      <td>M</td>\n",
              "      <td>N</td>\n",
              "      <td>0</td>\n",
              "      <td>1</td>\n",
              "    </tr>\n",
              "    <tr>\n",
              "      <th>2</th>\n",
              "      <td>003o000000pNvhHAAS</td>\n",
              "      <td>4</td>\n",
              "      <td>1700.0</td>\n",
              "      <td>San Rafael</td>\n",
              "      <td>CA</td>\n",
              "      <td>94901-2478</td>\n",
              "      <td>NaN</td>\n",
              "      <td>Graduate</td>\n",
              "      <td>1964</td>\n",
              "      <td>NaN</td>\n",
              "      <td>JD</td>\n",
              "      <td>1964.0</td>\n",
              "      <td>School of Law</td>\n",
              "      <td>M</td>\n",
              "      <td>N</td>\n",
              "      <td>0</td>\n",
              "      <td>0</td>\n",
              "    </tr>\n",
              "    <tr>\n",
              "      <th>3</th>\n",
              "      <td>003o000000q0hl1AAA</td>\n",
              "      <td>0</td>\n",
              "      <td>0.0</td>\n",
              "      <td>San Antonio</td>\n",
              "      <td>TX</td>\n",
              "      <td>78232-4154</td>\n",
              "      <td>T</td>\n",
              "      <td>Undergraduate</td>\n",
              "      <td>1967</td>\n",
              "      <td>School of Nursing</td>\n",
              "      <td>NaN</td>\n",
              "      <td>NaN</td>\n",
              "      <td>NaN</td>\n",
              "      <td>F</td>\n",
              "      <td>N</td>\n",
              "      <td>0</td>\n",
              "      <td>0</td>\n",
              "    </tr>\n",
              "    <tr>\n",
              "      <th>4</th>\n",
              "      <td>003o000000pOZe9AAG</td>\n",
              "      <td>5</td>\n",
              "      <td>500.0</td>\n",
              "      <td>Westborough</td>\n",
              "      <td>MA</td>\n",
              "      <td>1581</td>\n",
              "      <td>NaN</td>\n",
              "      <td>Undergraduate</td>\n",
              "      <td>1964</td>\n",
              "      <td>School of Business</td>\n",
              "      <td>NaN</td>\n",
              "      <td>NaN</td>\n",
              "      <td>NaN</td>\n",
              "      <td>M</td>\n",
              "      <td>N</td>\n",
              "      <td>0</td>\n",
              "      <td>1</td>\n",
              "    </tr>\n",
              "  </tbody>\n",
              "</table>\n",
              "</div>"
            ],
            "text/plain": [
              "           ACCOUNT_ID  NUMBER_OF_DONATIONS  VALUE_OF_DONATIONS         CITY STATE         ZIP   MI    ALUMNI_TYPE  UG_CLASS_YEAR           UG_SCHOOL GRAD_DEGREE  GRAD_CLASS_YEAR                    GRAD_SCHOOL GENDER MARRIED_TO_ALUM  ROTC  JC\n",
              "0  003o000000pO6zhAAC                    0                 0.0  Gainesville    FL  32605-6400  NaN       Graduate           1969                 NaN          MS           1969.0  College of Arts and Sci (Sci)      M               N     0   0\n",
              "1  003o000000pOSIxAAO                    1               100.0     Pasadena    CA  91105-1515  NaN       Graduate           1968                 NaN          JD           1968.0                  School of Law      M               N     0   1\n",
              "2  003o000000pNvhHAAS                    4              1700.0   San Rafael    CA  94901-2478  NaN       Graduate           1964                 NaN          JD           1964.0                  School of Law      M               N     0   0\n",
              "3  003o000000q0hl1AAA                    0                 0.0  San Antonio    TX  78232-4154    T  Undergraduate           1967   School of Nursing         NaN              NaN                            NaN      F               N     0   0\n",
              "4  003o000000pOZe9AAG                    5               500.0  Westborough    MA        1581  NaN  Undergraduate           1964  School of Business         NaN              NaN                            NaN      M               N     0   1"
            ]
          },
          "execution_count": 6,
          "metadata": {},
          "output_type": "execute_result"
        }
      ],
      "source": [
        "df.head()"
      ]
    },
    {
      "cell_type": "code",
      "execution_count": 7,
      "metadata": {
        "id": "eFU2c1sU5Xik"
      },
      "outputs": [
        {
          "data": {
            "text/plain": [
              "ACCOUNT_ID              object\n",
              "NUMBER_OF_DONATIONS      int64\n",
              "VALUE_OF_DONATIONS     float64\n",
              "CITY                    object\n",
              "STATE                   object\n",
              "ZIP                     object\n",
              "MI                      object\n",
              "ALUMNI_TYPE             object\n",
              "UG_CLASS_YEAR            int64\n",
              "UG_SCHOOL               object\n",
              "GRAD_DEGREE             object\n",
              "GRAD_CLASS_YEAR        float64\n",
              "GRAD_SCHOOL             object\n",
              "GENDER                  object\n",
              "MARRIED_TO_ALUM         object\n",
              "ROTC                     int64\n",
              "JC                       int64\n",
              "dtype: object"
            ]
          },
          "execution_count": 7,
          "metadata": {},
          "output_type": "execute_result"
        }
      ],
      "source": [
        "df.dtypes"
      ]
    },
    {
      "cell_type": "code",
      "execution_count": 8,
      "metadata": {},
      "outputs": [
        {
          "data": {
            "text/plain": [
              "ACCOUNT_ID                  0\n",
              "NUMBER_OF_DONATIONS         0\n",
              "VALUE_OF_DONATIONS          0\n",
              "CITY                    19126\n",
              "STATE                   19126\n",
              "ZIP                     19126\n",
              "MI                     105897\n",
              "ALUMNI_TYPE                 0\n",
              "UG_CLASS_YEAR               0\n",
              "UG_SCHOOL               48557\n",
              "GRAD_DEGREE             64431\n",
              "GRAD_CLASS_YEAR         64432\n",
              "GRAD_SCHOOL             64461\n",
              "GENDER                      0\n",
              "MARRIED_TO_ALUM             0\n",
              "ROTC                        0\n",
              "JC                          0\n",
              "dtype: int64"
            ]
          },
          "execution_count": 8,
          "metadata": {},
          "output_type": "execute_result"
        }
      ],
      "source": [
        "df.isnull().sum()"
      ]
    },
    {
      "cell_type": "markdown",
      "metadata": {
        "id": "6_wnlK_mB5lR"
      },
      "source": [
        "#### Drop insignificant columns"
      ]
    },
    {
      "cell_type": "code",
      "execution_count": 9,
      "metadata": {
        "id": "PF6sF2JVCJAJ"
      },
      "outputs": [],
      "source": [
        "df = df.drop(['MI'], axis = 1)"
      ]
    },
    {
      "cell_type": "markdown",
      "metadata": {
        "id": "K7Ah3NjDCB4G"
      },
      "source": [
        "#### Unique values in each categorical column"
      ]
    },
    {
      "cell_type": "code",
      "execution_count": 10,
      "metadata": {
        "colab": {
          "base_uri": "https://localhost:8080/"
        },
        "id": "Rk-5MIZ6z9pw",
        "outputId": "02d966d9-8f59-490b-f882-20bf53ca8f10"
      },
      "outputs": [
        {
          "name": "stdout",
          "output_type": "stream",
          "text": [
            "['32605-6400' '91105-1515' '94901-2478' ... '94108-3820' '96067-1194'\n",
            " '95003-3172']\n",
            "['Graduate' 'Undergraduate']\n",
            "[nan 'School of Nursing' 'School of Business'\n",
            " 'College of Arts and Sci (Arts)' 'College of Arts and Sci (Sci)'\n",
            " 'School of Education' 'College of Prof. Studies' 'School of Law'\n",
            " 'Sch of Bus and Prof Studies' 'Continuing Education'\n",
            " 'Not used in standing']\n",
            "['MS' 'JD' nan 'MA' 'MBA' 'MPA' 'MHR' 'EDD' 'MAT' 'MSE' 'MRA' 'MSP' 'MHL'\n",
            " 'MSN' 'MPT' 'MNA' 'MMD' 'MAS' 'MAW' 'MFA' 'PSD' 'LLM' 'CRD' 'DNP' 'MGEM'\n",
            " 'MGEN' 'MPH' 'MOPA' 'PSYD' 'PSM' 'MLSL' 'MIG' 'HON' 'MSA' 'NDG' 'MNB'\n",
            " 'MCA' 'MSB' 'MPM']\n",
            "[1969. 1968. 1964.   nan 1927. 1972. 1970. 1973. 1976. 1967. 1961. 1971.\n",
            " 1974. 1962. 1963. 1965. 1958. 1950. 1980. 1997. 1949. 1979. 1966. 1960.\n",
            " 1952. 1975. 1998. 1991. 2000. 1987. 1990. 1999. 1943. 2006. 1986. 1930.\n",
            " 1977. 1981. 1982. 2002. 2005. 1945. 1978. 1985. 1994. 2004. 1992. 1984.\n",
            " 2003. 1989. 1995. 1996. 1988. 1983. 1993. 2001. 2011. 2015. 2008. 1948.\n",
            " 2010. 2012. 2020. 2007. 2009. 2013. 2018. 2017. 2014. 2016. 2021. 2019.\n",
            " 1954. 1959. 1955. 1956. 1957. 1923. 1953. 1940. 1944. 1951. 1938. 1931.\n",
            " 1936. 1928. 1937. 1935. 1946. 1947. 1939. 1925. 1941. 1932. 1915. 1918.\n",
            " 1921.]\n",
            "['College of Arts and Sci (Sci)' 'School of Law' nan 'School of Education'\n",
            " 'College of Arts and Sci (Arts)' 'School of Nursing' 'School of Business'\n",
            " 'College of Prof. Studies' 'Sch of Bus and Prof Studies'\n",
            " 'Col of Arts/Sci and Sch Mgt']\n",
            "[1969 1968 1964 1967 1959 1958 1966 1927 1971 1951 1961 1965 1953 1970\n",
            " 1952 1955 1963 1962 1946 1960 1956 1950 1928 1940 1943 1949 1935 1933\n",
            " 1957 1954 1948 1998 1972 1988 1982 1991 1990 1997 1995 1987 1979 2002\n",
            " 1999 1934 1925 1937 2006 1986 1947 1973 1936 1930 1981 1989 2005 1945\n",
            " 1974 1975 1976 1978 1977 1980 1985 1994 1983 2004 1992 1984 2003 2001\n",
            " 2000 1996 2007 1993 2011 2008 2009 2017 2010 2012 2015 2014 2013 2018\n",
            " 2020 2019 2016 2021 1921 1941 1942 1931 1938 1924 1932 1923 1919 1926\n",
            " 1939 1944 1929 1906 1922 1917 1904 1907 1855 1909 1915 1918 1920 1914]\n",
            "['M' 'F']\n",
            "['N' 'Y']\n",
            "[0 1]\n",
            "[0 1]\n"
          ]
        }
      ],
      "source": [
        "categorical_col = ['ZIP', 'ALUMNI_TYPE', 'UG_SCHOOL', 'GRAD_DEGREE', 'GRAD_CLASS_YEAR', 'GRAD_SCHOOL', 'UG_CLASS_YEAR', 'GENDER', 'MARRIED_TO_ALUM', 'ROTC', 'JC']\n",
        "for c in categorical_col:\n",
        "  print(df[c].unique())"
      ]
    },
    {
      "cell_type": "markdown",
      "metadata": {
        "id": "SCyDVHD4sXfw"
      },
      "source": [
        "#### 'ZIP'"
      ]
    },
    {
      "cell_type": "code",
      "execution_count": 11,
      "metadata": {},
      "outputs": [],
      "source": [
        "df['ZIP_V2'] = df['ZIP'].str.replace('-', '').str[3:]"
      ]
    },
    {
      "cell_type": "code",
      "execution_count": 12,
      "metadata": {},
      "outputs": [],
      "source": [
        "df['ZIP_V2'] = df['ZIP_V2'].apply(lambda x: '000000' if len(str(x)) < 6 else x)"
      ]
    },
    {
      "cell_type": "code",
      "execution_count": 13,
      "metadata": {
        "id": "SezfvSHnsctN"
      },
      "outputs": [],
      "source": [
        "df['ZIP_V2'] = df['ZIP_V2'].fillna(value = '000000')"
      ]
    },
    {
      "cell_type": "markdown",
      "metadata": {
        "id": "s860HTYj_yzU"
      },
      "source": [
        "#### 'GRAD_SCHOOL'"
      ]
    },
    {
      "cell_type": "code",
      "execution_count": 14,
      "metadata": {
        "id": "IP5jNpMm_yCI"
      },
      "outputs": [],
      "source": [
        "GRAD_SCHOOL_mapping_dict = {\n",
        "    'College of Arts and Sci (Sci)': 'Arts and Sciences',\n",
        "    'College of Arts and Sci (Arts)': 'Arts and Sciences',\n",
        "    'Col of Arts/Sci and Sch Mgt': 'Arts and Sciences',\n",
        "    'School of Law': 'Law',\n",
        "    'School of Education': 'Education',\n",
        "    'School of Nursing': 'Nursing',\n",
        "    'School of Business': 'Business and Professional Studies',\n",
        "    'Sch of Bus and Prof Studies': 'Business and Professional Studies',\n",
        "    'College of Prof. Studies': 'Business and Professional Studies',\n",
        "    np.nan: 'GRAD_SCHOOL_Unknown'\n",
        "}\n",
        "\n",
        "df['GRAD_SCHOOL'] = df['GRAD_SCHOOL'].replace(GRAD_SCHOOL_mapping_dict)\n"
      ]
    },
    {
      "cell_type": "markdown",
      "metadata": {
        "id": "0zKXJf9S5UeC"
      },
      "source": [
        "#### 'UG_SCHOOL'"
      ]
    },
    {
      "cell_type": "code",
      "execution_count": 15,
      "metadata": {
        "id": "y4QUSNVC55pI"
      },
      "outputs": [],
      "source": [
        "UG_SCHOOL_mapping_dict = {\n",
        "    'School of Nursing': 'School of Nursing',\n",
        "    'School of Business': 'Business and Professional Studies',\n",
        "    'Sch of Bus and Prof Studies': 'Business and Professional Studies',\n",
        "    'College of Arts and Sci (Arts)': 'Arts and Sciences',\n",
        "    'College of Arts and Sci (Sci)': 'Arts and Sciences',\n",
        "    'School of Education': 'School of Education',\n",
        "    'College of Prof. Studies': 'Business and Professional Studies',\n",
        "    'School of Law': 'School of Law',\n",
        "    'Continuing Education': 'Continuing Education',\n",
        "    'Not used in standing': 'Not Categorized',\n",
        "    np.nan: 'UG_SCHOOL_Unknown'\n",
        "  }\n",
        "\n",
        "df['UG_SCHOOL'] = df['UG_SCHOOL'].replace(UG_SCHOOL_mapping_dict)\n"
      ]
    },
    {
      "cell_type": "markdown",
      "metadata": {
        "id": "5iMIF-aJ_P6E"
      },
      "source": [
        "#### 'GENDER', 'MARRIED_TO_ALUM'"
      ]
    },
    {
      "cell_type": "code",
      "execution_count": 16,
      "metadata": {
        "id": "cowx9agY_Pd4"
      },
      "outputs": [],
      "source": [
        "GENDER_mapping_dict = {\n",
        "    'M': 1,\n",
        "    'F': 0,\n",
        "    np.nan: 'GENDER_Unknown'\n",
        "  }\n",
        "\n",
        "MARRIED_TO_ALUM_mapping_dict = {\n",
        "    'N': 0,\n",
        "    'Y': 1,\n",
        "    np.nan: 'MARRIED_TO_ALUM_Unknown'\n",
        "  }\n",
        "\n",
        "df['GENDER'] = df['GENDER'].replace(GENDER_mapping_dict)\n",
        "df['MARRIED_TO_ALUM'] = df['MARRIED_TO_ALUM'].replace(MARRIED_TO_ALUM_mapping_dict)"
      ]
    },
    {
      "cell_type": "markdown",
      "metadata": {
        "id": "NH6b00i3BGgi"
      },
      "source": [
        "#### 'GRAD_CLASS_YEAR', 'UG_CLASS_YEAR'"
      ]
    },
    {
      "cell_type": "code",
      "execution_count": 17,
      "metadata": {
        "id": "PNQ91oVQBOaJ"
      },
      "outputs": [],
      "source": [
        "def year_mapping(year):\n",
        "    if np.isnan(year):\n",
        "        return 'NA'\n",
        "    else:\n",
        "        return str(int(year//10 * 10)) + 's'\n",
        "\n",
        "df['UG_CLASS_YEAR'] = df['UG_CLASS_YEAR'].apply(year_mapping)\n",
        "df['GRAD_CLASS_YEAR'] = df['GRAD_CLASS_YEAR'].apply(year_mapping)"
      ]
    },
    {
      "cell_type": "markdown",
      "metadata": {
        "id": "yf5Y1G57fs39"
      },
      "source": [
        "#### 'GRAD_DEGREE'"
      ]
    },
    {
      "cell_type": "code",
      "execution_count": 18,
      "metadata": {
        "id": "Gc3vhri3fx51"
      },
      "outputs": [],
      "source": [
        "df['GRAD_DEGREE'] = df['GRAD_DEGREE'].fillna(value = 'NA')"
      ]
    },
    {
      "cell_type": "markdown",
      "metadata": {
        "id": "El8lWQX0UEo_"
      },
      "source": [
        "#### 'DONATED'"
      ]
    },
    {
      "cell_type": "code",
      "execution_count": 19,
      "metadata": {
        "id": "EA50TitIUEcL"
      },
      "outputs": [],
      "source": [
        "df['DONATED'] = df['NUMBER_OF_DONATIONS'].apply(lambda x: 1 if x > 0 else 0)"
      ]
    },
    {
      "cell_type": "markdown",
      "metadata": {},
      "source": [
        "#### 'AVERAGE_DONATIONS'"
      ]
    },
    {
      "cell_type": "code",
      "execution_count": 20,
      "metadata": {},
      "outputs": [],
      "source": [
        "df['AVERAGE_DONATIONS'] = df['VALUE_OF_DONATIONS'] / df['NUMBER_OF_DONATIONS']\n"
      ]
    },
    {
      "cell_type": "markdown",
      "metadata": {
        "id": "QQp3jLAMC7Zp"
      },
      "source": [
        "#### Unique Values"
      ]
    },
    {
      "cell_type": "code",
      "execution_count": 21,
      "metadata": {
        "colab": {
          "base_uri": "https://localhost:8080/"
        },
        "id": "jcWHAlg6DAhf",
        "outputId": "d87be0a4-4f92-45fe-fedc-ebf8e391943f"
      },
      "outputs": [
        {
          "name": "stdout",
          "output_type": "stream",
          "text": [
            "['FL' 'CA' 'TX' 'MA' nan 'TN' 'WA' 'UT' 'NY' 'MN' 'ID' 'VA' 'NC' 'WI' 'CO'\n",
            " 'LA' 'OR' 'NV' 'NM' 'KY' 'IL' 'HI' 'MO' 'NE' 'AR' 'GA' 'AZ' 'IA' 'RI'\n",
            " 'ME' 'AK' 'DC' 'AL' 'MD' 'MT' 'CT' 'MI' 'WY' 'OK' 'NH' 'NJ' 'PA' 'VT'\n",
            " 'DE' 'OH' 'SC' 'WV' 'IN' 'MS' 'SD' 'KS' 'GU' 'AP' 'ND' 'MP' 'VI' 'AE'\n",
            " 'PR' 'AS' 'FM' 'AA']\n",
            "['Gainesville' 'Pasadena' 'San Rafael' ... 'Cambria Heights' 'Wilson'\n",
            " 'Lake View Ter']\n",
            "['056400' '051515' '012478' ... '156110' '083820' '671194']\n",
            "['Graduate' 'Undergraduate']\n",
            "['UG_SCHOOL_Unknown' 'School of Nursing'\n",
            " 'Business and Professional Studies' 'Arts and Sciences'\n",
            " 'School of Education' 'School of Law' 'Continuing Education'\n",
            " 'Not Categorized']\n",
            "['MS' 'JD' 'NA' 'MA' 'MBA' 'MPA' 'MHR' 'EDD' 'MAT' 'MSE' 'MRA' 'MSP' 'MHL'\n",
            " 'MSN' 'MPT' 'MNA' 'MMD' 'MAS' 'MAW' 'MFA' 'PSD' 'LLM' 'CRD' 'DNP' 'MGEM'\n",
            " 'MGEN' 'MPH' 'MOPA' 'PSYD' 'PSM' 'MLSL' 'MIG' 'HON' 'MSA' 'NDG' 'MNB'\n",
            " 'MCA' 'MSB' 'MPM']\n",
            "['1960s' 'NA' '1920s' '1970s' '1950s' '1980s' '1990s' '1940s' '2000s'\n",
            " '1930s' '2010s' '2020s' '1910s']\n",
            "['Arts and Sciences' 'Law' 'GRAD_SCHOOL_Unknown' 'Education' 'Nursing'\n",
            " 'Business and Professional Studies']\n",
            "['1960s' '1950s' '1920s' '1970s' '1940s' '1930s' '1990s' '1980s' '2000s'\n",
            " '2010s' '2020s' '1910s' '1900s' '1850s']\n",
            "[1 0]\n",
            "[0 1]\n",
            "[0 1]\n",
            "[0 1]\n"
          ]
        }
      ],
      "source": [
        "categorical_col = ['STATE', 'CITY', 'ZIP_V2', 'ALUMNI_TYPE', 'UG_SCHOOL', 'GRAD_DEGREE', 'GRAD_CLASS_YEAR', 'GRAD_SCHOOL', 'UG_CLASS_YEAR', 'GENDER', 'MARRIED_TO_ALUM', 'ROTC', 'JC']\n",
        "for c in categorical_col:\n",
        "  print(df[c].unique())"
      ]
    },
    {
      "cell_type": "markdown",
      "metadata": {},
      "source": [
        "#### Missing Value"
      ]
    },
    {
      "cell_type": "code",
      "execution_count": 22,
      "metadata": {},
      "outputs": [
        {
          "data": {
            "text/plain": [
              "ACCOUNT_ID                 0\n",
              "NUMBER_OF_DONATIONS        0\n",
              "VALUE_OF_DONATIONS         0\n",
              "CITY                   19126\n",
              "STATE                  19126\n",
              "ZIP                    19126\n",
              "ALUMNI_TYPE                0\n",
              "UG_CLASS_YEAR              0\n",
              "UG_SCHOOL                  0\n",
              "GRAD_DEGREE                0\n",
              "GRAD_CLASS_YEAR            0\n",
              "GRAD_SCHOOL                0\n",
              "GENDER                     0\n",
              "MARRIED_TO_ALUM            0\n",
              "ROTC                       0\n",
              "JC                         0\n",
              "ZIP_V2                     0\n",
              "DONATED                    0\n",
              "AVERAGE_DONATIONS      98620\n",
              "dtype: int64"
            ]
          },
          "execution_count": 22,
          "metadata": {},
          "output_type": "execute_result"
        }
      ],
      "source": [
        "df.isnull().sum()"
      ]
    },
    {
      "cell_type": "code",
      "execution_count": 23,
      "metadata": {},
      "outputs": [],
      "source": [
        "df['STATE'].fillna('NA', inplace=True)\n",
        "df['CITY'].fillna('NA', inplace=True)\n",
        "df['AVERAGE_DONATIONS'].fillna(0, inplace=True)"
      ]
    },
    {
      "cell_type": "markdown",
      "metadata": {},
      "source": [
        "#### Split the Data"
      ]
    },
    {
      "cell_type": "code",
      "execution_count": 24,
      "metadata": {},
      "outputs": [],
      "source": [
        "from sklearn.model_selection import train_test_split"
      ]
    },
    {
      "cell_type": "code",
      "execution_count": 25,
      "metadata": {},
      "outputs": [],
      "source": [
        "X = df.drop(['ZIP','DONATED', 'NUMBER_OF_DONATIONS', 'VALUE_OF_DONATIONS', 'ACCOUNT_ID', 'AVERAGE_DONATIONS'], axis = 1)\n",
        "Y_regression = df['VALUE_OF_DONATIONS']\n",
        "Y_classification= df['DONATED']"
      ]
    },
    {
      "cell_type": "code",
      "execution_count": 26,
      "metadata": {},
      "outputs": [],
      "source": [
        "X_train_val, X_test, Y_regression_train_val, Y_regression_test, Y_classification_train_val, Y_classification_test = train_test_split(X, Y_regression, Y_classification, test_size=0.3, random_state=30)\n",
        "X_train, X_val, Y_regression_train, Y_regression_val, Y_classification_train, Y_classification_val = train_test_split(X_train_val, Y_regression_train_val, Y_classification_train_val, test_size=0.25, random_state=30)"
      ]
    },
    {
      "cell_type": "markdown",
      "metadata": {
        "id": "GSRUMBqmthfk"
      },
      "source": [
        "#### Categorical Variable"
      ]
    },
    {
      "cell_type": "code",
      "execution_count": 27,
      "metadata": {
        "id": "LTx02eo6t7zV"
      },
      "outputs": [],
      "source": [
        "from category_encoders import CountEncoder, TargetEncoder"
      ]
    },
    {
      "cell_type": "code",
      "execution_count": 28,
      "metadata": {},
      "outputs": [],
      "source": [
        "categorical_column=['ZIP_V2', 'ALUMNI_TYPE', 'UG_SCHOOL', 'GRAD_DEGREE', 'GRAD_CLASS_YEAR', 'GRAD_SCHOOL', 'UG_CLASS_YEAR','STATE','CITY']"
      ]
    },
    {
      "cell_type": "code",
      "execution_count": 29,
      "metadata": {},
      "outputs": [],
      "source": [
        "target_encoder = TargetEncoder()\n",
        "encoder=target_encoder.fit(X_train[categorical_column], Y_classification_train)"
      ]
    },
    {
      "cell_type": "code",
      "execution_count": 30,
      "metadata": {
        "id": "_BKkDUWkttqJ"
      },
      "outputs": [],
      "source": [
        "def encode_columns(encoder,X,Y):\n",
        "    encoded_columns = target_encoder.transform(X[categorical_column], Y)\n",
        "    encoded_columns = encoded_columns.rename(columns = {'ZIP_V2': 'ZIP_ENCODED', 'ALUMNI_TYPE': 'ALUMNI_TYPE_ENCODED', 'UG_SCHOOL': 'UG_SCHOOL_ENCODED', 'GRAD_DEGREE': 'GRAD_DEGREE_ENCODED', 'GRAD_CLASS_YEAR': 'GRAD_CLASS_YEAR_ENCODED', 'GRAD_SCHOOL': 'GRAD_SCHOOL_ENCODED', 'UG_CLASS_YEAR': 'UG_CLASS_YEAR_ENCODED','STATE': 'STATE_ENCODED', 'CITY': 'CITY_ENCODED'})\n",
        "\n",
        "    X_encoded = pd.concat([X, pd.DataFrame(encoded_columns)], axis = 1)\n",
        "    X_encoded = X_encoded.drop(['ZIP_V2', 'ALUMNI_TYPE', 'UG_SCHOOL', 'GRAD_DEGREE', 'GRAD_CLASS_YEAR', 'GRAD_SCHOOL', 'UG_CLASS_YEAR','STATE','CITY'], axis = 1)\n",
        "    return X_encoded"
      ]
    },
    {
      "cell_type": "code",
      "execution_count": 31,
      "metadata": {},
      "outputs": [],
      "source": [
        "X_train_encoded=encode_columns(encoder,X_train,Y_classification_train)\n",
        "X_val_encoded=encode_columns(encoder,X_val,Y_classification_val)\n",
        "X_test_encoded=encode_columns(encoder,X_test,Y_classification_test)"
      ]
    },
    {
      "cell_type": "markdown",
      "metadata": {},
      "source": [
        "### Data Exploration"
      ]
    },
    {
      "cell_type": "markdown",
      "metadata": {},
      "source": [
        "### Data Modeling"
      ]
    },
    {
      "cell_type": "code",
      "execution_count": 32,
      "metadata": {},
      "outputs": [
        {
          "name": "stderr",
          "output_type": "stream",
          "text": [
            "c:\\Users\\Reazeng\\anaconda3\\envs\\tf\\lib\\site-packages\\tqdm\\auto.py:21: TqdmWarning: IProgress not found. Please update jupyter and ipywidgets. See https://ipywidgets.readthedocs.io/en/stable/user_install.html\n",
            "  from .autonotebook import tqdm as notebook_tqdm\n"
          ]
        }
      ],
      "source": [
        "import os\n",
        "from datetime import datetime\n",
        "\n",
        "from sklearn.model_selection import cross_val_score, RandomizedSearchCV\n",
        "from sklearn.metrics import mean_squared_error, accuracy_score, confusion_matrix\n",
        "from sklearn.utils.class_weight import compute_class_weight\n",
        "\n",
        "import tensorflow as tf\n",
        "from tensorflow import keras\n",
        "\n",
        "import mlflow\n",
        "import optuna"
      ]
    },
    {
      "cell_type": "markdown",
      "metadata": {},
      "source": [
        "#### Set up MLflow"
      ]
    },
    {
      "cell_type": "code",
      "execution_count": 36,
      "metadata": {},
      "outputs": [],
      "source": [
        "TRACKING_URI = \"http://127.0.0.1:5000\"\n",
        "EXPERIMENT_NAME = \"DonationMaximization\"\n",
        "\n",
        "mlflow.set_tracking_uri(TRACKING_URI)\n",
        "\n",
        "mlflow.set_experiment(EXPERIMENT_NAME)\n",
        "\n",
        "experiment = mlflow.get_experiment_by_name(EXPERIMENT_NAME)\n",
        "if experiment is None:\n",
        "    experiment_id = mlflow.create_experiment(EXPERIMENT_NAME) \n",
        "else:\n",
        "    experiment_id = experiment.experiment_id"
      ]
    },
    {
      "cell_type": "markdown",
      "metadata": {},
      "source": [
        "#### Tune Hyperparameters"
      ]
    },
    {
      "cell_type": "code",
      "execution_count": null,
      "metadata": {},
      "outputs": [],
      "source": [
        "def objective(trial):\n",
        "\n",
        "    with mlflow.start_run(nested=True) as run:\n",
        "\n",
        "        trial_num = trial.number\n",
        "        mlflow.set_tag(\"trial_num\", trial_num)\n",
        "        \n",
        "        # Set up Options for Hyperparameters Tuning\n",
        "        units = trial.suggest_categorical(\"units\", [16, 32, 64, 128])\n",
        "        dropout_rate = trial.suggest_float(\"dropout_rate\", 0.1, 0.5, step=0.1)\n",
        "        learning_rate = trial.suggest_float(\"learning_rate\", 1e-4, 1e-1, log=True)\n",
        "        activation = trial.suggest_categorical(\"activation\", [\"relu\", \"elu\", \"tanh\"])\n",
        "        \n",
        "        # Log Parameters to MLflow\n",
        "        params = {\n",
        "            \"units\": units,\n",
        "            \"dropout_rate\": dropout_rate,\n",
        "            \"learning_rate\": learning_rate,\n",
        "            \"activation\": activation,\n",
        "            \"batch_size\": 32,\n",
        "            \"epochs\": 50,\n",
        "            \"run_id\": run.info.run_id\n",
        "        }\n",
        "        mlflow.log_params(params)\n",
        "        \n",
        "        # Model Building\n",
        "        inputs = tf.keras.Input(shape=X_train_encoded.shape[1:])\n",
        "        x = inputs\n",
        "        x = tf.keras.layers.Dense(units, activation=activation)(x)\n",
        "        x = tf.keras.layers.Dense(units, activation=activation)(x)\n",
        "        x = tf.keras.layers.Dense(units, activation=activation)(x)\n",
        "        x = tf.keras.layers.BatchNormalization()(x)\n",
        "        x = tf.keras.layers.Dropout(dropout_rate)(x)\n",
        "        \n",
        "        reg_output = tf.keras.layers.Dense(1, name='regression_output')(x)\n",
        "        class_output = tf.keras.layers.Dense(1, activation='sigmoid', name='classification_output')(x)\n",
        "        \n",
        "        model = tf.keras.Model(inputs=inputs, outputs=[reg_output, class_output])\n",
        "        \n",
        "        # Model Compilation\n",
        "        model.compile(\n",
        "            optimizer=tf.keras.optimizers.Adam(learning_rate=learning_rate),\n",
        "            loss={\n",
        "                'regression_output': 'mse',\n",
        "                'classification_output': 'binary_crossentropy'\n",
        "            },\n",
        "            metrics={\n",
        "                'regression_output': 'mae',\n",
        "                'classification_output': tf.keras.metrics.Recall(name='recall')\n",
        "            }\n",
        "        )\n",
        "        \n",
        "        # Model Training\n",
        "        class_weights = compute_class_weight('balanced', classes=Y_classification_train.unique(), y=Y_classification_train)\n",
        "        weight_map = {i: weight for i, weight in zip(Y_classification_train.unique(), class_weights)}\n",
        "        sample_weights = np.array([weight_map[y] for y in Y_classification_train])\n",
        "        \n",
        "        history = model.fit(\n",
        "            x=X_train_encoded,\n",
        "            y={'regression_output': Y_regression_train, 'classification_output': Y_classification_train},\n",
        "            validation_data=(X_val_encoded, {'regression_output': Y_regression_val, 'classification_output': Y_classification_val}),\n",
        "            epochs=50,\n",
        "            batch_size=32,\n",
        "            callbacks=[\n",
        "                tf.keras.callbacks.EarlyStopping(monitor='val_classification_output_recall', patience=5, restore_best_weights=True)\n",
        "            ],\n",
        "            verbose=0,\n",
        "            sample_weight=sample_weights\n",
        "        )\n",
        "    \n",
        "        best_recall = max(history.history['val_classification_output_recall'])\n",
        "        \n",
        "        # Log Metrics to MLflow\n",
        "        for epoch in range(len(history.history['loss'])):\n",
        "            metrics_dict = {}\n",
        "            for metric_name, values in history.history.items():\n",
        "                if epoch < len(values):\n",
        "                    metrics_dict[metric_name] = values[epoch]\n",
        "            mlflow.log_metrics(metrics_dict, step=epoch)\n",
        "            \n",
        "        # Set user attributes for best trial in parent Run\n",
        "        trial.set_user_attr(\"run_id\", run.info.run_id)\n",
        "        trial.set_user_attr(\"model_path\", f\"model_trial_{trial.number}\")    \n",
        "        for metric_name, value in metrics_dict.items():\n",
        "            trial.set_user_attr(metric_name, value)\n",
        "        \n",
        "        # Log model to MLflow\n",
        "        model_name = f\"model_trial_{trial_num}\"\n",
        "        mlflow.keras.log_model(keras_model=model, artifact_path=model_name)\n",
        "        \n",
        "        return best_recall\n",
        "\n",
        "# Optimize Hyperparameters conducting Optuna\n",
        "now = datetime.now().strftime(\"%Y%m%d_%H%M\")\n",
        "with mlflow.start_run(run_name=f\"Optuna_Optimization_{now}\") as main_run:\n",
        "    study = optuna.create_study(direction=\"maximize\", study_name=\"Optuna_Optimization\")\n",
        "    study.optimize(objective, n_trials=5) \n",
        "    \n",
        "    # Generate Best Trial Information\n",
        "    best_trial_num = study.best_trial.number\n",
        "    best_recall = study.best_value\n",
        "    \n",
        "    # Log Parameters\n",
        "    mlflow.log_params({\n",
        "        \"best_trial\": best_trial_num,\n",
        "        \"best_recall\": best_recall,\n",
        "        \"total_trials\": len(study.trials)\n",
        "    })\n",
        "    \n",
        "    mlflow.log_params({f\"best_{k}\": v for k, v in study.best_params.items()})\n",
        "    \n",
        "    # Log Metrics\n",
        "    best_metrics = {}\n",
        "    for key, value in study.best_trial.user_attrs.items():\n",
        "        if isinstance(value, (int, float)):\n",
        "            best_metrics[key] = value\n",
        "    mlflow.log_metrics(best_metrics)\n",
        "\n",
        "    \n",
        "    # Generate best trial information for loading best model\n",
        "    best_trial = study.best_trial\n",
        "    best_run_id = best_trial.user_attrs[\"run_id\"]\n",
        "    best_model_path = best_trial.user_attrs[\"model_path\"]\n",
        "    \n",
        "    # Load best model\n",
        "    best_model_uri = f\"runs:/{best_run_id}/{best_model_path}\"\n",
        "    best_model = mlflow.keras.load_model(best_model_uri)\n",
        "    mlflow.keras.log_model(\n",
        "        keras_model=best_model, \n",
        "        artifact_path=\"best_model\",\n",
        "        registered_model_name=\"DonationMaximization_MTL_Model\"\n",
        "    )"
      ]
    },
    {
      "cell_type": "markdown",
      "metadata": {},
      "source": [
        "---"
      ]
    },
    {
      "cell_type": "markdown",
      "metadata": {},
      "source": [
        "### Deploy the Model"
      ]
    },
    {
      "cell_type": "code",
      "execution_count": null,
      "metadata": {},
      "outputs": [],
      "source": [
        "import mlflow\n",
        "from mlflow.tracking import MlflowClient\n",
        "\n",
        "def Transition_to_Production(model_name):\n",
        "    \n",
        "    \"\"\"\n",
        "    Transition the best model version to production and archive others\n",
        "\n",
        "    Args:\n",
        "        model_name (str): Name of the model to transition\n",
        "    Returns:\n",
        "        best_version (str): The version of the model transitioned to production\n",
        "    \"\"\"\n",
        "\n",
        "    client = MlflowClient()\n",
        "    \n",
        "    versions = client.search_model_versions(f\"name='{model_name}'\")\n",
        "    \n",
        "    best_version = None\n",
        "    best_recall = 0\n",
        "\n",
        "    # Transition the Best Model Version to Production\n",
        "    for v in versions:\n",
        "        if v.run_id:\n",
        "            run = client.get_run(v.run_id)\n",
        "            val_recall = run.data.metrics.get(\"best_recall\", float('inf'))\n",
        "            \n",
        "            if val_recall > best_recall:\n",
        "                best_recall = val_recall\n",
        "                best_version = v.version\n",
        "    \n",
        "    if best_version:\n",
        "        client.transition_model_version_stage(\n",
        "            name=model_name,\n",
        "            version=best_version,\n",
        "            stage=\"Production\"\n",
        "        )\n",
        "        \n",
        "        # Archive other Versions\n",
        "        for v in versions:\n",
        "            if v.version != best_version and v.current_stage != \"Archived\":\n",
        "                client.transition_model_version_stage(\n",
        "                    name=model_name,\n",
        "                    version=v.version,\n",
        "                    stage=\"Archived\"\n",
        "                )\n",
        "        \n",
        "        print(f\"{best_version} ({best_recall:.6f}) transitioned to production\")\n",
        "        return best_version\n",
        "    else:\n",
        "        print(f\"No production-level model for {model_name}\")\n",
        "        return None\n",
        "    \n",
        "Transition_to_Production(\"DonationMaximization_MTL_Model\")"
      ]
    },
    {
      "cell_type": "markdown",
      "metadata": {},
      "source": [
        "---"
      ]
    },
    {
      "cell_type": "markdown",
      "metadata": {},
      "source": [
        "### Predict with Production Model"
      ]
    },
    {
      "cell_type": "code",
      "execution_count": null,
      "metadata": {},
      "outputs": [],
      "source": [
        "import mlflow\n",
        "from mlflow.tracking import MlflowClient\n",
        "\n",
        "def Predict_Production_Model(model_name, input_data):\n",
        "    \"\"\"\n",
        "    Predict with the production model version\n",
        "    \n",
        "    Args:\n",
        "        model_name (str): Name of the model\n",
        "        input_data (dataframe): Input data for prediction\n",
        "    \n",
        "    Returns:\n",
        "        dict: Prediction results.\n",
        "    \"\"\"\n",
        "    client = MlflowClient()\n",
        "    \n",
        "    # Generate the production model version\n",
        "    production_version = client.get_latest_versions(model_name, stages=[\"Production\"])[0].version\n",
        "    print(production_version)\n",
        "    \n",
        "    if not production_version:\n",
        "        print(f\"No production version found for model {model_name}\")\n",
        "    \n",
        "    # Load the model\n",
        "    model_uri = f\"models:/{model_name}/Production\"\n",
        "    model = mlflow.keras.load_model(model_uri)\n",
        "    \n",
        "    # Generate predictions\n",
        "    predictions_reg, predictions_class=model.predict(input_data)\n",
        "    \n",
        "    return model, predictions_reg, predictions_class"
      ]
    },
    {
      "cell_type": "code",
      "execution_count": 303,
      "metadata": {},
      "outputs": [
        {
          "name": "stdout",
          "output_type": "stream",
          "text": [
            "3\n",
            "<keras.engine.functional.Functional object at 0x0000014AB9FF6E00>\n",
            "(35657, 13)\n",
            "1115/1115 [==============================] - 3s 3ms/step\n"
          ]
        }
      ],
      "source": [
        "model, predictions_reg, predictions_class=Predict_Production_Model(\"DonationMaximization_MTL_Model\", X_test_encoded)"
      ]
    },
    {
      "cell_type": "markdown",
      "metadata": {
        "id": "_NQUrXjkYv9Q"
      },
      "source": [
        "### Feature importance: Shape"
      ]
    },
    {
      "cell_type": "code",
      "execution_count": 61,
      "metadata": {
        "id": "ondb6q8MYx0P"
      },
      "outputs": [],
      "source": [
        "import shap"
      ]
    },
    {
      "cell_type": "code",
      "execution_count": 62,
      "metadata": {},
      "outputs": [
        {
          "name": "stdout",
          "output_type": "stream",
          "text": [
            "4/4 [==============================] - 0s 7ms/step\n",
            "4/4 [==============================] - 0s 2ms/step\n"
          ]
        },
        {
          "name": "stderr",
          "output_type": "stream",
          "text": [
            "  0%|          | 0/100 [00:00<?, ?it/s]"
          ]
        },
        {
          "name": "stdout",
          "output_type": "stream",
          "text": [
            "1/1 [==============================] - 0s 26ms/step\n",
            "6482/6482 [==============================] - 21s 3ms/step\n"
          ]
        },
        {
          "name": "stderr",
          "output_type": "stream",
          "text": [
            "  1%|          | 1/100 [00:29<49:26, 29.96s/it]"
          ]
        },
        {
          "name": "stdout",
          "output_type": "stream",
          "text": [
            "1/1 [==============================] - 0s 57ms/step\n",
            "6482/6482 [==============================] - 17s 3ms/step\n"
          ]
        },
        {
          "name": "stderr",
          "output_type": "stream",
          "text": [
            "  2%|▏         | 2/100 [00:53<43:11, 26.44s/it]"
          ]
        },
        {
          "name": "stdout",
          "output_type": "stream",
          "text": [
            "1/1 [==============================] - 0s 35ms/step\n",
            "6482/6482 [==============================] - 17s 3ms/step\n"
          ]
        },
        {
          "name": "stderr",
          "output_type": "stream",
          "text": [
            "  3%|▎         | 3/100 [01:17<40:20, 24.96s/it]"
          ]
        },
        {
          "name": "stdout",
          "output_type": "stream",
          "text": [
            "1/1 [==============================] - 0s 41ms/step\n",
            "6482/6482 [==============================] - 17s 3ms/step\n"
          ]
        },
        {
          "name": "stderr",
          "output_type": "stream",
          "text": [
            "  4%|▍         | 4/100 [01:40<38:47, 24.24s/it]"
          ]
        },
        {
          "name": "stdout",
          "output_type": "stream",
          "text": [
            "1/1 [==============================] - 0s 40ms/step\n",
            "6482/6482 [==============================] - 18s 3ms/step\n"
          ]
        },
        {
          "name": "stderr",
          "output_type": "stream",
          "text": [
            "  5%|▌         | 5/100 [02:04<38:25, 24.27s/it]"
          ]
        },
        {
          "name": "stdout",
          "output_type": "stream",
          "text": [
            "1/1 [==============================] - 0s 46ms/step\n",
            "6482/6482 [==============================] - 17s 3ms/step\n"
          ]
        },
        {
          "name": "stderr",
          "output_type": "stream",
          "text": [
            "  6%|▌         | 6/100 [02:27<37:29, 23.93s/it]"
          ]
        },
        {
          "name": "stdout",
          "output_type": "stream",
          "text": [
            "1/1 [==============================] - 0s 47ms/step\n",
            "6482/6482 [==============================] - 17s 3ms/step\n"
          ]
        },
        {
          "name": "stderr",
          "output_type": "stream",
          "text": [
            "  7%|▋         | 7/100 [02:51<36:44, 23.70s/it]"
          ]
        },
        {
          "name": "stdout",
          "output_type": "stream",
          "text": [
            "1/1 [==============================] - 0s 42ms/step\n",
            "6482/6482 [==============================] - 17s 3ms/step\n"
          ]
        },
        {
          "name": "stderr",
          "output_type": "stream",
          "text": [
            "  8%|▊         | 8/100 [03:14<36:03, 23.51s/it]"
          ]
        },
        {
          "name": "stdout",
          "output_type": "stream",
          "text": [
            "1/1 [==============================] - 0s 30ms/step\n",
            "6482/6482 [==============================] - 16s 3ms/step\n"
          ]
        },
        {
          "name": "stderr",
          "output_type": "stream",
          "text": [
            "  9%|▉         | 9/100 [03:37<35:23, 23.34s/it]"
          ]
        },
        {
          "name": "stdout",
          "output_type": "stream",
          "text": [
            "1/1 [==============================] - 0s 43ms/step\n",
            "6482/6482 [==============================] - 17s 3ms/step\n"
          ]
        },
        {
          "name": "stderr",
          "output_type": "stream",
          "text": [
            " 10%|█         | 10/100 [04:00<34:58, 23.32s/it]"
          ]
        },
        {
          "name": "stdout",
          "output_type": "stream",
          "text": [
            "1/1 [==============================] - 0s 30ms/step\n",
            "6482/6482 [==============================] - 16s 3ms/step\n"
          ]
        },
        {
          "name": "stderr",
          "output_type": "stream",
          "text": [
            " 11%|█         | 11/100 [04:23<34:21, 23.16s/it]"
          ]
        },
        {
          "name": "stdout",
          "output_type": "stream",
          "text": [
            "1/1 [==============================] - 0s 34ms/step\n",
            "6482/6482 [==============================] - 17s 3ms/step\n"
          ]
        },
        {
          "name": "stderr",
          "output_type": "stream",
          "text": [
            " 12%|█▏        | 12/100 [04:46<34:04, 23.23s/it]"
          ]
        },
        {
          "name": "stdout",
          "output_type": "stream",
          "text": [
            "1/1 [==============================] - 0s 38ms/step\n",
            "6482/6482 [==============================] - 17s 3ms/step\n"
          ]
        },
        {
          "name": "stderr",
          "output_type": "stream",
          "text": [
            " 13%|█▎        | 13/100 [05:09<33:35, 23.17s/it]"
          ]
        },
        {
          "name": "stdout",
          "output_type": "stream",
          "text": [
            "1/1 [==============================] - 0s 52ms/step\n",
            "6482/6482 [==============================] - 17s 3ms/step\n"
          ]
        },
        {
          "name": "stderr",
          "output_type": "stream",
          "text": [
            " 14%|█▍        | 14/100 [05:32<33:07, 23.11s/it]"
          ]
        },
        {
          "name": "stdout",
          "output_type": "stream",
          "text": [
            "1/1 [==============================] - 0s 40ms/step\n",
            "6482/6482 [==============================] - 17s 3ms/step\n"
          ]
        },
        {
          "name": "stderr",
          "output_type": "stream",
          "text": [
            " 15%|█▌        | 15/100 [05:55<32:44, 23.11s/it]"
          ]
        },
        {
          "name": "stdout",
          "output_type": "stream",
          "text": [
            "1/1 [==============================] - 0s 33ms/step\n",
            "6482/6482 [==============================] - 17s 3ms/step\n"
          ]
        },
        {
          "name": "stderr",
          "output_type": "stream",
          "text": [
            " 16%|█▌        | 16/100 [06:18<32:14, 23.03s/it]"
          ]
        },
        {
          "name": "stdout",
          "output_type": "stream",
          "text": [
            "1/1 [==============================] - 0s 63ms/step\n",
            "6482/6482 [==============================] - 17s 3ms/step\n"
          ]
        },
        {
          "name": "stderr",
          "output_type": "stream",
          "text": [
            " 17%|█▋        | 17/100 [06:42<32:01, 23.15s/it]"
          ]
        },
        {
          "name": "stdout",
          "output_type": "stream",
          "text": [
            "1/1 [==============================] - 0s 26ms/step\n",
            "6482/6482 [==============================] - 17s 3ms/step\n"
          ]
        },
        {
          "name": "stderr",
          "output_type": "stream",
          "text": [
            " 18%|█▊        | 18/100 [07:05<31:45, 23.24s/it]"
          ]
        },
        {
          "name": "stdout",
          "output_type": "stream",
          "text": [
            "1/1 [==============================] - 0s 39ms/step\n",
            "6482/6482 [==============================] - 17s 3ms/step\n"
          ]
        },
        {
          "name": "stderr",
          "output_type": "stream",
          "text": [
            " 19%|█▉        | 19/100 [07:28<31:21, 23.22s/it]"
          ]
        },
        {
          "name": "stdout",
          "output_type": "stream",
          "text": [
            "1/1 [==============================] - 0s 47ms/step\n",
            "6482/6482 [==============================] - 16s 3ms/step\n"
          ]
        },
        {
          "name": "stderr",
          "output_type": "stream",
          "text": [
            " 20%|██        | 20/100 [07:51<30:55, 23.19s/it]"
          ]
        },
        {
          "name": "stdout",
          "output_type": "stream",
          "text": [
            "1/1 [==============================] - 0s 31ms/step\n",
            "6482/6482 [==============================] - 17s 3ms/step\n"
          ]
        },
        {
          "name": "stderr",
          "output_type": "stream",
          "text": [
            " 21%|██        | 21/100 [08:14<30:30, 23.17s/it]"
          ]
        },
        {
          "name": "stdout",
          "output_type": "stream",
          "text": [
            "1/1 [==============================] - 0s 38ms/step\n",
            "6482/6482 [==============================] - 17s 3ms/step\n"
          ]
        },
        {
          "name": "stderr",
          "output_type": "stream",
          "text": [
            " 22%|██▏       | 22/100 [08:38<30:06, 23.16s/it]"
          ]
        },
        {
          "name": "stdout",
          "output_type": "stream",
          "text": [
            "1/1 [==============================] - 0s 42ms/step\n",
            "6482/6482 [==============================] - 17s 3ms/step\n"
          ]
        },
        {
          "name": "stderr",
          "output_type": "stream",
          "text": [
            " 23%|██▎       | 23/100 [09:01<29:43, 23.16s/it]"
          ]
        },
        {
          "name": "stdout",
          "output_type": "stream",
          "text": [
            "1/1 [==============================] - 0s 44ms/step\n",
            "6482/6482 [==============================] - 17s 3ms/step\n"
          ]
        },
        {
          "name": "stderr",
          "output_type": "stream",
          "text": [
            " 24%|██▍       | 24/100 [09:24<29:16, 23.11s/it]"
          ]
        },
        {
          "name": "stdout",
          "output_type": "stream",
          "text": [
            "1/1 [==============================] - 0s 33ms/step\n",
            "6482/6482 [==============================] - 17s 3ms/step\n"
          ]
        },
        {
          "name": "stderr",
          "output_type": "stream",
          "text": [
            " 25%|██▌       | 25/100 [09:47<28:51, 23.08s/it]"
          ]
        },
        {
          "name": "stdout",
          "output_type": "stream",
          "text": [
            "1/1 [==============================] - 0s 46ms/step\n",
            "6482/6482 [==============================] - 17s 3ms/step\n"
          ]
        },
        {
          "name": "stderr",
          "output_type": "stream",
          "text": [
            " 26%|██▌       | 26/100 [10:10<28:27, 23.08s/it]"
          ]
        },
        {
          "name": "stdout",
          "output_type": "stream",
          "text": [
            "1/1 [==============================] - 0s 30ms/step\n",
            "6482/6482 [==============================] - 17s 3ms/step\n"
          ]
        },
        {
          "name": "stderr",
          "output_type": "stream",
          "text": [
            " 27%|██▋       | 27/100 [10:33<28:06, 23.10s/it]"
          ]
        },
        {
          "name": "stdout",
          "output_type": "stream",
          "text": [
            "1/1 [==============================] - 0s 36ms/step\n",
            "6482/6482 [==============================] - 17s 3ms/step\n"
          ]
        },
        {
          "name": "stderr",
          "output_type": "stream",
          "text": [
            " 28%|██▊       | 28/100 [10:56<27:47, 23.16s/it]"
          ]
        },
        {
          "name": "stdout",
          "output_type": "stream",
          "text": [
            "1/1 [==============================] - 0s 33ms/step\n",
            "6482/6482 [==============================] - 17s 3ms/step\n"
          ]
        },
        {
          "name": "stderr",
          "output_type": "stream",
          "text": [
            " 29%|██▉       | 29/100 [11:19<27:22, 23.13s/it]"
          ]
        },
        {
          "name": "stdout",
          "output_type": "stream",
          "text": [
            "1/1 [==============================] - 0s 35ms/step\n",
            "6482/6482 [==============================] - 17s 3ms/step\n"
          ]
        },
        {
          "name": "stderr",
          "output_type": "stream",
          "text": [
            " 30%|███       | 30/100 [11:43<27:03, 23.20s/it]"
          ]
        },
        {
          "name": "stdout",
          "output_type": "stream",
          "text": [
            "1/1 [==============================] - 0s 32ms/step\n",
            "6482/6482 [==============================] - 17s 3ms/step\n"
          ]
        },
        {
          "name": "stderr",
          "output_type": "stream",
          "text": [
            " 31%|███       | 31/100 [12:06<26:39, 23.19s/it]"
          ]
        },
        {
          "name": "stdout",
          "output_type": "stream",
          "text": [
            "1/1 [==============================] - 0s 40ms/step\n",
            "6482/6482 [==============================] - 17s 3ms/step\n"
          ]
        },
        {
          "name": "stderr",
          "output_type": "stream",
          "text": [
            " 32%|███▏      | 32/100 [12:29<26:12, 23.12s/it]"
          ]
        },
        {
          "name": "stdout",
          "output_type": "stream",
          "text": [
            "1/1 [==============================] - 0s 56ms/step\n",
            "6482/6482 [==============================] - 17s 3ms/step\n"
          ]
        },
        {
          "name": "stderr",
          "output_type": "stream",
          "text": [
            " 33%|███▎      | 33/100 [12:52<25:47, 23.10s/it]"
          ]
        },
        {
          "name": "stdout",
          "output_type": "stream",
          "text": [
            "1/1 [==============================] - 0s 45ms/step\n",
            "6482/6482 [==============================] - 17s 3ms/step\n"
          ]
        },
        {
          "name": "stderr",
          "output_type": "stream",
          "text": [
            " 34%|███▍      | 34/100 [13:15<25:23, 23.09s/it]"
          ]
        },
        {
          "name": "stdout",
          "output_type": "stream",
          "text": [
            "1/1 [==============================] - 0s 44ms/step\n",
            "6482/6482 [==============================] - 17s 3ms/step\n"
          ]
        },
        {
          "name": "stderr",
          "output_type": "stream",
          "text": [
            " 35%|███▌      | 35/100 [13:38<25:00, 23.08s/it]"
          ]
        },
        {
          "name": "stdout",
          "output_type": "stream",
          "text": [
            "1/1 [==============================] - 0s 37ms/step\n",
            "6482/6482 [==============================] - 17s 3ms/step\n"
          ]
        },
        {
          "name": "stderr",
          "output_type": "stream",
          "text": [
            " 36%|███▌      | 36/100 [14:01<24:35, 23.06s/it]"
          ]
        },
        {
          "name": "stdout",
          "output_type": "stream",
          "text": [
            "1/1 [==============================] - 0s 30ms/step\n",
            "6482/6482 [==============================] - 17s 3ms/step\n"
          ]
        },
        {
          "name": "stderr",
          "output_type": "stream",
          "text": [
            " 37%|███▋      | 37/100 [14:24<24:12, 23.05s/it]"
          ]
        },
        {
          "name": "stdout",
          "output_type": "stream",
          "text": [
            "1/1 [==============================] - 0s 32ms/step\n",
            "6482/6482 [==============================] - 17s 3ms/step\n"
          ]
        },
        {
          "name": "stderr",
          "output_type": "stream",
          "text": [
            " 38%|███▊      | 38/100 [14:47<23:48, 23.04s/it]"
          ]
        },
        {
          "name": "stdout",
          "output_type": "stream",
          "text": [
            "1/1 [==============================] - 0s 40ms/step\n",
            "6482/6482 [==============================] - 17s 3ms/step\n"
          ]
        },
        {
          "name": "stderr",
          "output_type": "stream",
          "text": [
            " 39%|███▉      | 39/100 [15:10<23:27, 23.07s/it]"
          ]
        },
        {
          "name": "stdout",
          "output_type": "stream",
          "text": [
            "1/1 [==============================] - 0s 32ms/step\n",
            "6482/6482 [==============================] - 17s 3ms/step\n"
          ]
        },
        {
          "name": "stderr",
          "output_type": "stream",
          "text": [
            " 40%|████      | 40/100 [15:34<23:11, 23.20s/it]"
          ]
        },
        {
          "name": "stdout",
          "output_type": "stream",
          "text": [
            "1/1 [==============================] - 0s 46ms/step\n",
            "6482/6482 [==============================] - 17s 3ms/step\n"
          ]
        },
        {
          "name": "stderr",
          "output_type": "stream",
          "text": [
            " 41%|████      | 41/100 [15:57<22:49, 23.21s/it]"
          ]
        },
        {
          "name": "stdout",
          "output_type": "stream",
          "text": [
            "1/1 [==============================] - 0s 39ms/step\n",
            "6482/6482 [==============================] - 17s 3ms/step\n"
          ]
        },
        {
          "name": "stderr",
          "output_type": "stream",
          "text": [
            " 42%|████▏     | 42/100 [16:20<22:23, 23.16s/it]"
          ]
        },
        {
          "name": "stdout",
          "output_type": "stream",
          "text": [
            "1/1 [==============================] - 0s 41ms/step\n",
            "6482/6482 [==============================] - 17s 3ms/step\n"
          ]
        },
        {
          "name": "stderr",
          "output_type": "stream",
          "text": [
            " 43%|████▎     | 43/100 [16:43<22:05, 23.25s/it]"
          ]
        },
        {
          "name": "stdout",
          "output_type": "stream",
          "text": [
            "1/1 [==============================] - 0s 47ms/step\n",
            "6482/6482 [==============================] - 17s 3ms/step\n"
          ]
        },
        {
          "name": "stderr",
          "output_type": "stream",
          "text": [
            " 44%|████▍     | 44/100 [17:07<21:43, 23.28s/it]"
          ]
        },
        {
          "name": "stdout",
          "output_type": "stream",
          "text": [
            "1/1 [==============================] - 0s 35ms/step\n",
            "6482/6482 [==============================] - 17s 3ms/step\n"
          ]
        },
        {
          "name": "stderr",
          "output_type": "stream",
          "text": [
            " 45%|████▌     | 45/100 [17:30<21:16, 23.21s/it]"
          ]
        },
        {
          "name": "stdout",
          "output_type": "stream",
          "text": [
            "1/1 [==============================] - 0s 42ms/step\n",
            "6482/6482 [==============================] - 17s 3ms/step\n"
          ]
        },
        {
          "name": "stderr",
          "output_type": "stream",
          "text": [
            " 46%|████▌     | 46/100 [17:53<20:49, 23.14s/it]"
          ]
        },
        {
          "name": "stdout",
          "output_type": "stream",
          "text": [
            "1/1 [==============================] - 0s 49ms/step\n",
            "6482/6482 [==============================] - 17s 3ms/step\n"
          ]
        },
        {
          "name": "stderr",
          "output_type": "stream",
          "text": [
            " 47%|████▋     | 47/100 [18:16<20:27, 23.16s/it]"
          ]
        },
        {
          "name": "stdout",
          "output_type": "stream",
          "text": [
            "1/1 [==============================] - 0s 34ms/step\n",
            "6482/6482 [==============================] - 17s 3ms/step\n"
          ]
        },
        {
          "name": "stderr",
          "output_type": "stream",
          "text": [
            " 48%|████▊     | 48/100 [18:39<20:02, 23.13s/it]"
          ]
        },
        {
          "name": "stdout",
          "output_type": "stream",
          "text": [
            "1/1 [==============================] - 0s 36ms/step\n",
            "6482/6482 [==============================] - 17s 3ms/step\n"
          ]
        },
        {
          "name": "stderr",
          "output_type": "stream",
          "text": [
            " 49%|████▉     | 49/100 [19:02<19:37, 23.09s/it]"
          ]
        },
        {
          "name": "stdout",
          "output_type": "stream",
          "text": [
            "1/1 [==============================] - 0s 33ms/step\n",
            "6482/6482 [==============================] - 17s 3ms/step\n"
          ]
        },
        {
          "name": "stderr",
          "output_type": "stream",
          "text": [
            " 50%|█████     | 50/100 [19:25<19:17, 23.14s/it]"
          ]
        },
        {
          "name": "stdout",
          "output_type": "stream",
          "text": [
            "1/1 [==============================] - 0s 46ms/step\n",
            "6482/6482 [==============================] - 17s 3ms/step\n"
          ]
        },
        {
          "name": "stderr",
          "output_type": "stream",
          "text": [
            " 51%|█████     | 51/100 [19:49<18:56, 23.19s/it]"
          ]
        },
        {
          "name": "stdout",
          "output_type": "stream",
          "text": [
            "1/1 [==============================] - 0s 35ms/step\n",
            "6482/6482 [==============================] - 17s 3ms/step\n"
          ]
        },
        {
          "name": "stderr",
          "output_type": "stream",
          "text": [
            " 52%|█████▏    | 52/100 [20:12<18:40, 23.35s/it]"
          ]
        },
        {
          "name": "stdout",
          "output_type": "stream",
          "text": [
            "1/1 [==============================] - 0s 42ms/step\n",
            "6482/6482 [==============================] - 17s 3ms/step\n"
          ]
        },
        {
          "name": "stderr",
          "output_type": "stream",
          "text": [
            " 53%|█████▎    | 53/100 [20:35<18:14, 23.29s/it]"
          ]
        },
        {
          "name": "stdout",
          "output_type": "stream",
          "text": [
            "1/1 [==============================] - 0s 36ms/step\n",
            "6482/6482 [==============================] - 17s 3ms/step\n"
          ]
        },
        {
          "name": "stderr",
          "output_type": "stream",
          "text": [
            " 54%|█████▍    | 54/100 [20:59<17:49, 23.26s/it]"
          ]
        },
        {
          "name": "stdout",
          "output_type": "stream",
          "text": [
            "1/1 [==============================] - 0s 41ms/step\n",
            "6482/6482 [==============================] - 17s 3ms/step\n"
          ]
        },
        {
          "name": "stderr",
          "output_type": "stream",
          "text": [
            " 55%|█████▌    | 55/100 [21:22<17:24, 23.22s/it]"
          ]
        },
        {
          "name": "stdout",
          "output_type": "stream",
          "text": [
            "1/1 [==============================] - 0s 32ms/step\n",
            "6482/6482 [==============================] - 17s 3ms/step\n"
          ]
        },
        {
          "name": "stderr",
          "output_type": "stream",
          "text": [
            " 56%|█████▌    | 56/100 [21:45<17:01, 23.21s/it]"
          ]
        },
        {
          "name": "stdout",
          "output_type": "stream",
          "text": [
            "1/1 [==============================] - 0s 37ms/step\n",
            "6482/6482 [==============================] - 17s 3ms/step\n"
          ]
        },
        {
          "name": "stderr",
          "output_type": "stream",
          "text": [
            " 57%|█████▋    | 57/100 [22:08<16:37, 23.20s/it]"
          ]
        },
        {
          "name": "stdout",
          "output_type": "stream",
          "text": [
            "1/1 [==============================] - 0s 38ms/step\n",
            "6482/6482 [==============================] - 17s 3ms/step\n"
          ]
        },
        {
          "name": "stderr",
          "output_type": "stream",
          "text": [
            " 58%|█████▊    | 58/100 [22:31<16:15, 23.23s/it]"
          ]
        },
        {
          "name": "stdout",
          "output_type": "stream",
          "text": [
            "1/1 [==============================] - 0s 31ms/step\n",
            "6482/6482 [==============================] - 17s 3ms/step\n"
          ]
        },
        {
          "name": "stderr",
          "output_type": "stream",
          "text": [
            " 59%|█████▉    | 59/100 [22:55<15:51, 23.21s/it]"
          ]
        },
        {
          "name": "stdout",
          "output_type": "stream",
          "text": [
            "1/1 [==============================] - 0s 38ms/step\n",
            "6482/6482 [==============================] - 17s 3ms/step\n"
          ]
        },
        {
          "name": "stderr",
          "output_type": "stream",
          "text": [
            " 60%|██████    | 60/100 [23:18<15:27, 23.19s/it]"
          ]
        },
        {
          "name": "stdout",
          "output_type": "stream",
          "text": [
            "1/1 [==============================] - 0s 47ms/step\n",
            "6482/6482 [==============================] - 17s 3ms/step\n"
          ]
        },
        {
          "name": "stderr",
          "output_type": "stream",
          "text": [
            " 61%|██████    | 61/100 [23:41<15:03, 23.18s/it]"
          ]
        },
        {
          "name": "stdout",
          "output_type": "stream",
          "text": [
            "1/1 [==============================] - 0s 33ms/step\n",
            "6482/6482 [==============================] - 17s 3ms/step\n"
          ]
        },
        {
          "name": "stderr",
          "output_type": "stream",
          "text": [
            " 62%|██████▏   | 62/100 [24:04<14:39, 23.14s/it]"
          ]
        },
        {
          "name": "stdout",
          "output_type": "stream",
          "text": [
            "1/1 [==============================] - 0s 44ms/step\n",
            "6482/6482 [==============================] - 17s 3ms/step\n"
          ]
        },
        {
          "name": "stderr",
          "output_type": "stream",
          "text": [
            " 63%|██████▎   | 63/100 [24:27<14:17, 23.17s/it]"
          ]
        },
        {
          "name": "stdout",
          "output_type": "stream",
          "text": [
            "1/1 [==============================] - 0s 34ms/step\n",
            "6482/6482 [==============================] - 17s 3ms/step\n"
          ]
        },
        {
          "name": "stderr",
          "output_type": "stream",
          "text": [
            " 64%|██████▍   | 64/100 [24:50<13:53, 23.15s/it]"
          ]
        },
        {
          "name": "stdout",
          "output_type": "stream",
          "text": [
            "1/1 [==============================] - 0s 42ms/step\n",
            "6482/6482 [==============================] - 17s 3ms/step\n"
          ]
        },
        {
          "name": "stderr",
          "output_type": "stream",
          "text": [
            " 65%|██████▌   | 65/100 [25:14<13:31, 23.18s/it]"
          ]
        },
        {
          "name": "stdout",
          "output_type": "stream",
          "text": [
            "1/1 [==============================] - 0s 34ms/step\n",
            "6482/6482 [==============================] - 17s 3ms/step\n"
          ]
        },
        {
          "name": "stderr",
          "output_type": "stream",
          "text": [
            " 66%|██████▌   | 66/100 [25:36<13:05, 23.10s/it]"
          ]
        },
        {
          "name": "stdout",
          "output_type": "stream",
          "text": [
            "1/1 [==============================] - 0s 30ms/step\n",
            "6482/6482 [==============================] - 17s 3ms/step\n"
          ]
        },
        {
          "name": "stderr",
          "output_type": "stream",
          "text": [
            " 67%|██████▋   | 67/100 [26:00<12:42, 23.10s/it]"
          ]
        },
        {
          "name": "stdout",
          "output_type": "stream",
          "text": [
            "1/1 [==============================] - 0s 40ms/step\n",
            "6482/6482 [==============================] - 17s 3ms/step\n"
          ]
        },
        {
          "name": "stderr",
          "output_type": "stream",
          "text": [
            " 68%|██████▊   | 68/100 [26:23<12:23, 23.23s/it]"
          ]
        },
        {
          "name": "stdout",
          "output_type": "stream",
          "text": [
            "1/1 [==============================] - 0s 44ms/step\n",
            "6482/6482 [==============================] - 19s 3ms/step\n"
          ]
        },
        {
          "name": "stderr",
          "output_type": "stream",
          "text": [
            " 69%|██████▉   | 69/100 [26:49<12:26, 24.09s/it]"
          ]
        },
        {
          "name": "stdout",
          "output_type": "stream",
          "text": [
            "1/1 [==============================] - 0s 43ms/step\n",
            "6482/6482 [==============================] - 17s 3ms/step\n"
          ]
        },
        {
          "name": "stderr",
          "output_type": "stream",
          "text": [
            " 70%|███████   | 70/100 [27:13<12:01, 24.05s/it]"
          ]
        },
        {
          "name": "stdout",
          "output_type": "stream",
          "text": [
            "1/1 [==============================] - 0s 32ms/step\n",
            "6482/6482 [==============================] - 17s 3ms/step\n"
          ]
        },
        {
          "name": "stderr",
          "output_type": "stream",
          "text": [
            " 71%|███████   | 71/100 [27:37<11:37, 24.04s/it]"
          ]
        },
        {
          "name": "stdout",
          "output_type": "stream",
          "text": [
            "1/1 [==============================] - 0s 41ms/step\n",
            "6482/6482 [==============================] - 17s 3ms/step\n"
          ]
        },
        {
          "name": "stderr",
          "output_type": "stream",
          "text": [
            " 72%|███████▏  | 72/100 [28:00<11:04, 23.75s/it]"
          ]
        },
        {
          "name": "stdout",
          "output_type": "stream",
          "text": [
            "1/1 [==============================] - 0s 31ms/step\n",
            "6482/6482 [==============================] - 17s 3ms/step\n"
          ]
        },
        {
          "name": "stderr",
          "output_type": "stream",
          "text": [
            " 73%|███████▎  | 73/100 [28:23<10:35, 23.53s/it]"
          ]
        },
        {
          "name": "stdout",
          "output_type": "stream",
          "text": [
            "1/1 [==============================] - 0s 42ms/step\n",
            "6482/6482 [==============================] - 17s 3ms/step\n"
          ]
        },
        {
          "name": "stderr",
          "output_type": "stream",
          "text": [
            " 74%|███████▍  | 74/100 [28:46<10:09, 23.43s/it]"
          ]
        },
        {
          "name": "stdout",
          "output_type": "stream",
          "text": [
            "1/1 [==============================] - 0s 51ms/step\n",
            "6482/6482 [==============================] - 17s 3ms/step\n"
          ]
        },
        {
          "name": "stderr",
          "output_type": "stream",
          "text": [
            " 75%|███████▌  | 75/100 [29:10<09:44, 23.40s/it]"
          ]
        },
        {
          "name": "stdout",
          "output_type": "stream",
          "text": [
            "1/1 [==============================] - 0s 33ms/step\n",
            "6482/6482 [==============================] - 17s 3ms/step\n"
          ]
        },
        {
          "name": "stderr",
          "output_type": "stream",
          "text": [
            " 76%|███████▌  | 76/100 [29:33<09:19, 23.30s/it]"
          ]
        },
        {
          "name": "stdout",
          "output_type": "stream",
          "text": [
            "1/1 [==============================] - 0s 33ms/step\n",
            "6482/6482 [==============================] - 17s 3ms/step\n"
          ]
        },
        {
          "name": "stderr",
          "output_type": "stream",
          "text": [
            " 77%|███████▋  | 77/100 [29:57<09:03, 23.62s/it]"
          ]
        },
        {
          "name": "stdout",
          "output_type": "stream",
          "text": [
            "1/1 [==============================] - 0s 39ms/step\n",
            "6482/6482 [==============================] - 17s 3ms/step\n"
          ]
        },
        {
          "name": "stderr",
          "output_type": "stream",
          "text": [
            " 78%|███████▊  | 78/100 [30:20<08:36, 23.48s/it]"
          ]
        },
        {
          "name": "stdout",
          "output_type": "stream",
          "text": [
            "1/1 [==============================] - 0s 32ms/step\n",
            "6482/6482 [==============================] - 17s 3ms/step\n"
          ]
        },
        {
          "name": "stderr",
          "output_type": "stream",
          "text": [
            " 79%|███████▉  | 79/100 [30:43<08:09, 23.31s/it]"
          ]
        },
        {
          "name": "stdout",
          "output_type": "stream",
          "text": [
            "1/1 [==============================] - 0s 35ms/step\n",
            "6482/6482 [==============================] - 17s 3ms/step\n"
          ]
        },
        {
          "name": "stderr",
          "output_type": "stream",
          "text": [
            " 80%|████████  | 80/100 [31:06<07:45, 23.27s/it]"
          ]
        },
        {
          "name": "stdout",
          "output_type": "stream",
          "text": [
            "1/1 [==============================] - 0s 37ms/step\n",
            "6482/6482 [==============================] - 17s 3ms/step\n"
          ]
        },
        {
          "name": "stderr",
          "output_type": "stream",
          "text": [
            " 81%|████████  | 81/100 [31:30<07:21, 23.23s/it]"
          ]
        },
        {
          "name": "stdout",
          "output_type": "stream",
          "text": [
            "1/1 [==============================] - 0s 41ms/step\n",
            "6482/6482 [==============================] - 17s 3ms/step\n"
          ]
        },
        {
          "name": "stderr",
          "output_type": "stream",
          "text": [
            " 82%|████████▏ | 82/100 [31:53<06:59, 23.29s/it]"
          ]
        },
        {
          "name": "stdout",
          "output_type": "stream",
          "text": [
            "1/1 [==============================] - 0s 40ms/step\n",
            "6482/6482 [==============================] - 17s 3ms/step\n"
          ]
        },
        {
          "name": "stderr",
          "output_type": "stream",
          "text": [
            " 83%|████████▎ | 83/100 [32:16<06:36, 23.32s/it]"
          ]
        },
        {
          "name": "stdout",
          "output_type": "stream",
          "text": [
            "1/1 [==============================] - 0s 31ms/step\n",
            "6482/6482 [==============================] - 17s 3ms/step\n"
          ]
        },
        {
          "name": "stderr",
          "output_type": "stream",
          "text": [
            " 84%|████████▍ | 84/100 [32:40<06:12, 23.26s/it]"
          ]
        },
        {
          "name": "stdout",
          "output_type": "stream",
          "text": [
            "1/1 [==============================] - 0s 32ms/step\n",
            "6482/6482 [==============================] - 17s 3ms/step\n"
          ]
        },
        {
          "name": "stderr",
          "output_type": "stream",
          "text": [
            " 85%|████████▌ | 85/100 [33:03<05:48, 23.22s/it]"
          ]
        },
        {
          "name": "stdout",
          "output_type": "stream",
          "text": [
            "1/1 [==============================] - 0s 40ms/step\n",
            "6482/6482 [==============================] - 17s 3ms/step\n"
          ]
        },
        {
          "name": "stderr",
          "output_type": "stream",
          "text": [
            " 86%|████████▌ | 86/100 [33:26<05:24, 23.21s/it]"
          ]
        },
        {
          "name": "stdout",
          "output_type": "stream",
          "text": [
            "1/1 [==============================] - 0s 35ms/step\n",
            "6482/6482 [==============================] - 17s 3ms/step\n"
          ]
        },
        {
          "name": "stderr",
          "output_type": "stream",
          "text": [
            " 87%|████████▋ | 87/100 [33:49<05:02, 23.27s/it]"
          ]
        },
        {
          "name": "stdout",
          "output_type": "stream",
          "text": [
            "1/1 [==============================] - 0s 42ms/step\n",
            "6482/6482 [==============================] - 17s 3ms/step\n"
          ]
        },
        {
          "name": "stderr",
          "output_type": "stream",
          "text": [
            " 88%|████████▊ | 88/100 [34:13<04:39, 23.26s/it]"
          ]
        },
        {
          "name": "stdout",
          "output_type": "stream",
          "text": [
            "1/1 [==============================] - 0s 40ms/step\n",
            "6482/6482 [==============================] - 17s 3ms/step\n"
          ]
        },
        {
          "name": "stderr",
          "output_type": "stream",
          "text": [
            " 89%|████████▉ | 89/100 [34:35<04:14, 23.17s/it]"
          ]
        },
        {
          "name": "stdout",
          "output_type": "stream",
          "text": [
            "1/1 [==============================] - 0s 41ms/step\n",
            "6482/6482 [==============================] - 17s 3ms/step\n"
          ]
        },
        {
          "name": "stderr",
          "output_type": "stream",
          "text": [
            " 90%|█████████ | 90/100 [34:59<03:51, 23.17s/it]"
          ]
        },
        {
          "name": "stdout",
          "output_type": "stream",
          "text": [
            "1/1 [==============================] - 0s 46ms/step\n",
            "6482/6482 [==============================] - 18s 3ms/step\n"
          ]
        },
        {
          "name": "stderr",
          "output_type": "stream",
          "text": [
            " 91%|█████████ | 91/100 [35:25<03:36, 24.06s/it]"
          ]
        },
        {
          "name": "stdout",
          "output_type": "stream",
          "text": [
            "1/1 [==============================] - 0s 49ms/step\n",
            "6482/6482 [==============================] - 19s 3ms/step\n"
          ]
        },
        {
          "name": "stderr",
          "output_type": "stream",
          "text": [
            " 92%|█████████▏| 92/100 [35:51<03:18, 24.76s/it]"
          ]
        },
        {
          "name": "stdout",
          "output_type": "stream",
          "text": [
            "1/1 [==============================] - 0s 29ms/step\n",
            "6482/6482 [==============================] - 18s 3ms/step\n"
          ]
        },
        {
          "name": "stderr",
          "output_type": "stream",
          "text": [
            " 93%|█████████▎| 93/100 [36:17<02:55, 25.05s/it]"
          ]
        },
        {
          "name": "stdout",
          "output_type": "stream",
          "text": [
            "1/1 [==============================] - 0s 43ms/step\n",
            "6482/6482 [==============================] - 18s 3ms/step\n"
          ]
        },
        {
          "name": "stderr",
          "output_type": "stream",
          "text": [
            " 94%|█████████▍| 94/100 [36:42<02:30, 25.13s/it]"
          ]
        },
        {
          "name": "stdout",
          "output_type": "stream",
          "text": [
            "1/1 [==============================] - 0s 41ms/step\n",
            "6482/6482 [==============================] - 17s 3ms/step\n"
          ]
        },
        {
          "name": "stderr",
          "output_type": "stream",
          "text": [
            " 95%|█████████▌| 95/100 [37:06<02:02, 24.59s/it]"
          ]
        },
        {
          "name": "stdout",
          "output_type": "stream",
          "text": [
            "1/1 [==============================] - 0s 33ms/step\n",
            "6482/6482 [==============================] - 17s 3ms/step\n"
          ]
        },
        {
          "name": "stderr",
          "output_type": "stream",
          "text": [
            " 96%|█████████▌| 96/100 [37:29<01:36, 24.16s/it]"
          ]
        },
        {
          "name": "stdout",
          "output_type": "stream",
          "text": [
            "1/1 [==============================] - 0s 40ms/step\n",
            "6482/6482 [==============================] - 18s 3ms/step\n"
          ]
        },
        {
          "name": "stderr",
          "output_type": "stream",
          "text": [
            " 97%|█████████▋| 97/100 [37:53<01:12, 24.26s/it]"
          ]
        },
        {
          "name": "stdout",
          "output_type": "stream",
          "text": [
            "1/1 [==============================] - 0s 37ms/step\n",
            "6482/6482 [==============================] - 17s 3ms/step\n"
          ]
        },
        {
          "name": "stderr",
          "output_type": "stream",
          "text": [
            " 98%|█████████▊| 98/100 [38:16<00:47, 23.95s/it]"
          ]
        },
        {
          "name": "stdout",
          "output_type": "stream",
          "text": [
            "1/1 [==============================] - 0s 33ms/step\n",
            "6482/6482 [==============================] - 17s 3ms/step\n"
          ]
        },
        {
          "name": "stderr",
          "output_type": "stream",
          "text": [
            " 99%|█████████▉| 99/100 [38:40<00:23, 23.88s/it]"
          ]
        },
        {
          "name": "stdout",
          "output_type": "stream",
          "text": [
            "1/1 [==============================] - 0s 34ms/step\n",
            "6482/6482 [==============================] - 17s 3ms/step\n"
          ]
        },
        {
          "name": "stderr",
          "output_type": "stream",
          "text": [
            "100%|██████████| 100/100 [39:05<00:00, 23.45s/it]\n",
            "  0%|          | 0/100 [00:00<?, ?it/s]"
          ]
        },
        {
          "name": "stdout",
          "output_type": "stream",
          "text": [
            "1/1 [==============================] - 0s 42ms/step\n",
            "6482/6482 [==============================] - 22s 3ms/step\n"
          ]
        },
        {
          "name": "stderr",
          "output_type": "stream",
          "text": [
            "  1%|          | 1/100 [00:31<52:02, 31.54s/it]"
          ]
        },
        {
          "name": "stdout",
          "output_type": "stream",
          "text": [
            "1/1 [==============================] - 0s 35ms/step\n",
            "6482/6482 [==============================] - 19s 3ms/step\n"
          ]
        },
        {
          "name": "stderr",
          "output_type": "stream",
          "text": [
            "  2%|▏         | 2/100 [00:57<46:17, 28.35s/it]"
          ]
        },
        {
          "name": "stdout",
          "output_type": "stream",
          "text": [
            "1/1 [==============================] - 0s 35ms/step\n",
            "6482/6482 [==============================] - 17s 3ms/step\n"
          ]
        },
        {
          "name": "stderr",
          "output_type": "stream",
          "text": [
            "  3%|▎         | 3/100 [01:21<42:23, 26.22s/it]"
          ]
        },
        {
          "name": "stdout",
          "output_type": "stream",
          "text": [
            "1/1 [==============================] - 0s 43ms/step\n",
            "6482/6482 [==============================] - 17s 3ms/step\n"
          ]
        },
        {
          "name": "stderr",
          "output_type": "stream",
          "text": [
            "  4%|▍         | 4/100 [01:44<40:11, 25.12s/it]"
          ]
        },
        {
          "name": "stdout",
          "output_type": "stream",
          "text": [
            "1/1 [==============================] - 0s 40ms/step\n",
            "6482/6482 [==============================] - 17s 3ms/step\n"
          ]
        },
        {
          "name": "stderr",
          "output_type": "stream",
          "text": [
            "  5%|▌         | 5/100 [02:08<38:44, 24.47s/it]"
          ]
        },
        {
          "name": "stdout",
          "output_type": "stream",
          "text": [
            "1/1 [==============================] - 0s 43ms/step\n",
            "6482/6482 [==============================] - 17s 3ms/step\n"
          ]
        },
        {
          "name": "stderr",
          "output_type": "stream",
          "text": [
            "  6%|▌         | 6/100 [02:31<37:42, 24.07s/it]"
          ]
        },
        {
          "name": "stdout",
          "output_type": "stream",
          "text": [
            "1/1 [==============================] - 0s 44ms/step\n",
            "6482/6482 [==============================] - 17s 3ms/step\n"
          ]
        },
        {
          "name": "stderr",
          "output_type": "stream",
          "text": [
            "  7%|▋         | 7/100 [02:54<36:55, 23.82s/it]"
          ]
        },
        {
          "name": "stdout",
          "output_type": "stream",
          "text": [
            "1/1 [==============================] - 0s 45ms/step\n",
            "6482/6482 [==============================] - 17s 3ms/step\n"
          ]
        },
        {
          "name": "stderr",
          "output_type": "stream",
          "text": [
            "  8%|▊         | 8/100 [03:17<36:10, 23.59s/it]"
          ]
        },
        {
          "name": "stdout",
          "output_type": "stream",
          "text": [
            "1/1 [==============================] - 0s 38ms/step\n",
            "6482/6482 [==============================] - 17s 3ms/step\n"
          ]
        },
        {
          "name": "stderr",
          "output_type": "stream",
          "text": [
            "  9%|▉         | 9/100 [03:41<35:37, 23.49s/it]"
          ]
        },
        {
          "name": "stdout",
          "output_type": "stream",
          "text": [
            "1/1 [==============================] - 0s 35ms/step\n",
            "6482/6482 [==============================] - 17s 3ms/step\n"
          ]
        },
        {
          "name": "stderr",
          "output_type": "stream",
          "text": [
            " 10%|█         | 10/100 [04:04<35:09, 23.44s/it]"
          ]
        },
        {
          "name": "stdout",
          "output_type": "stream",
          "text": [
            "1/1 [==============================] - 0s 44ms/step\n",
            "6482/6482 [==============================] - 17s 3ms/step\n"
          ]
        },
        {
          "name": "stderr",
          "output_type": "stream",
          "text": [
            " 11%|█         | 11/100 [04:27<34:50, 23.49s/it]"
          ]
        },
        {
          "name": "stdout",
          "output_type": "stream",
          "text": [
            "1/1 [==============================] - 0s 41ms/step\n",
            "6482/6482 [==============================] - 17s 3ms/step\n"
          ]
        },
        {
          "name": "stderr",
          "output_type": "stream",
          "text": [
            " 12%|█▏        | 12/100 [04:51<34:18, 23.39s/it]"
          ]
        },
        {
          "name": "stdout",
          "output_type": "stream",
          "text": [
            "1/1 [==============================] - 0s 48ms/step\n",
            "6482/6482 [==============================] - 17s 3ms/step\n"
          ]
        },
        {
          "name": "stderr",
          "output_type": "stream",
          "text": [
            " 13%|█▎        | 13/100 [05:14<33:51, 23.36s/it]"
          ]
        },
        {
          "name": "stdout",
          "output_type": "stream",
          "text": [
            "1/1 [==============================] - 0s 48ms/step\n",
            "6482/6482 [==============================] - 17s 3ms/step\n"
          ]
        },
        {
          "name": "stderr",
          "output_type": "stream",
          "text": [
            " 14%|█▍        | 14/100 [05:37<33:22, 23.28s/it]"
          ]
        },
        {
          "name": "stdout",
          "output_type": "stream",
          "text": [
            "1/1 [==============================] - 0s 35ms/step\n",
            "6482/6482 [==============================] - 17s 3ms/step\n"
          ]
        },
        {
          "name": "stderr",
          "output_type": "stream",
          "text": [
            " 15%|█▌        | 15/100 [06:00<33:01, 23.31s/it]"
          ]
        },
        {
          "name": "stdout",
          "output_type": "stream",
          "text": [
            "1/1 [==============================] - 0s 54ms/step\n",
            "6482/6482 [==============================] - 17s 3ms/step\n"
          ]
        },
        {
          "name": "stderr",
          "output_type": "stream",
          "text": [
            " 16%|█▌        | 16/100 [06:24<32:32, 23.24s/it]"
          ]
        },
        {
          "name": "stdout",
          "output_type": "stream",
          "text": [
            "1/1 [==============================] - 0s 43ms/step\n",
            "6482/6482 [==============================] - 17s 3ms/step\n"
          ]
        },
        {
          "name": "stderr",
          "output_type": "stream",
          "text": [
            " 17%|█▋        | 17/100 [06:47<32:10, 23.26s/it]"
          ]
        },
        {
          "name": "stdout",
          "output_type": "stream",
          "text": [
            "1/1 [==============================] - 0s 31ms/step\n",
            "6482/6482 [==============================] - 17s 3ms/step\n"
          ]
        },
        {
          "name": "stderr",
          "output_type": "stream",
          "text": [
            " 18%|█▊        | 18/100 [07:10<31:46, 23.25s/it]"
          ]
        },
        {
          "name": "stdout",
          "output_type": "stream",
          "text": [
            "1/1 [==============================] - 0s 44ms/step\n",
            "6482/6482 [==============================] - 17s 3ms/step\n"
          ]
        },
        {
          "name": "stderr",
          "output_type": "stream",
          "text": [
            " 19%|█▉        | 19/100 [07:33<31:25, 23.28s/it]"
          ]
        },
        {
          "name": "stdout",
          "output_type": "stream",
          "text": [
            "1/1 [==============================] - 0s 32ms/step\n",
            "6482/6482 [==============================] - 17s 3ms/step\n"
          ]
        },
        {
          "name": "stderr",
          "output_type": "stream",
          "text": [
            " 20%|██        | 20/100 [07:57<31:00, 23.25s/it]"
          ]
        },
        {
          "name": "stdout",
          "output_type": "stream",
          "text": [
            "1/1 [==============================] - 0s 37ms/step\n",
            "6482/6482 [==============================] - 17s 3ms/step\n"
          ]
        },
        {
          "name": "stderr",
          "output_type": "stream",
          "text": [
            " 21%|██        | 21/100 [08:20<30:39, 23.29s/it]"
          ]
        },
        {
          "name": "stdout",
          "output_type": "stream",
          "text": [
            "1/1 [==============================] - 0s 42ms/step\n",
            "6482/6482 [==============================] - 17s 3ms/step\n"
          ]
        },
        {
          "name": "stderr",
          "output_type": "stream",
          "text": [
            " 22%|██▏       | 22/100 [08:43<30:17, 23.30s/it]"
          ]
        },
        {
          "name": "stdout",
          "output_type": "stream",
          "text": [
            "1/1 [==============================] - 0s 44ms/step\n",
            "6482/6482 [==============================] - 17s 3ms/step\n"
          ]
        },
        {
          "name": "stderr",
          "output_type": "stream",
          "text": [
            " 23%|██▎       | 23/100 [09:07<30:02, 23.42s/it]"
          ]
        },
        {
          "name": "stdout",
          "output_type": "stream",
          "text": [
            "1/1 [==============================] - 0s 47ms/step\n",
            "6482/6482 [==============================] - 17s 3ms/step\n"
          ]
        },
        {
          "name": "stderr",
          "output_type": "stream",
          "text": [
            " 24%|██▍       | 24/100 [09:30<29:32, 23.33s/it]"
          ]
        },
        {
          "name": "stdout",
          "output_type": "stream",
          "text": [
            "1/1 [==============================] - 0s 32ms/step\n",
            "6482/6482 [==============================] - 17s 3ms/step\n"
          ]
        },
        {
          "name": "stderr",
          "output_type": "stream",
          "text": [
            " 25%|██▌       | 25/100 [09:53<29:08, 23.31s/it]"
          ]
        },
        {
          "name": "stdout",
          "output_type": "stream",
          "text": [
            "1/1 [==============================] - 0s 40ms/step\n",
            "6482/6482 [==============================] - 17s 3ms/step\n"
          ]
        },
        {
          "name": "stderr",
          "output_type": "stream",
          "text": [
            " 26%|██▌       | 26/100 [10:17<28:58, 23.50s/it]"
          ]
        },
        {
          "name": "stdout",
          "output_type": "stream",
          "text": [
            "1/1 [==============================] - 0s 60ms/step\n",
            "6482/6482 [==============================] - 18s 3ms/step\n"
          ]
        },
        {
          "name": "stderr",
          "output_type": "stream",
          "text": [
            " 27%|██▋       | 27/100 [10:42<29:03, 23.88s/it]"
          ]
        },
        {
          "name": "stdout",
          "output_type": "stream",
          "text": [
            "1/1 [==============================] - 0s 42ms/step\n",
            "6482/6482 [==============================] - 17s 3ms/step\n"
          ]
        },
        {
          "name": "stderr",
          "output_type": "stream",
          "text": [
            " 28%|██▊       | 28/100 [11:05<28:23, 23.66s/it]"
          ]
        },
        {
          "name": "stdout",
          "output_type": "stream",
          "text": [
            "1/1 [==============================] - 0s 42ms/step\n",
            "6482/6482 [==============================] - 17s 3ms/step\n"
          ]
        },
        {
          "name": "stderr",
          "output_type": "stream",
          "text": [
            " 29%|██▉       | 29/100 [11:29<28:00, 23.66s/it]"
          ]
        },
        {
          "name": "stdout",
          "output_type": "stream",
          "text": [
            "1/1 [==============================] - 0s 43ms/step\n",
            "6482/6482 [==============================] - 20s 3ms/step\n"
          ]
        },
        {
          "name": "stderr",
          "output_type": "stream",
          "text": [
            " 30%|███       | 30/100 [11:55<28:37, 24.54s/it]"
          ]
        },
        {
          "name": "stdout",
          "output_type": "stream",
          "text": [
            "1/1 [==============================] - 0s 44ms/step\n",
            "6482/6482 [==============================] - 17s 3ms/step\n"
          ]
        },
        {
          "name": "stderr",
          "output_type": "stream",
          "text": [
            " 31%|███       | 31/100 [12:19<27:46, 24.16s/it]"
          ]
        },
        {
          "name": "stdout",
          "output_type": "stream",
          "text": [
            "1/1 [==============================] - 0s 50ms/step\n",
            "6482/6482 [==============================] - 17s 3ms/step\n"
          ]
        },
        {
          "name": "stderr",
          "output_type": "stream",
          "text": [
            " 32%|███▏      | 32/100 [12:42<27:10, 23.98s/it]"
          ]
        },
        {
          "name": "stdout",
          "output_type": "stream",
          "text": [
            "1/1 [==============================] - 0s 37ms/step\n",
            "6482/6482 [==============================] - 18s 3ms/step\n"
          ]
        },
        {
          "name": "stderr",
          "output_type": "stream",
          "text": [
            " 33%|███▎      | 33/100 [13:07<27:00, 24.19s/it]"
          ]
        },
        {
          "name": "stdout",
          "output_type": "stream",
          "text": [
            "1/1 [==============================] - 0s 37ms/step\n",
            "6482/6482 [==============================] - 17s 3ms/step\n"
          ]
        },
        {
          "name": "stderr",
          "output_type": "stream",
          "text": [
            " 34%|███▍      | 34/100 [13:31<26:27, 24.06s/it]"
          ]
        },
        {
          "name": "stdout",
          "output_type": "stream",
          "text": [
            "1/1 [==============================] - 0s 63ms/step\n",
            "6482/6482 [==============================] - 17s 3ms/step\n"
          ]
        },
        {
          "name": "stderr",
          "output_type": "stream",
          "text": [
            " 35%|███▌      | 35/100 [13:54<25:47, 23.81s/it]"
          ]
        },
        {
          "name": "stdout",
          "output_type": "stream",
          "text": [
            "1/1 [==============================] - 0s 47ms/step\n",
            "6482/6482 [==============================] - 17s 3ms/step\n"
          ]
        },
        {
          "name": "stderr",
          "output_type": "stream",
          "text": [
            " 36%|███▌      | 36/100 [14:18<25:24, 23.83s/it]"
          ]
        },
        {
          "name": "stdout",
          "output_type": "stream",
          "text": [
            "1/1 [==============================] - 0s 44ms/step\n",
            "6482/6482 [==============================] - 17s 3ms/step\n"
          ]
        },
        {
          "name": "stderr",
          "output_type": "stream",
          "text": [
            " 37%|███▋      | 37/100 [14:41<24:52, 23.68s/it]"
          ]
        },
        {
          "name": "stdout",
          "output_type": "stream",
          "text": [
            "1/1 [==============================] - 0s 53ms/step\n",
            "6482/6482 [==============================] - 17s 3ms/step\n"
          ]
        },
        {
          "name": "stderr",
          "output_type": "stream",
          "text": [
            " 38%|███▊      | 38/100 [15:05<24:23, 23.60s/it]"
          ]
        },
        {
          "name": "stdout",
          "output_type": "stream",
          "text": [
            "1/1 [==============================] - 0s 44ms/step\n",
            "6482/6482 [==============================] - 17s 3ms/step\n"
          ]
        },
        {
          "name": "stderr",
          "output_type": "stream",
          "text": [
            " 39%|███▉      | 39/100 [15:28<23:56, 23.56s/it]"
          ]
        },
        {
          "name": "stdout",
          "output_type": "stream",
          "text": [
            "1/1 [==============================] - 0s 37ms/step\n",
            "6482/6482 [==============================] - 17s 3ms/step\n"
          ]
        },
        {
          "name": "stderr",
          "output_type": "stream",
          "text": [
            " 40%|████      | 40/100 [15:51<23:30, 23.50s/it]"
          ]
        },
        {
          "name": "stdout",
          "output_type": "stream",
          "text": [
            "1/1 [==============================] - 0s 50ms/step\n",
            "6482/6482 [==============================] - 17s 3ms/step\n"
          ]
        },
        {
          "name": "stderr",
          "output_type": "stream",
          "text": [
            " 41%|████      | 41/100 [16:15<23:06, 23.51s/it]"
          ]
        },
        {
          "name": "stdout",
          "output_type": "stream",
          "text": [
            "1/1 [==============================] - 0s 40ms/step\n",
            "6482/6482 [==============================] - 17s 3ms/step\n"
          ]
        },
        {
          "name": "stderr",
          "output_type": "stream",
          "text": [
            " 42%|████▏     | 42/100 [16:38<22:42, 23.50s/it]"
          ]
        },
        {
          "name": "stdout",
          "output_type": "stream",
          "text": [
            "1/1 [==============================] - 0s 49ms/step\n",
            "6482/6482 [==============================] - 17s 3ms/step\n"
          ]
        },
        {
          "name": "stderr",
          "output_type": "stream",
          "text": [
            " 43%|████▎     | 43/100 [17:02<22:17, 23.46s/it]"
          ]
        },
        {
          "name": "stdout",
          "output_type": "stream",
          "text": [
            "1/1 [==============================] - 0s 35ms/step\n",
            "6482/6482 [==============================] - 17s 3ms/step\n"
          ]
        },
        {
          "name": "stderr",
          "output_type": "stream",
          "text": [
            " 44%|████▍     | 44/100 [17:25<21:50, 23.40s/it]"
          ]
        },
        {
          "name": "stdout",
          "output_type": "stream",
          "text": [
            "1/1 [==============================] - 0s 41ms/step\n",
            "6482/6482 [==============================] - 17s 3ms/step\n"
          ]
        },
        {
          "name": "stderr",
          "output_type": "stream",
          "text": [
            " 45%|████▌     | 45/100 [17:49<21:32, 23.50s/it]"
          ]
        },
        {
          "name": "stdout",
          "output_type": "stream",
          "text": [
            "1/1 [==============================] - 0s 41ms/step\n",
            "6482/6482 [==============================] - 17s 3ms/step\n"
          ]
        },
        {
          "name": "stderr",
          "output_type": "stream",
          "text": [
            " 46%|████▌     | 46/100 [18:13<21:23, 23.76s/it]"
          ]
        },
        {
          "name": "stdout",
          "output_type": "stream",
          "text": [
            "1/1 [==============================] - 0s 53ms/step\n",
            "6482/6482 [==============================] - 17s 3ms/step\n"
          ]
        },
        {
          "name": "stderr",
          "output_type": "stream",
          "text": [
            " 47%|████▋     | 47/100 [18:36<20:51, 23.61s/it]"
          ]
        },
        {
          "name": "stdout",
          "output_type": "stream",
          "text": [
            "1/1 [==============================] - 0s 36ms/step\n",
            "6482/6482 [==============================] - 17s 3ms/step\n"
          ]
        },
        {
          "name": "stderr",
          "output_type": "stream",
          "text": [
            " 48%|████▊     | 48/100 [19:00<20:26, 23.58s/it]"
          ]
        },
        {
          "name": "stdout",
          "output_type": "stream",
          "text": [
            "1/1 [==============================] - 0s 51ms/step\n",
            "6482/6482 [==============================] - 22s 3ms/step\n"
          ]
        },
        {
          "name": "stderr",
          "output_type": "stream",
          "text": [
            " 49%|████▉     | 49/100 [19:29<21:27, 25.24s/it]"
          ]
        },
        {
          "name": "stdout",
          "output_type": "stream",
          "text": [
            "1/1 [==============================] - 0s 56ms/step\n",
            "6482/6482 [==============================] - 17s 3ms/step\n"
          ]
        },
        {
          "name": "stderr",
          "output_type": "stream",
          "text": [
            " 50%|█████     | 50/100 [19:52<20:34, 24.69s/it]"
          ]
        },
        {
          "name": "stdout",
          "output_type": "stream",
          "text": [
            "1/1 [==============================] - 0s 36ms/step\n",
            "6482/6482 [==============================] - 17s 3ms/step\n"
          ]
        },
        {
          "name": "stderr",
          "output_type": "stream",
          "text": [
            " 51%|█████     | 51/100 [20:16<19:57, 24.44s/it]"
          ]
        },
        {
          "name": "stdout",
          "output_type": "stream",
          "text": [
            "1/1 [==============================] - 0s 51ms/step\n",
            "6482/6482 [==============================] - 17s 3ms/step\n"
          ]
        },
        {
          "name": "stderr",
          "output_type": "stream",
          "text": [
            " 52%|█████▏    | 52/100 [20:40<19:16, 24.10s/it]"
          ]
        },
        {
          "name": "stdout",
          "output_type": "stream",
          "text": [
            "1/1 [==============================] - 0s 49ms/step\n",
            "6482/6482 [==============================] - 17s 3ms/step\n"
          ]
        },
        {
          "name": "stderr",
          "output_type": "stream",
          "text": [
            " 53%|█████▎    | 53/100 [21:03<18:43, 23.90s/it]"
          ]
        },
        {
          "name": "stdout",
          "output_type": "stream",
          "text": [
            "1/1 [==============================] - 0s 37ms/step\n",
            "6482/6482 [==============================] - 17s 3ms/step\n"
          ]
        },
        {
          "name": "stderr",
          "output_type": "stream",
          "text": [
            " 54%|█████▍    | 54/100 [21:26<18:12, 23.75s/it]"
          ]
        },
        {
          "name": "stdout",
          "output_type": "stream",
          "text": [
            "1/1 [==============================] - 0s 38ms/step\n",
            "6482/6482 [==============================] - 17s 3ms/step\n"
          ]
        },
        {
          "name": "stderr",
          "output_type": "stream",
          "text": [
            " 55%|█████▌    | 55/100 [21:51<17:53, 23.85s/it]"
          ]
        },
        {
          "name": "stdout",
          "output_type": "stream",
          "text": [
            "1/1 [==============================] - 0s 38ms/step\n",
            "6482/6482 [==============================] - 17s 3ms/step\n"
          ]
        },
        {
          "name": "stderr",
          "output_type": "stream",
          "text": [
            " 56%|█████▌    | 56/100 [22:14<17:24, 23.74s/it]"
          ]
        },
        {
          "name": "stdout",
          "output_type": "stream",
          "text": [
            "1/1 [==============================] - 0s 46ms/step\n",
            "6482/6482 [==============================] - 17s 3ms/step\n"
          ]
        },
        {
          "name": "stderr",
          "output_type": "stream",
          "text": [
            " 57%|█████▋    | 57/100 [22:38<16:59, 23.70s/it]"
          ]
        },
        {
          "name": "stdout",
          "output_type": "stream",
          "text": [
            "1/1 [==============================] - 0s 40ms/step\n",
            "6482/6482 [==============================] - 17s 3ms/step\n"
          ]
        },
        {
          "name": "stderr",
          "output_type": "stream",
          "text": [
            " 58%|█████▊    | 58/100 [23:01<16:34, 23.68s/it]"
          ]
        },
        {
          "name": "stdout",
          "output_type": "stream",
          "text": [
            "1/1 [==============================] - 0s 31ms/step\n",
            "6482/6482 [==============================] - 17s 3ms/step\n"
          ]
        },
        {
          "name": "stderr",
          "output_type": "stream",
          "text": [
            " 59%|█████▉    | 59/100 [23:24<16:04, 23.52s/it]"
          ]
        },
        {
          "name": "stdout",
          "output_type": "stream",
          "text": [
            "1/1 [==============================] - 0s 50ms/step\n",
            "6482/6482 [==============================] - 17s 3ms/step\n"
          ]
        },
        {
          "name": "stderr",
          "output_type": "stream",
          "text": [
            " 60%|██████    | 60/100 [23:48<15:42, 23.56s/it]"
          ]
        },
        {
          "name": "stdout",
          "output_type": "stream",
          "text": [
            "1/1 [==============================] - 0s 44ms/step\n",
            "6482/6482 [==============================] - 17s 3ms/step\n"
          ]
        },
        {
          "name": "stderr",
          "output_type": "stream",
          "text": [
            " 61%|██████    | 61/100 [24:12<15:20, 23.60s/it]"
          ]
        },
        {
          "name": "stdout",
          "output_type": "stream",
          "text": [
            "1/1 [==============================] - 0s 43ms/step\n",
            "6482/6482 [==============================] - 17s 3ms/step\n"
          ]
        },
        {
          "name": "stderr",
          "output_type": "stream",
          "text": [
            " 62%|██████▏   | 62/100 [24:35<14:58, 23.64s/it]"
          ]
        },
        {
          "name": "stdout",
          "output_type": "stream",
          "text": [
            "1/1 [==============================] - 0s 30ms/step\n",
            "6482/6482 [==============================] - 17s 3ms/step\n"
          ]
        },
        {
          "name": "stderr",
          "output_type": "stream",
          "text": [
            " 63%|██████▎   | 63/100 [24:59<14:31, 23.56s/it]"
          ]
        },
        {
          "name": "stdout",
          "output_type": "stream",
          "text": [
            "1/1 [==============================] - 0s 45ms/step\n",
            "6482/6482 [==============================] - 17s 3ms/step\n"
          ]
        },
        {
          "name": "stderr",
          "output_type": "stream",
          "text": [
            " 64%|██████▍   | 64/100 [25:22<14:07, 23.55s/it]"
          ]
        },
        {
          "name": "stdout",
          "output_type": "stream",
          "text": [
            "1/1 [==============================] - 0s 36ms/step\n",
            "6482/6482 [==============================] - 17s 3ms/step\n"
          ]
        },
        {
          "name": "stderr",
          "output_type": "stream",
          "text": [
            " 65%|██████▌   | 65/100 [25:46<13:48, 23.68s/it]"
          ]
        },
        {
          "name": "stdout",
          "output_type": "stream",
          "text": [
            "1/1 [==============================] - 0s 38ms/step\n",
            "6482/6482 [==============================] - 17s 3ms/step\n"
          ]
        },
        {
          "name": "stderr",
          "output_type": "stream",
          "text": [
            " 66%|██████▌   | 66/100 [26:10<13:24, 23.65s/it]"
          ]
        },
        {
          "name": "stdout",
          "output_type": "stream",
          "text": [
            "1/1 [==============================] - 0s 40ms/step\n",
            "6482/6482 [==============================] - 17s 3ms/step\n"
          ]
        },
        {
          "name": "stderr",
          "output_type": "stream",
          "text": [
            " 67%|██████▋   | 67/100 [26:33<12:59, 23.62s/it]"
          ]
        },
        {
          "name": "stdout",
          "output_type": "stream",
          "text": [
            "1/1 [==============================] - 0s 50ms/step\n",
            "6482/6482 [==============================] - 17s 3ms/step\n"
          ]
        },
        {
          "name": "stderr",
          "output_type": "stream",
          "text": [
            " 68%|██████▊   | 68/100 [26:58<12:43, 23.87s/it]"
          ]
        },
        {
          "name": "stdout",
          "output_type": "stream",
          "text": [
            "1/1 [==============================] - 0s 53ms/step\n",
            "6482/6482 [==============================] - 17s 3ms/step\n"
          ]
        },
        {
          "name": "stderr",
          "output_type": "stream",
          "text": [
            " 69%|██████▉   | 69/100 [27:22<12:21, 23.91s/it]"
          ]
        },
        {
          "name": "stdout",
          "output_type": "stream",
          "text": [
            "1/1 [==============================] - 0s 52ms/step\n",
            "6482/6482 [==============================] - 17s 3ms/step\n"
          ]
        },
        {
          "name": "stderr",
          "output_type": "stream",
          "text": [
            " 70%|███████   | 70/100 [27:45<11:53, 23.77s/it]"
          ]
        },
        {
          "name": "stdout",
          "output_type": "stream",
          "text": [
            "1/1 [==============================] - 0s 40ms/step\n",
            "6482/6482 [==============================] - 17s 3ms/step\n"
          ]
        },
        {
          "name": "stderr",
          "output_type": "stream",
          "text": [
            " 71%|███████   | 71/100 [28:09<11:28, 23.73s/it]"
          ]
        },
        {
          "name": "stdout",
          "output_type": "stream",
          "text": [
            "1/1 [==============================] - 0s 37ms/step\n",
            "6482/6482 [==============================] - 17s 3ms/step\n"
          ]
        },
        {
          "name": "stderr",
          "output_type": "stream",
          "text": [
            " 72%|███████▏  | 72/100 [28:33<11:03, 23.68s/it]"
          ]
        },
        {
          "name": "stdout",
          "output_type": "stream",
          "text": [
            "1/1 [==============================] - 0s 57ms/step\n",
            "6482/6482 [==============================] - 17s 3ms/step\n"
          ]
        },
        {
          "name": "stderr",
          "output_type": "stream",
          "text": [
            " 73%|███████▎  | 73/100 [28:56<10:38, 23.65s/it]"
          ]
        },
        {
          "name": "stdout",
          "output_type": "stream",
          "text": [
            "1/1 [==============================] - 0s 43ms/step\n",
            "6482/6482 [==============================] - 17s 3ms/step\n"
          ]
        },
        {
          "name": "stderr",
          "output_type": "stream",
          "text": [
            " 74%|███████▍  | 74/100 [29:20<10:14, 23.64s/it]"
          ]
        },
        {
          "name": "stdout",
          "output_type": "stream",
          "text": [
            "1/1 [==============================] - 0s 43ms/step\n",
            "6482/6482 [==============================] - 17s 3ms/step\n"
          ]
        },
        {
          "name": "stderr",
          "output_type": "stream",
          "text": [
            " 75%|███████▌  | 75/100 [29:44<09:51, 23.67s/it]"
          ]
        },
        {
          "name": "stdout",
          "output_type": "stream",
          "text": [
            "1/1 [==============================] - 0s 41ms/step\n",
            "6482/6482 [==============================] - 17s 3ms/step\n"
          ]
        },
        {
          "name": "stderr",
          "output_type": "stream",
          "text": [
            " 76%|███████▌  | 76/100 [30:08<09:30, 23.77s/it]"
          ]
        },
        {
          "name": "stdout",
          "output_type": "stream",
          "text": [
            "1/1 [==============================] - 0s 38ms/step\n",
            "6482/6482 [==============================] - 17s 3ms/step\n"
          ]
        },
        {
          "name": "stderr",
          "output_type": "stream",
          "text": [
            " 77%|███████▋  | 77/100 [30:32<09:08, 23.85s/it]"
          ]
        },
        {
          "name": "stdout",
          "output_type": "stream",
          "text": [
            "1/1 [==============================] - 0s 39ms/step\n",
            "6482/6482 [==============================] - 17s 3ms/step\n"
          ]
        },
        {
          "name": "stderr",
          "output_type": "stream",
          "text": [
            " 78%|███████▊  | 78/100 [30:56<08:45, 23.88s/it]"
          ]
        },
        {
          "name": "stdout",
          "output_type": "stream",
          "text": [
            "1/1 [==============================] - 0s 44ms/step\n",
            "6482/6482 [==============================] - 17s 3ms/step\n"
          ]
        },
        {
          "name": "stderr",
          "output_type": "stream",
          "text": [
            " 79%|███████▉  | 79/100 [31:20<08:28, 24.19s/it]"
          ]
        },
        {
          "name": "stdout",
          "output_type": "stream",
          "text": [
            "1/1 [==============================] - 0s 56ms/step\n",
            "6482/6482 [==============================] - 17s 3ms/step\n"
          ]
        },
        {
          "name": "stderr",
          "output_type": "stream",
          "text": [
            " 80%|████████  | 80/100 [31:44<08:00, 24.02s/it]"
          ]
        },
        {
          "name": "stdout",
          "output_type": "stream",
          "text": [
            "1/1 [==============================] - 0s 43ms/step\n",
            "6482/6482 [==============================] - 18s 3ms/step\n"
          ]
        },
        {
          "name": "stderr",
          "output_type": "stream",
          "text": [
            " 81%|████████  | 81/100 [32:09<07:40, 24.22s/it]"
          ]
        },
        {
          "name": "stdout",
          "output_type": "stream",
          "text": [
            "1/1 [==============================] - 0s 48ms/step\n",
            "6482/6482 [==============================] - 17s 3ms/step\n"
          ]
        },
        {
          "name": "stderr",
          "output_type": "stream",
          "text": [
            " 82%|████████▏ | 82/100 [32:32<07:13, 24.07s/it]"
          ]
        },
        {
          "name": "stdout",
          "output_type": "stream",
          "text": [
            "1/1 [==============================] - 0s 42ms/step\n",
            "6482/6482 [==============================] - 17s 3ms/step\n"
          ]
        },
        {
          "name": "stderr",
          "output_type": "stream",
          "text": [
            " 83%|████████▎ | 83/100 [32:57<06:50, 24.18s/it]"
          ]
        },
        {
          "name": "stdout",
          "output_type": "stream",
          "text": [
            "1/1 [==============================] - 0s 46ms/step\n",
            "6482/6482 [==============================] - 17s 3ms/step\n"
          ]
        },
        {
          "name": "stderr",
          "output_type": "stream",
          "text": [
            " 84%|████████▍ | 84/100 [33:21<06:24, 24.06s/it]"
          ]
        },
        {
          "name": "stdout",
          "output_type": "stream",
          "text": [
            "1/1 [==============================] - 0s 50ms/step\n",
            "6482/6482 [==============================] - 17s 3ms/step\n"
          ]
        },
        {
          "name": "stderr",
          "output_type": "stream",
          "text": [
            " 85%|████████▌ | 85/100 [33:44<05:59, 23.98s/it]"
          ]
        },
        {
          "name": "stdout",
          "output_type": "stream",
          "text": [
            "1/1 [==============================] - 0s 42ms/step\n",
            "6482/6482 [==============================] - 17s 3ms/step\n"
          ]
        },
        {
          "name": "stderr",
          "output_type": "stream",
          "text": [
            " 86%|████████▌ | 86/100 [34:08<05:35, 23.97s/it]"
          ]
        },
        {
          "name": "stdout",
          "output_type": "stream",
          "text": [
            "1/1 [==============================] - 0s 44ms/step\n",
            "6482/6482 [==============================] - 17s 3ms/step\n"
          ]
        },
        {
          "name": "stderr",
          "output_type": "stream",
          "text": [
            " 87%|████████▋ | 87/100 [34:32<05:10, 23.86s/it]"
          ]
        },
        {
          "name": "stdout",
          "output_type": "stream",
          "text": [
            "1/1 [==============================] - 0s 43ms/step\n",
            "6482/6482 [==============================] - 17s 3ms/step\n"
          ]
        },
        {
          "name": "stderr",
          "output_type": "stream",
          "text": [
            " 88%|████████▊ | 88/100 [34:56<04:45, 23.83s/it]"
          ]
        },
        {
          "name": "stdout",
          "output_type": "stream",
          "text": [
            "1/1 [==============================] - 0s 46ms/step\n",
            "6482/6482 [==============================] - 17s 3ms/step\n"
          ]
        },
        {
          "name": "stderr",
          "output_type": "stream",
          "text": [
            " 89%|████████▉ | 89/100 [35:19<04:21, 23.77s/it]"
          ]
        },
        {
          "name": "stdout",
          "output_type": "stream",
          "text": [
            "1/1 [==============================] - 0s 38ms/step\n",
            "6482/6482 [==============================] - 17s 3ms/step\n"
          ]
        },
        {
          "name": "stderr",
          "output_type": "stream",
          "text": [
            " 90%|█████████ | 90/100 [35:43<03:56, 23.68s/it]"
          ]
        },
        {
          "name": "stdout",
          "output_type": "stream",
          "text": [
            "1/1 [==============================] - 0s 35ms/step\n",
            "6482/6482 [==============================] - 17s 3ms/step\n"
          ]
        },
        {
          "name": "stderr",
          "output_type": "stream",
          "text": [
            " 91%|█████████ | 91/100 [36:07<03:33, 23.76s/it]"
          ]
        },
        {
          "name": "stdout",
          "output_type": "stream",
          "text": [
            "1/1 [==============================] - 0s 37ms/step\n",
            "6482/6482 [==============================] - 18s 3ms/step\n"
          ]
        },
        {
          "name": "stderr",
          "output_type": "stream",
          "text": [
            " 92%|█████████▏| 92/100 [36:31<03:11, 23.90s/it]"
          ]
        },
        {
          "name": "stdout",
          "output_type": "stream",
          "text": [
            "1/1 [==============================] - 0s 41ms/step\n",
            "6482/6482 [==============================] - 17s 3ms/step\n"
          ]
        },
        {
          "name": "stderr",
          "output_type": "stream",
          "text": [
            " 93%|█████████▎| 93/100 [36:55<02:47, 23.87s/it]"
          ]
        },
        {
          "name": "stdout",
          "output_type": "stream",
          "text": [
            "1/1 [==============================] - 0s 31ms/step\n",
            "6482/6482 [==============================] - 17s 3ms/step\n"
          ]
        },
        {
          "name": "stderr",
          "output_type": "stream",
          "text": [
            " 94%|█████████▍| 94/100 [37:19<02:23, 23.87s/it]"
          ]
        },
        {
          "name": "stdout",
          "output_type": "stream",
          "text": [
            "1/1 [==============================] - 0s 40ms/step\n",
            "6482/6482 [==============================] - 17s 3ms/step\n"
          ]
        },
        {
          "name": "stderr",
          "output_type": "stream",
          "text": [
            " 95%|█████████▌| 95/100 [37:43<02:00, 24.05s/it]"
          ]
        },
        {
          "name": "stdout",
          "output_type": "stream",
          "text": [
            "1/1 [==============================] - 0s 44ms/step\n",
            "6482/6482 [==============================] - 17s 3ms/step\n"
          ]
        },
        {
          "name": "stderr",
          "output_type": "stream",
          "text": [
            " 96%|█████████▌| 96/100 [38:07<01:35, 23.97s/it]"
          ]
        },
        {
          "name": "stdout",
          "output_type": "stream",
          "text": [
            "1/1 [==============================] - 0s 36ms/step\n",
            "6482/6482 [==============================] - 17s 3ms/step\n"
          ]
        },
        {
          "name": "stderr",
          "output_type": "stream",
          "text": [
            " 97%|█████████▋| 97/100 [38:31<01:11, 23.96s/it]"
          ]
        },
        {
          "name": "stdout",
          "output_type": "stream",
          "text": [
            "1/1 [==============================] - 0s 47ms/step\n",
            "6482/6482 [==============================] - 17s 3ms/step\n"
          ]
        },
        {
          "name": "stderr",
          "output_type": "stream",
          "text": [
            " 98%|█████████▊| 98/100 [38:55<00:47, 23.91s/it]"
          ]
        },
        {
          "name": "stdout",
          "output_type": "stream",
          "text": [
            "1/1 [==============================] - 0s 43ms/step\n",
            "6482/6482 [==============================] - 17s 3ms/step\n"
          ]
        },
        {
          "name": "stderr",
          "output_type": "stream",
          "text": [
            " 99%|█████████▉| 99/100 [39:18<00:23, 23.83s/it]"
          ]
        },
        {
          "name": "stdout",
          "output_type": "stream",
          "text": [
            "1/1 [==============================] - 0s 45ms/step\n",
            "6482/6482 [==============================] - 17s 3ms/step\n"
          ]
        },
        {
          "name": "stderr",
          "output_type": "stream",
          "text": [
            "100%|██████████| 100/100 [39:42<00:00, 23.83s/it]\n"
          ]
        }
      ],
      "source": [
        "def predict_class(x):\n",
        "    prediction = best_model.predict(x)\n",
        "    return prediction[0]\n",
        "\n",
        "def predict_reg(x):\n",
        "    prediction = best_model.predict(x)\n",
        "    return prediction[1]\n",
        "\n",
        "sample_data=shap.sample(X_train_encoded, 100)\n",
        "\n",
        "explainer_class = shap.KernelExplainer(predict_class, sample_data)\n",
        "explainer_reg = shap.KernelExplainer(predict_reg, sample_data)\n",
        "\n",
        "explain_data= shap.sample(X_test_encoded, 100)\n",
        "\n",
        "shap_values_class = explainer_class.shap_values(explain_data)\n",
        "shap_values_reg = explainer_reg.shap_values(explain_data)"
      ]
    },
    {
      "cell_type": "code",
      "execution_count": 63,
      "metadata": {},
      "outputs": [
        {
          "data": {
            "image/png": "[encoded data removed]",
            "text/plain": [
              "<Figure size 800x550 with 1 Axes>"
            ]
          },
          "metadata": {},
          "output_type": "display_data"
        }
      ],
      "source": [
        "shap_values_class_s = shap_values_class.squeeze()\n",
        "shap.summary_plot(shap_values_class_s, explain_data, plot_type=\"bar\", max_display=10, show=False)"
      ]
    },
    {
      "cell_type": "code",
      "execution_count": 64,
      "metadata": {},
      "outputs": [
        {
          "data": {
            "image/png": "[encoded data removed]",
            "text/plain": [
              "<Figure size 800x550 with 1 Axes>"
            ]
          },
          "metadata": {},
          "output_type": "display_data"
        }
      ],
      "source": [
        "shap_values_reg_s = shap_values_reg.squeeze()\n",
        "shap.summary_plot(shap_values_reg_s, explain_data, plot_type=\"bar\", max_display=10, show=False)"
      ]
    },
    {
      "cell_type": "markdown",
      "metadata": {},
      "source": [
        "---"
      ]
    },
    {
      "cell_type": "code",
      "execution_count": null,
      "metadata": {},
      "outputs": [],
      "source": [
        "test_model=mlflow.keras.load_model(f\"runs:/{best_run_id}/{best_model_path}\")\n",
        "test=test_model.predict(X_test_encoded)"
      ]
    },
    {
      "cell_type": "code",
      "execution_count": null,
      "metadata": {},
      "outputs": [],
      "source": [
        "test_class=test[1]\n",
        "test_class=(test_class>0.25).astype(int)"
      ]
    },
    {
      "cell_type": "markdown",
      "metadata": {},
      "source": [
        "---"
      ]
    },
    {
      "cell_type": "markdown",
      "metadata": {
        "id": "Jul-m-hSpVAk"
      },
      "source": [
        "#### Confusion Matrix"
      ]
    },
    {
      "cell_type": "code",
      "execution_count": 82,
      "metadata": {
        "id": "wDsc3L6VpYrc"
      },
      "outputs": [],
      "source": [
        "def create_confusion_matrix(label_true, label_pred):\n",
        "    mat = confusion_matrix(label_true, label_pred)\n",
        "    plt.figure(figsize = (6, 6))\n",
        "    sns.heatmap(mat, cmap = 'Blues', alpha = 0.8, annot = True, fmt = 'd')\n",
        "    plt.xlabel('Predicted label')\n",
        "    plt.ylabel('True label')\n",
        "    plt.show()\n",
        "    return mat"
      ]
    },
    {
      "cell_type": "code",
      "execution_count": 156,
      "metadata": {
        "colab": {
          "base_uri": "https://localhost:8080/",
          "height": 542
        },
        "id": "N342-ZP6pt7i",
        "outputId": "2b935c80-d517-41d4-8a6a-c233e92aff1c"
      },
      "outputs": [
        {
          "data": {
            "image/png": "[encoded data removed]",
            "text/plain": [
              "<Figure size 600x600 with 2 Axes>"
            ]
          },
          "metadata": {},
          "output_type": "display_data"
        }
      ],
      "source": [
        "mat=create_confusion_matrix(test_class, Y_classification_test)"
      ]
    },
    {
      "cell_type": "code",
      "execution_count": 157,
      "metadata": {},
      "outputs": [
        {
          "data": {
            "text/plain": [
              "array([[20420,  2930],\n",
              "       [ 9200,  3107]], dtype=int64)"
            ]
          },
          "execution_count": 157,
          "metadata": {},
          "output_type": "execute_result"
        }
      ],
      "source": [
        "mat"
      ]
    },
    {
      "cell_type": "code",
      "execution_count": null,
      "metadata": {},
      "outputs": [],
      "source": []
    }
  ],
  "metadata": {
    "colab": {
      "provenance": []
    },
    "kernelspec": {
      "display_name": "tf",
      "language": "python",
      "name": "python3"
    },
    "language_info": {
      "codemirror_mode": {
        "name": "ipython",
        "version": 3
      },
      "file_extension": ".py",
      "mimetype": "text/x-python",
      "name": "python",
      "nbconvert_exporter": "python",
      "pygments_lexer": "ipython3",
      "version": "3.10.13"
    }
  },
  "nbformat": 4,
  "nbformat_minor": 0
}

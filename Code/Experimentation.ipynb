{
  "cells": [
    {
      "cell_type": "markdown",
      "metadata": {},
      "source": [
        "# **DL_MultiTaskLearning_DonationMaximization**"
      ]
    },
    {
      "cell_type": "code",
      "execution_count": 1,
      "metadata": {
        "id": "2UzT5FbR_0wT"
      },
      "outputs": [],
      "source": [
        "import numpy as np\n",
        "import pandas as pd\n",
        "import matplotlib.pyplot as plt\n",
        "import seaborn as sns\n",
        "%matplotlib inline\n",
        "pd.set_option('display.max_columns', None)\n",
        "pd.set_option('display.expand_frame_repr', False)\n",
        "pd.set_option('max_colwidth', None)\n",
        "pd.set_option('display.max_rows', None)"
      ]
    },
    {
      "cell_type": "markdown",
      "metadata": {
        "id": "Nzs3xJCL9SyA"
      },
      "source": [
        "### Data Preparation"
      ]
    },
    {
      "cell_type": "code",
      "execution_count": 2,
      "metadata": {},
      "outputs": [],
      "source": [
        "df = pd.read_csv('G:\\我的雲端硬碟\\GitHub_Desktop\\DL_MultiTaskLearning_DonationMaximization_\\Data\\Donar_Data.csv')"
      ]
    },
    {
      "cell_type": "code",
      "execution_count": 3,
      "metadata": {
        "id": "EM40_Ry-FA9D"
      },
      "outputs": [
        {
          "name": "stdout",
          "output_type": "stream",
          "text": [
            "<class 'pandas.core.frame.DataFrame'>\n",
            "RangeIndex: 118854 entries, 0 to 118853\n",
            "Data columns (total 17 columns):\n",
            " #   Column               Non-Null Count   Dtype  \n",
            "---  ------               --------------   -----  \n",
            " 0   ACCOUNT_ID           118854 non-null  object \n",
            " 1   NUMBER_OF_DONATIONS  118854 non-null  int64  \n",
            " 2   VALUE_OF_DONATIONS   118854 non-null  float64\n",
            " 3   CITY                 99728 non-null   object \n",
            " 4   STATE                99728 non-null   object \n",
            " 5   ZIP                  99728 non-null   object \n",
            " 6   MI                   12957 non-null   object \n",
            " 7   ALUMNI_TYPE          118854 non-null  object \n",
            " 8   UG_CLASS_YEAR        118854 non-null  int64  \n",
            " 9   UG_SCHOOL            70297 non-null   object \n",
            " 10  GRAD_DEGREE          54423 non-null   object \n",
            " 11  GRAD_CLASS_YEAR      54422 non-null   float64\n",
            " 12  GRAD_SCHOOL          54393 non-null   object \n",
            " 13  GENDER               118854 non-null  object \n",
            " 14  MARRIED_TO_ALUM      118854 non-null  object \n",
            " 15  ROTC                 118854 non-null  int64  \n",
            " 16  JC                   118854 non-null  int64  \n",
            "dtypes: float64(2), int64(4), object(11)\n",
            "memory usage: 15.4+ MB\n"
          ]
        }
      ],
      "source": [
        "df.info()"
      ]
    },
    {
      "cell_type": "code",
      "execution_count": 4,
      "metadata": {
        "colab": {
          "base_uri": "https://localhost:8080/",
          "height": 449
        },
        "id": "tm_J6nMQKdQ_",
        "outputId": "83b60a3d-425e-45da-9845-2c36f39f3b9f"
      },
      "outputs": [
        {
          "data": {
            "text/html": [
              "<div>\n",
              "<style scoped>\n",
              "    .dataframe tbody tr th:only-of-type {\n",
              "        vertical-align: middle;\n",
              "    }\n",
              "\n",
              "    .dataframe tbody tr th {\n",
              "        vertical-align: top;\n",
              "    }\n",
              "\n",
              "    .dataframe thead th {\n",
              "        text-align: right;\n",
              "    }\n",
              "</style>\n",
              "<table border=\"1\" class=\"dataframe\">\n",
              "  <thead>\n",
              "    <tr style=\"text-align: right;\">\n",
              "      <th></th>\n",
              "      <th>ACCOUNT_ID</th>\n",
              "      <th>NUMBER_OF_DONATIONS</th>\n",
              "      <th>VALUE_OF_DONATIONS</th>\n",
              "      <th>CITY</th>\n",
              "      <th>STATE</th>\n",
              "      <th>ZIP</th>\n",
              "      <th>MI</th>\n",
              "      <th>ALUMNI_TYPE</th>\n",
              "      <th>UG_CLASS_YEAR</th>\n",
              "      <th>UG_SCHOOL</th>\n",
              "      <th>GRAD_DEGREE</th>\n",
              "      <th>GRAD_CLASS_YEAR</th>\n",
              "      <th>GRAD_SCHOOL</th>\n",
              "      <th>GENDER</th>\n",
              "      <th>MARRIED_TO_ALUM</th>\n",
              "      <th>ROTC</th>\n",
              "      <th>JC</th>\n",
              "    </tr>\n",
              "  </thead>\n",
              "  <tbody>\n",
              "    <tr>\n",
              "      <th>count</th>\n",
              "      <td>118854</td>\n",
              "      <td>118854.000000</td>\n",
              "      <td>118854.000000</td>\n",
              "      <td>99728</td>\n",
              "      <td>99728</td>\n",
              "      <td>99728</td>\n",
              "      <td>12957</td>\n",
              "      <td>118854</td>\n",
              "      <td>118854.000000</td>\n",
              "      <td>70297</td>\n",
              "      <td>54423</td>\n",
              "      <td>54422.00000</td>\n",
              "      <td>54393</td>\n",
              "      <td>118854</td>\n",
              "      <td>118854</td>\n",
              "      <td>118854.000000</td>\n",
              "      <td>118854.000000</td>\n",
              "    </tr>\n",
              "    <tr>\n",
              "      <th>unique</th>\n",
              "      <td>118854</td>\n",
              "      <td>NaN</td>\n",
              "      <td>NaN</td>\n",
              "      <td>4515</td>\n",
              "      <td>60</td>\n",
              "      <td>87028</td>\n",
              "      <td>20</td>\n",
              "      <td>2</td>\n",
              "      <td>NaN</td>\n",
              "      <td>10</td>\n",
              "      <td>38</td>\n",
              "      <td>NaN</td>\n",
              "      <td>9</td>\n",
              "      <td>2</td>\n",
              "      <td>2</td>\n",
              "      <td>NaN</td>\n",
              "      <td>NaN</td>\n",
              "    </tr>\n",
              "    <tr>\n",
              "      <th>top</th>\n",
              "      <td>003o000000pO6zhAAC</td>\n",
              "      <td>NaN</td>\n",
              "      <td>NaN</td>\n",
              "      <td>San Francisco</td>\n",
              "      <td>CA</td>\n",
              "      <td>94118</td>\n",
              "      <td>L</td>\n",
              "      <td>Undergraduate</td>\n",
              "      <td>NaN</td>\n",
              "      <td>College of Arts and Sci (Arts)</td>\n",
              "      <td>MA</td>\n",
              "      <td>NaN</td>\n",
              "      <td>School of Education</td>\n",
              "      <td>F</td>\n",
              "      <td>N</td>\n",
              "      <td>NaN</td>\n",
              "      <td>NaN</td>\n",
              "    </tr>\n",
              "    <tr>\n",
              "      <th>freq</th>\n",
              "      <td>1</td>\n",
              "      <td>NaN</td>\n",
              "      <td>NaN</td>\n",
              "      <td>13763</td>\n",
              "      <td>77935</td>\n",
              "      <td>38</td>\n",
              "      <td>693</td>\n",
              "      <td>64431</td>\n",
              "      <td>NaN</td>\n",
              "      <td>24244</td>\n",
              "      <td>17376</td>\n",
              "      <td>NaN</td>\n",
              "      <td>16030</td>\n",
              "      <td>67199</td>\n",
              "      <td>115013</td>\n",
              "      <td>NaN</td>\n",
              "      <td>NaN</td>\n",
              "    </tr>\n",
              "    <tr>\n",
              "      <th>mean</th>\n",
              "      <td>NaN</td>\n",
              "      <td>0.485714</td>\n",
              "      <td>214.147586</td>\n",
              "      <td>NaN</td>\n",
              "      <td>NaN</td>\n",
              "      <td>NaN</td>\n",
              "      <td>NaN</td>\n",
              "      <td>NaN</td>\n",
              "      <td>1996.331609</td>\n",
              "      <td>NaN</td>\n",
              "      <td>NaN</td>\n",
              "      <td>1999.43736</td>\n",
              "      <td>NaN</td>\n",
              "      <td>NaN</td>\n",
              "      <td>NaN</td>\n",
              "      <td>0.051248</td>\n",
              "      <td>0.089345</td>\n",
              "    </tr>\n",
              "    <tr>\n",
              "      <th>std</th>\n",
              "      <td>NaN</td>\n",
              "      <td>1.497361</td>\n",
              "      <td>3033.199077</td>\n",
              "      <td>NaN</td>\n",
              "      <td>NaN</td>\n",
              "      <td>NaN</td>\n",
              "      <td>NaN</td>\n",
              "      <td>NaN</td>\n",
              "      <td>16.569137</td>\n",
              "      <td>NaN</td>\n",
              "      <td>NaN</td>\n",
              "      <td>14.38638</td>\n",
              "      <td>NaN</td>\n",
              "      <td>NaN</td>\n",
              "      <td>NaN</td>\n",
              "      <td>0.220504</td>\n",
              "      <td>0.285242</td>\n",
              "    </tr>\n",
              "    <tr>\n",
              "      <th>min</th>\n",
              "      <td>NaN</td>\n",
              "      <td>0.000000</td>\n",
              "      <td>0.000000</td>\n",
              "      <td>NaN</td>\n",
              "      <td>NaN</td>\n",
              "      <td>NaN</td>\n",
              "      <td>NaN</td>\n",
              "      <td>NaN</td>\n",
              "      <td>1855.000000</td>\n",
              "      <td>NaN</td>\n",
              "      <td>NaN</td>\n",
              "      <td>1915.00000</td>\n",
              "      <td>NaN</td>\n",
              "      <td>NaN</td>\n",
              "      <td>NaN</td>\n",
              "      <td>0.000000</td>\n",
              "      <td>0.000000</td>\n",
              "    </tr>\n",
              "    <tr>\n",
              "      <th>25%</th>\n",
              "      <td>NaN</td>\n",
              "      <td>0.000000</td>\n",
              "      <td>0.000000</td>\n",
              "      <td>NaN</td>\n",
              "      <td>NaN</td>\n",
              "      <td>NaN</td>\n",
              "      <td>NaN</td>\n",
              "      <td>NaN</td>\n",
              "      <td>1984.000000</td>\n",
              "      <td>NaN</td>\n",
              "      <td>NaN</td>\n",
              "      <td>1988.00000</td>\n",
              "      <td>NaN</td>\n",
              "      <td>NaN</td>\n",
              "      <td>NaN</td>\n",
              "      <td>0.000000</td>\n",
              "      <td>0.000000</td>\n",
              "    </tr>\n",
              "    <tr>\n",
              "      <th>50%</th>\n",
              "      <td>NaN</td>\n",
              "      <td>0.000000</td>\n",
              "      <td>0.000000</td>\n",
              "      <td>NaN</td>\n",
              "      <td>NaN</td>\n",
              "      <td>NaN</td>\n",
              "      <td>NaN</td>\n",
              "      <td>NaN</td>\n",
              "      <td>1998.000000</td>\n",
              "      <td>NaN</td>\n",
              "      <td>NaN</td>\n",
              "      <td>2001.00000</td>\n",
              "      <td>NaN</td>\n",
              "      <td>NaN</td>\n",
              "      <td>NaN</td>\n",
              "      <td>0.000000</td>\n",
              "      <td>0.000000</td>\n",
              "    </tr>\n",
              "    <tr>\n",
              "      <th>75%</th>\n",
              "      <td>NaN</td>\n",
              "      <td>0.000000</td>\n",
              "      <td>0.000000</td>\n",
              "      <td>NaN</td>\n",
              "      <td>NaN</td>\n",
              "      <td>NaN</td>\n",
              "      <td>NaN</td>\n",
              "      <td>NaN</td>\n",
              "      <td>2011.000000</td>\n",
              "      <td>NaN</td>\n",
              "      <td>NaN</td>\n",
              "      <td>2012.00000</td>\n",
              "      <td>NaN</td>\n",
              "      <td>NaN</td>\n",
              "      <td>NaN</td>\n",
              "      <td>0.000000</td>\n",
              "      <td>0.000000</td>\n",
              "    </tr>\n",
              "    <tr>\n",
              "      <th>max</th>\n",
              "      <td>NaN</td>\n",
              "      <td>10.000000</td>\n",
              "      <td>227900.000000</td>\n",
              "      <td>NaN</td>\n",
              "      <td>NaN</td>\n",
              "      <td>NaN</td>\n",
              "      <td>NaN</td>\n",
              "      <td>NaN</td>\n",
              "      <td>2021.000000</td>\n",
              "      <td>NaN</td>\n",
              "      <td>NaN</td>\n",
              "      <td>2021.00000</td>\n",
              "      <td>NaN</td>\n",
              "      <td>NaN</td>\n",
              "      <td>NaN</td>\n",
              "      <td>1.000000</td>\n",
              "      <td>1.000000</td>\n",
              "    </tr>\n",
              "  </tbody>\n",
              "</table>\n",
              "</div>"
            ],
            "text/plain": [
              "                ACCOUNT_ID  NUMBER_OF_DONATIONS  VALUE_OF_DONATIONS           CITY  STATE    ZIP     MI    ALUMNI_TYPE  UG_CLASS_YEAR                       UG_SCHOOL GRAD_DEGREE  GRAD_CLASS_YEAR          GRAD_SCHOOL  GENDER MARRIED_TO_ALUM           ROTC             JC\n",
              "count               118854        118854.000000       118854.000000          99728  99728  99728  12957         118854  118854.000000                           70297       54423      54422.00000                54393  118854          118854  118854.000000  118854.000000\n",
              "unique              118854                  NaN                 NaN           4515     60  87028     20              2            NaN                              10          38              NaN                    9       2               2            NaN            NaN\n",
              "top     003o000000pO6zhAAC                  NaN                 NaN  San Francisco     CA  94118      L  Undergraduate            NaN  College of Arts and Sci (Arts)          MA              NaN  School of Education       F               N            NaN            NaN\n",
              "freq                     1                  NaN                 NaN          13763  77935     38    693          64431            NaN                           24244       17376              NaN                16030   67199          115013            NaN            NaN\n",
              "mean                   NaN             0.485714          214.147586            NaN    NaN    NaN    NaN            NaN    1996.331609                             NaN         NaN       1999.43736                  NaN     NaN             NaN       0.051248       0.089345\n",
              "std                    NaN             1.497361         3033.199077            NaN    NaN    NaN    NaN            NaN      16.569137                             NaN         NaN         14.38638                  NaN     NaN             NaN       0.220504       0.285242\n",
              "min                    NaN             0.000000            0.000000            NaN    NaN    NaN    NaN            NaN    1855.000000                             NaN         NaN       1915.00000                  NaN     NaN             NaN       0.000000       0.000000\n",
              "25%                    NaN             0.000000            0.000000            NaN    NaN    NaN    NaN            NaN    1984.000000                             NaN         NaN       1988.00000                  NaN     NaN             NaN       0.000000       0.000000\n",
              "50%                    NaN             0.000000            0.000000            NaN    NaN    NaN    NaN            NaN    1998.000000                             NaN         NaN       2001.00000                  NaN     NaN             NaN       0.000000       0.000000\n",
              "75%                    NaN             0.000000            0.000000            NaN    NaN    NaN    NaN            NaN    2011.000000                             NaN         NaN       2012.00000                  NaN     NaN             NaN       0.000000       0.000000\n",
              "max                    NaN            10.000000       227900.000000            NaN    NaN    NaN    NaN            NaN    2021.000000                             NaN         NaN       2021.00000                  NaN     NaN             NaN       1.000000       1.000000"
            ]
          },
          "execution_count": 4,
          "metadata": {},
          "output_type": "execute_result"
        }
      ],
      "source": [
        "df.describe(include = 'all')"
      ]
    },
    {
      "cell_type": "code",
      "execution_count": 5,
      "metadata": {
        "id": "_LYQWDhaxee0"
      },
      "outputs": [
        {
          "data": {
            "text/html": [
              "<div>\n",
              "<style scoped>\n",
              "    .dataframe tbody tr th:only-of-type {\n",
              "        vertical-align: middle;\n",
              "    }\n",
              "\n",
              "    .dataframe tbody tr th {\n",
              "        vertical-align: top;\n",
              "    }\n",
              "\n",
              "    .dataframe thead th {\n",
              "        text-align: right;\n",
              "    }\n",
              "</style>\n",
              "<table border=\"1\" class=\"dataframe\">\n",
              "  <thead>\n",
              "    <tr style=\"text-align: right;\">\n",
              "      <th></th>\n",
              "      <th>ACCOUNT_ID</th>\n",
              "      <th>NUMBER_OF_DONATIONS</th>\n",
              "      <th>VALUE_OF_DONATIONS</th>\n",
              "      <th>CITY</th>\n",
              "      <th>STATE</th>\n",
              "      <th>ZIP</th>\n",
              "      <th>MI</th>\n",
              "      <th>ALUMNI_TYPE</th>\n",
              "      <th>UG_CLASS_YEAR</th>\n",
              "      <th>UG_SCHOOL</th>\n",
              "      <th>GRAD_DEGREE</th>\n",
              "      <th>GRAD_CLASS_YEAR</th>\n",
              "      <th>GRAD_SCHOOL</th>\n",
              "      <th>GENDER</th>\n",
              "      <th>MARRIED_TO_ALUM</th>\n",
              "      <th>ROTC</th>\n",
              "      <th>JC</th>\n",
              "    </tr>\n",
              "  </thead>\n",
              "  <tbody>\n",
              "    <tr>\n",
              "      <th>0</th>\n",
              "      <td>003o000000pO6zhAAC</td>\n",
              "      <td>0</td>\n",
              "      <td>0.0</td>\n",
              "      <td>Gainesville</td>\n",
              "      <td>FL</td>\n",
              "      <td>32605-6400</td>\n",
              "      <td>NaN</td>\n",
              "      <td>Graduate</td>\n",
              "      <td>1969</td>\n",
              "      <td>NaN</td>\n",
              "      <td>MS</td>\n",
              "      <td>1969.0</td>\n",
              "      <td>College of Arts and Sci (Sci)</td>\n",
              "      <td>M</td>\n",
              "      <td>N</td>\n",
              "      <td>0</td>\n",
              "      <td>0</td>\n",
              "    </tr>\n",
              "    <tr>\n",
              "      <th>1</th>\n",
              "      <td>003o000000pOSIxAAO</td>\n",
              "      <td>1</td>\n",
              "      <td>100.0</td>\n",
              "      <td>Pasadena</td>\n",
              "      <td>CA</td>\n",
              "      <td>91105-1515</td>\n",
              "      <td>NaN</td>\n",
              "      <td>Graduate</td>\n",
              "      <td>1968</td>\n",
              "      <td>NaN</td>\n",
              "      <td>JD</td>\n",
              "      <td>1968.0</td>\n",
              "      <td>School of Law</td>\n",
              "      <td>M</td>\n",
              "      <td>N</td>\n",
              "      <td>0</td>\n",
              "      <td>1</td>\n",
              "    </tr>\n",
              "    <tr>\n",
              "      <th>2</th>\n",
              "      <td>003o000000pNvhHAAS</td>\n",
              "      <td>4</td>\n",
              "      <td>1700.0</td>\n",
              "      <td>San Rafael</td>\n",
              "      <td>CA</td>\n",
              "      <td>94901-2478</td>\n",
              "      <td>NaN</td>\n",
              "      <td>Graduate</td>\n",
              "      <td>1964</td>\n",
              "      <td>NaN</td>\n",
              "      <td>JD</td>\n",
              "      <td>1964.0</td>\n",
              "      <td>School of Law</td>\n",
              "      <td>M</td>\n",
              "      <td>N</td>\n",
              "      <td>0</td>\n",
              "      <td>0</td>\n",
              "    </tr>\n",
              "    <tr>\n",
              "      <th>3</th>\n",
              "      <td>003o000000q0hl1AAA</td>\n",
              "      <td>0</td>\n",
              "      <td>0.0</td>\n",
              "      <td>San Antonio</td>\n",
              "      <td>TX</td>\n",
              "      <td>78232-4154</td>\n",
              "      <td>T</td>\n",
              "      <td>Undergraduate</td>\n",
              "      <td>1967</td>\n",
              "      <td>School of Nursing</td>\n",
              "      <td>NaN</td>\n",
              "      <td>NaN</td>\n",
              "      <td>NaN</td>\n",
              "      <td>F</td>\n",
              "      <td>N</td>\n",
              "      <td>0</td>\n",
              "      <td>0</td>\n",
              "    </tr>\n",
              "    <tr>\n",
              "      <th>4</th>\n",
              "      <td>003o000000pOZe9AAG</td>\n",
              "      <td>5</td>\n",
              "      <td>500.0</td>\n",
              "      <td>Westborough</td>\n",
              "      <td>MA</td>\n",
              "      <td>1581</td>\n",
              "      <td>NaN</td>\n",
              "      <td>Undergraduate</td>\n",
              "      <td>1964</td>\n",
              "      <td>School of Business</td>\n",
              "      <td>NaN</td>\n",
              "      <td>NaN</td>\n",
              "      <td>NaN</td>\n",
              "      <td>M</td>\n",
              "      <td>N</td>\n",
              "      <td>0</td>\n",
              "      <td>1</td>\n",
              "    </tr>\n",
              "  </tbody>\n",
              "</table>\n",
              "</div>"
            ],
            "text/plain": [
              "           ACCOUNT_ID  NUMBER_OF_DONATIONS  VALUE_OF_DONATIONS         CITY STATE         ZIP   MI    ALUMNI_TYPE  UG_CLASS_YEAR           UG_SCHOOL GRAD_DEGREE  GRAD_CLASS_YEAR                    GRAD_SCHOOL GENDER MARRIED_TO_ALUM  ROTC  JC\n",
              "0  003o000000pO6zhAAC                    0                 0.0  Gainesville    FL  32605-6400  NaN       Graduate           1969                 NaN          MS           1969.0  College of Arts and Sci (Sci)      M               N     0   0\n",
              "1  003o000000pOSIxAAO                    1               100.0     Pasadena    CA  91105-1515  NaN       Graduate           1968                 NaN          JD           1968.0                  School of Law      M               N     0   1\n",
              "2  003o000000pNvhHAAS                    4              1700.0   San Rafael    CA  94901-2478  NaN       Graduate           1964                 NaN          JD           1964.0                  School of Law      M               N     0   0\n",
              "3  003o000000q0hl1AAA                    0                 0.0  San Antonio    TX  78232-4154    T  Undergraduate           1967   School of Nursing         NaN              NaN                            NaN      F               N     0   0\n",
              "4  003o000000pOZe9AAG                    5               500.0  Westborough    MA        1581  NaN  Undergraduate           1964  School of Business         NaN              NaN                            NaN      M               N     0   1"
            ]
          },
          "execution_count": 5,
          "metadata": {},
          "output_type": "execute_result"
        }
      ],
      "source": [
        "df.head()"
      ]
    },
    {
      "cell_type": "code",
      "execution_count": 6,
      "metadata": {
        "id": "eFU2c1sU5Xik"
      },
      "outputs": [
        {
          "data": {
            "text/plain": [
              "ACCOUNT_ID              object\n",
              "NUMBER_OF_DONATIONS      int64\n",
              "VALUE_OF_DONATIONS     float64\n",
              "CITY                    object\n",
              "STATE                   object\n",
              "ZIP                     object\n",
              "MI                      object\n",
              "ALUMNI_TYPE             object\n",
              "UG_CLASS_YEAR            int64\n",
              "UG_SCHOOL               object\n",
              "GRAD_DEGREE             object\n",
              "GRAD_CLASS_YEAR        float64\n",
              "GRAD_SCHOOL             object\n",
              "GENDER                  object\n",
              "MARRIED_TO_ALUM         object\n",
              "ROTC                     int64\n",
              "JC                       int64\n",
              "dtype: object"
            ]
          },
          "execution_count": 6,
          "metadata": {},
          "output_type": "execute_result"
        }
      ],
      "source": [
        "df.dtypes"
      ]
    },
    {
      "cell_type": "code",
      "execution_count": 7,
      "metadata": {},
      "outputs": [
        {
          "data": {
            "text/plain": [
              "ACCOUNT_ID                  0\n",
              "NUMBER_OF_DONATIONS         0\n",
              "VALUE_OF_DONATIONS          0\n",
              "CITY                    19126\n",
              "STATE                   19126\n",
              "ZIP                     19126\n",
              "MI                     105897\n",
              "ALUMNI_TYPE                 0\n",
              "UG_CLASS_YEAR               0\n",
              "UG_SCHOOL               48557\n",
              "GRAD_DEGREE             64431\n",
              "GRAD_CLASS_YEAR         64432\n",
              "GRAD_SCHOOL             64461\n",
              "GENDER                      0\n",
              "MARRIED_TO_ALUM             0\n",
              "ROTC                        0\n",
              "JC                          0\n",
              "dtype: int64"
            ]
          },
          "execution_count": 7,
          "metadata": {},
          "output_type": "execute_result"
        }
      ],
      "source": [
        "df.isnull().sum()"
      ]
    },
    {
      "cell_type": "markdown",
      "metadata": {
        "id": "6_wnlK_mB5lR"
      },
      "source": [
        "#### Drop insignificant columns"
      ]
    },
    {
      "cell_type": "code",
      "execution_count": 8,
      "metadata": {
        "id": "PF6sF2JVCJAJ"
      },
      "outputs": [],
      "source": [
        "df = df.drop(['MI'], axis = 1)"
      ]
    },
    {
      "cell_type": "markdown",
      "metadata": {
        "id": "K7Ah3NjDCB4G"
      },
      "source": [
        "#### Unique values in each categorical column"
      ]
    },
    {
      "cell_type": "code",
      "execution_count": 9,
      "metadata": {
        "colab": {
          "base_uri": "https://localhost:8080/"
        },
        "id": "Rk-5MIZ6z9pw",
        "outputId": "02d966d9-8f59-490b-f882-20bf53ca8f10"
      },
      "outputs": [
        {
          "name": "stdout",
          "output_type": "stream",
          "text": [
            "['32605-6400' '91105-1515' '94901-2478' ... '94108-3820' '96067-1194'\n",
            " '95003-3172']\n",
            "['Graduate' 'Undergraduate']\n",
            "[nan 'School of Nursing' 'School of Business'\n",
            " 'College of Arts and Sci (Arts)' 'College of Arts and Sci (Sci)'\n",
            " 'School of Education' 'College of Prof. Studies' 'School of Law'\n",
            " 'Sch of Bus and Prof Studies' 'Continuing Education'\n",
            " 'Not used in standing']\n",
            "['MS' 'JD' nan 'MA' 'MBA' 'MPA' 'MHR' 'EDD' 'MAT' 'MSE' 'MRA' 'MSP' 'MHL'\n",
            " 'MSN' 'MPT' 'MNA' 'MMD' 'MAS' 'MAW' 'MFA' 'PSD' 'LLM' 'CRD' 'DNP' 'MGEM'\n",
            " 'MGEN' 'MPH' 'MOPA' 'PSYD' 'PSM' 'MLSL' 'MIG' 'HON' 'MSA' 'NDG' 'MNB'\n",
            " 'MCA' 'MSB' 'MPM']\n",
            "[1969. 1968. 1964.   nan 1927. 1972. 1970. 1973. 1976. 1967. 1961. 1971.\n",
            " 1974. 1962. 1963. 1965. 1958. 1950. 1980. 1997. 1949. 1979. 1966. 1960.\n",
            " 1952. 1975. 1998. 1991. 2000. 1987. 1990. 1999. 1943. 2006. 1986. 1930.\n",
            " 1977. 1981. 1982. 2002. 2005. 1945. 1978. 1985. 1994. 2004. 1992. 1984.\n",
            " 2003. 1989. 1995. 1996. 1988. 1983. 1993. 2001. 2011. 2015. 2008. 1948.\n",
            " 2010. 2012. 2020. 2007. 2009. 2013. 2018. 2017. 2014. 2016. 2021. 2019.\n",
            " 1954. 1959. 1955. 1956. 1957. 1923. 1953. 1940. 1944. 1951. 1938. 1931.\n",
            " 1936. 1928. 1937. 1935. 1946. 1947. 1939. 1925. 1941. 1932. 1915. 1918.\n",
            " 1921.]\n",
            "['College of Arts and Sci (Sci)' 'School of Law' nan 'School of Education'\n",
            " 'College of Arts and Sci (Arts)' 'School of Nursing' 'School of Business'\n",
            " 'College of Prof. Studies' 'Sch of Bus and Prof Studies'\n",
            " 'Col of Arts/Sci and Sch Mgt']\n",
            "[1969 1968 1964 1967 1959 1958 1966 1927 1971 1951 1961 1965 1953 1970\n",
            " 1952 1955 1963 1962 1946 1960 1956 1950 1928 1940 1943 1949 1935 1933\n",
            " 1957 1954 1948 1998 1972 1988 1982 1991 1990 1997 1995 1987 1979 2002\n",
            " 1999 1934 1925 1937 2006 1986 1947 1973 1936 1930 1981 1989 2005 1945\n",
            " 1974 1975 1976 1978 1977 1980 1985 1994 1983 2004 1992 1984 2003 2001\n",
            " 2000 1996 2007 1993 2011 2008 2009 2017 2010 2012 2015 2014 2013 2018\n",
            " 2020 2019 2016 2021 1921 1941 1942 1931 1938 1924 1932 1923 1919 1926\n",
            " 1939 1944 1929 1906 1922 1917 1904 1907 1855 1909 1915 1918 1920 1914]\n",
            "['M' 'F']\n",
            "['N' 'Y']\n",
            "[0 1]\n",
            "[0 1]\n"
          ]
        }
      ],
      "source": [
        "categorical_col = ['ZIP', 'ALUMNI_TYPE', 'UG_SCHOOL', 'GRAD_DEGREE', 'GRAD_CLASS_YEAR', 'GRAD_SCHOOL', 'UG_CLASS_YEAR', 'GENDER', 'MARRIED_TO_ALUM', 'ROTC', 'JC']\n",
        "for c in categorical_col:\n",
        "  print(df[c].unique())"
      ]
    },
    {
      "cell_type": "markdown",
      "metadata": {
        "id": "SCyDVHD4sXfw"
      },
      "source": [
        "#### 'ZIP'"
      ]
    },
    {
      "cell_type": "code",
      "execution_count": 10,
      "metadata": {},
      "outputs": [],
      "source": [
        "df['ZIP_V2'] = df['ZIP'].str.replace('-', '').str[3:]"
      ]
    },
    {
      "cell_type": "code",
      "execution_count": 11,
      "metadata": {},
      "outputs": [],
      "source": [
        "df['ZIP_V2'] = df['ZIP_V2'].apply(lambda x: '000000' if len(str(x)) < 6 else x)"
      ]
    },
    {
      "cell_type": "code",
      "execution_count": 12,
      "metadata": {
        "id": "SezfvSHnsctN"
      },
      "outputs": [],
      "source": [
        "df['ZIP_V2'] = df['ZIP_V2'].fillna(value = '000000')"
      ]
    },
    {
      "cell_type": "markdown",
      "metadata": {
        "id": "s860HTYj_yzU"
      },
      "source": [
        "#### 'GRAD_SCHOOL'"
      ]
    },
    {
      "cell_type": "code",
      "execution_count": 13,
      "metadata": {
        "id": "IP5jNpMm_yCI"
      },
      "outputs": [],
      "source": [
        "GRAD_SCHOOL_mapping_dict = {\n",
        "    'College of Arts and Sci (Sci)': 'Arts and Sciences',\n",
        "    'College of Arts and Sci (Arts)': 'Arts and Sciences',\n",
        "    'Col of Arts/Sci and Sch Mgt': 'Arts and Sciences',\n",
        "    'School of Law': 'Law',\n",
        "    'School of Education': 'Education',\n",
        "    'School of Nursing': 'Nursing',\n",
        "    'School of Business': 'Business and Professional Studies',\n",
        "    'Sch of Bus and Prof Studies': 'Business and Professional Studies',\n",
        "    'College of Prof. Studies': 'Business and Professional Studies',\n",
        "    np.nan: 'GRAD_SCHOOL_Unknown'\n",
        "}\n",
        "\n",
        "df['GRAD_SCHOOL'] = df['GRAD_SCHOOL'].replace(GRAD_SCHOOL_mapping_dict)\n"
      ]
    },
    {
      "cell_type": "markdown",
      "metadata": {
        "id": "0zKXJf9S5UeC"
      },
      "source": [
        "#### 'UG_SCHOOL'"
      ]
    },
    {
      "cell_type": "code",
      "execution_count": 14,
      "metadata": {
        "id": "y4QUSNVC55pI"
      },
      "outputs": [],
      "source": [
        "UG_SCHOOL_mapping_dict = {\n",
        "    'School of Nursing': 'School of Nursing',\n",
        "    'School of Business': 'Business and Professional Studies',\n",
        "    'Sch of Bus and Prof Studies': 'Business and Professional Studies',\n",
        "    'College of Arts and Sci (Arts)': 'Arts and Sciences',\n",
        "    'College of Arts and Sci (Sci)': 'Arts and Sciences',\n",
        "    'School of Education': 'School of Education',\n",
        "    'College of Prof. Studies': 'Business and Professional Studies',\n",
        "    'School of Law': 'School of Law',\n",
        "    'Continuing Education': 'Continuing Education',\n",
        "    'Not used in standing': 'Not Categorized',\n",
        "    np.nan: 'UG_SCHOOL_Unknown'\n",
        "  }\n",
        "\n",
        "df['UG_SCHOOL'] = df['UG_SCHOOL'].replace(UG_SCHOOL_mapping_dict)\n"
      ]
    },
    {
      "cell_type": "markdown",
      "metadata": {
        "id": "5iMIF-aJ_P6E"
      },
      "source": [
        "#### 'GENDER', 'MARRIED_TO_ALUM'"
      ]
    },
    {
      "cell_type": "code",
      "execution_count": 15,
      "metadata": {
        "id": "cowx9agY_Pd4"
      },
      "outputs": [],
      "source": [
        "GENDER_mapping_dict = {\n",
        "    'M': 1,\n",
        "    'F': 0,\n",
        "    np.nan: 'GENDER_Unknown'\n",
        "  }\n",
        "\n",
        "MARRIED_TO_ALUM_mapping_dict = {\n",
        "    'N': 0,\n",
        "    'Y': 1,\n",
        "    np.nan: 'MARRIED_TO_ALUM_Unknown'\n",
        "  }\n",
        "\n",
        "df['GENDER'] = df['GENDER'].replace(GENDER_mapping_dict)\n",
        "df['MARRIED_TO_ALUM'] = df['MARRIED_TO_ALUM'].replace(MARRIED_TO_ALUM_mapping_dict)"
      ]
    },
    {
      "cell_type": "markdown",
      "metadata": {
        "id": "NH6b00i3BGgi"
      },
      "source": [
        "#### 'GRAD_CLASS_YEAR', 'UG_CLASS_YEAR'"
      ]
    },
    {
      "cell_type": "code",
      "execution_count": 16,
      "metadata": {
        "id": "PNQ91oVQBOaJ"
      },
      "outputs": [],
      "source": [
        "def year_mapping(year):\n",
        "    if np.isnan(year):\n",
        "        return 'NA'\n",
        "    else:\n",
        "        return str(int(year//10 * 10)) + 's'\n",
        "\n",
        "df['UG_CLASS_YEAR'] = df['UG_CLASS_YEAR'].apply(year_mapping)\n",
        "df['GRAD_CLASS_YEAR'] = df['GRAD_CLASS_YEAR'].apply(year_mapping)"
      ]
    },
    {
      "cell_type": "markdown",
      "metadata": {
        "id": "yf5Y1G57fs39"
      },
      "source": [
        "#### 'GRAD_DEGREE'"
      ]
    },
    {
      "cell_type": "code",
      "execution_count": 17,
      "metadata": {
        "id": "Gc3vhri3fx51"
      },
      "outputs": [],
      "source": [
        "df['GRAD_DEGREE'] = df['GRAD_DEGREE'].fillna(value = 'NA')"
      ]
    },
    {
      "cell_type": "markdown",
      "metadata": {
        "id": "El8lWQX0UEo_"
      },
      "source": [
        "#### 'DONATED'"
      ]
    },
    {
      "cell_type": "code",
      "execution_count": 18,
      "metadata": {
        "id": "EA50TitIUEcL"
      },
      "outputs": [],
      "source": [
        "df['DONATED'] = df['NUMBER_OF_DONATIONS'].apply(lambda x: 1 if x > 0 else 0)"
      ]
    },
    {
      "cell_type": "markdown",
      "metadata": {},
      "source": [
        "#### 'AVERAGE_DONATIONS'"
      ]
    },
    {
      "cell_type": "code",
      "execution_count": 19,
      "metadata": {},
      "outputs": [],
      "source": [
        "df['AVERAGE_DONATIONS'] = df['VALUE_OF_DONATIONS'] / df['NUMBER_OF_DONATIONS']\n"
      ]
    },
    {
      "cell_type": "markdown",
      "metadata": {
        "id": "QQp3jLAMC7Zp"
      },
      "source": [
        "#### Unique Values"
      ]
    },
    {
      "cell_type": "code",
      "execution_count": 20,
      "metadata": {
        "colab": {
          "base_uri": "https://localhost:8080/"
        },
        "id": "jcWHAlg6DAhf",
        "outputId": "d87be0a4-4f92-45fe-fedc-ebf8e391943f"
      },
      "outputs": [
        {
          "name": "stdout",
          "output_type": "stream",
          "text": [
            "['FL' 'CA' 'TX' 'MA' nan 'TN' 'WA' 'UT' 'NY' 'MN' 'ID' 'VA' 'NC' 'WI' 'CO'\n",
            " 'LA' 'OR' 'NV' 'NM' 'KY' 'IL' 'HI' 'MO' 'NE' 'AR' 'GA' 'AZ' 'IA' 'RI'\n",
            " 'ME' 'AK' 'DC' 'AL' 'MD' 'MT' 'CT' 'MI' 'WY' 'OK' 'NH' 'NJ' 'PA' 'VT'\n",
            " 'DE' 'OH' 'SC' 'WV' 'IN' 'MS' 'SD' 'KS' 'GU' 'AP' 'ND' 'MP' 'VI' 'AE'\n",
            " 'PR' 'AS' 'FM' 'AA']\n",
            "['Gainesville' 'Pasadena' 'San Rafael' ... 'Cambria Heights' 'Wilson'\n",
            " 'Lake View Ter']\n",
            "['056400' '051515' '012478' ... '156110' '083820' '671194']\n",
            "['Graduate' 'Undergraduate']\n",
            "['UG_SCHOOL_Unknown' 'School of Nursing'\n",
            " 'Business and Professional Studies' 'Arts and Sciences'\n",
            " 'School of Education' 'School of Law' 'Continuing Education'\n",
            " 'Not Categorized']\n",
            "['MS' 'JD' 'NA' 'MA' 'MBA' 'MPA' 'MHR' 'EDD' 'MAT' 'MSE' 'MRA' 'MSP' 'MHL'\n",
            " 'MSN' 'MPT' 'MNA' 'MMD' 'MAS' 'MAW' 'MFA' 'PSD' 'LLM' 'CRD' 'DNP' 'MGEM'\n",
            " 'MGEN' 'MPH' 'MOPA' 'PSYD' 'PSM' 'MLSL' 'MIG' 'HON' 'MSA' 'NDG' 'MNB'\n",
            " 'MCA' 'MSB' 'MPM']\n",
            "['1960s' 'NA' '1920s' '1970s' '1950s' '1980s' '1990s' '1940s' '2000s'\n",
            " '1930s' '2010s' '2020s' '1910s']\n",
            "['Arts and Sciences' 'Law' 'GRAD_SCHOOL_Unknown' 'Education' 'Nursing'\n",
            " 'Business and Professional Studies']\n",
            "['1960s' '1950s' '1920s' '1970s' '1940s' '1930s' '1990s' '1980s' '2000s'\n",
            " '2010s' '2020s' '1910s' '1900s' '1850s']\n",
            "[1 0]\n",
            "[0 1]\n",
            "[0 1]\n",
            "[0 1]\n"
          ]
        }
      ],
      "source": [
        "categorical_col = ['STATE', 'CITY', 'ZIP_V2', 'ALUMNI_TYPE', 'UG_SCHOOL', 'GRAD_DEGREE', 'GRAD_CLASS_YEAR', 'GRAD_SCHOOL', 'UG_CLASS_YEAR', 'GENDER', 'MARRIED_TO_ALUM', 'ROTC', 'JC']\n",
        "for c in categorical_col:\n",
        "  print(df[c].unique())"
      ]
    },
    {
      "cell_type": "markdown",
      "metadata": {},
      "source": [
        "#### Missing Value"
      ]
    },
    {
      "cell_type": "code",
      "execution_count": 21,
      "metadata": {},
      "outputs": [
        {
          "data": {
            "text/plain": [
              "ACCOUNT_ID                 0\n",
              "NUMBER_OF_DONATIONS        0\n",
              "VALUE_OF_DONATIONS         0\n",
              "CITY                   19126\n",
              "STATE                  19126\n",
              "ZIP                    19126\n",
              "ALUMNI_TYPE                0\n",
              "UG_CLASS_YEAR              0\n",
              "UG_SCHOOL                  0\n",
              "GRAD_DEGREE                0\n",
              "GRAD_CLASS_YEAR            0\n",
              "GRAD_SCHOOL                0\n",
              "GENDER                     0\n",
              "MARRIED_TO_ALUM            0\n",
              "ROTC                       0\n",
              "JC                         0\n",
              "ZIP_V2                     0\n",
              "DONATED                    0\n",
              "AVERAGE_DONATIONS      98620\n",
              "dtype: int64"
            ]
          },
          "execution_count": 21,
          "metadata": {},
          "output_type": "execute_result"
        }
      ],
      "source": [
        "df.isnull().sum()"
      ]
    },
    {
      "cell_type": "code",
      "execution_count": 22,
      "metadata": {},
      "outputs": [],
      "source": [
        "df['STATE'].fillna(0, inplace=True)\n",
        "df['CITY'].fillna(0, inplace=True)\n",
        "df['AVERAGE_DONATIONS'].fillna(0, inplace=True)"
      ]
    },
    {
      "cell_type": "markdown",
      "metadata": {
        "id": "GSRUMBqmthfk"
      },
      "source": [
        "#### Categorical Variable"
      ]
    },
    {
      "cell_type": "code",
      "execution_count": 23,
      "metadata": {
        "id": "LTx02eo6t7zV"
      },
      "outputs": [],
      "source": [
        "from category_encoders import CountEncoder, TargetEncoder"
      ]
    },
    {
      "cell_type": "code",
      "execution_count": 24,
      "metadata": {
        "id": "_BKkDUWkttqJ"
      },
      "outputs": [],
      "source": [
        "target_encoder = TargetEncoder()\n",
        "\n",
        "encoded_columns = target_encoder.fit_transform(df[['ZIP_V2', 'ALUMNI_TYPE', 'UG_SCHOOL', 'GRAD_DEGREE', 'GRAD_CLASS_YEAR', 'GRAD_SCHOOL', 'UG_CLASS_YEAR','STATE','CITY']], df['DONATED'])\n",
        "encoded_columns = encoded_columns.rename(columns = {'ZIP_V2': 'ZIP_ENCODED', 'ALUMNI_TYPE': 'ALUMNI_TYPE_ENCODED', 'UG_SCHOOL': 'UG_SCHOOL_ENCODED', 'GRAD_DEGREE': 'GRAD_DEGREE_ENCODED', 'GRAD_CLASS_YEAR': 'GRAD_CLASS_YEAR_ENCODED', 'GRAD_SCHOOL': 'GRAD_SCHOOL_ENCODED', 'UG_CLASS_YEAR': 'UG_CLASS_YEAR_ENCODED','STATE': 'STATE_ENCODED', 'CITY': 'CITY_ENCODED'})"
      ]
    },
    {
      "cell_type": "code",
      "execution_count": 25,
      "metadata": {
        "id": "0PqQO9TnxCV7"
      },
      "outputs": [],
      "source": [
        "df_encoded = pd.concat([df, pd.DataFrame(encoded_columns)], axis = 1)\n",
        "df_encoded = df_encoded.drop(['ZIP', 'ZIP_V2', 'ALUMNI_TYPE', 'UG_SCHOOL', 'GRAD_DEGREE', 'GRAD_CLASS_YEAR', 'GRAD_SCHOOL', 'UG_CLASS_YEAR','STATE','CITY'], axis = 1)"
      ]
    },
    {
      "cell_type": "markdown",
      "metadata": {},
      "source": [
        "#### Split the Data"
      ]
    },
    {
      "cell_type": "code",
      "execution_count": 26,
      "metadata": {},
      "outputs": [],
      "source": [
        "from sklearn.model_selection import train_test_split"
      ]
    },
    {
      "cell_type": "code",
      "execution_count": 27,
      "metadata": {},
      "outputs": [],
      "source": [
        "X = df_encoded.drop(['DONATED', 'NUMBER_OF_DONATIONS', 'VALUE_OF_DONATIONS', 'ACCOUNT_ID'], axis = 1)\n",
        "Y_regression = df_encoded['VALUE_OF_DONATIONS']\n",
        "Y_classification= df_encoded['DONATED']"
      ]
    },
    {
      "cell_type": "code",
      "execution_count": 28,
      "metadata": {},
      "outputs": [],
      "source": [
        "X_train, X_test, Y_regression_train, Y_regression_test, Y_classification_train, Y_classification_test = train_test_split(X, Y_regression, Y_classification, test_size=0.2, random_state=42)"
      ]
    },
    {
      "cell_type": "markdown",
      "metadata": {},
      "source": [
        "### Data Exploration"
      ]
    },
    {
      "cell_type": "markdown",
      "metadata": {},
      "source": [
        "### Data Modeling"
      ]
    },
    {
      "cell_type": "code",
      "execution_count": 29,
      "metadata": {},
      "outputs": [
        {
          "name": "stderr",
          "output_type": "stream",
          "text": [
            "c:\\Users\\Reazeng\\anaconda3\\envs\\tf\\lib\\site-packages\\tqdm\\auto.py:21: TqdmWarning: IProgress not found. Please update jupyter and ipywidgets. See https://ipywidgets.readthedocs.io/en/stable/user_install.html\n",
            "  from .autonotebook import tqdm as notebook_tqdm\n"
          ]
        }
      ],
      "source": [
        "import os\n",
        "from datetime import datetime\n",
        "\n",
        "from sklearn.model_selection import cross_val_score, train_test_split, RandomizedSearchCV\n",
        "from sklearn.metrics import mean_squared_error, accuracy_score, confusion_matrix\n",
        "\n",
        "import tensorflow as tf\n",
        "from tensorflow import keras\n",
        "\n",
        "import mlflow\n",
        "import optuna"
      ]
    },
    {
      "cell_type": "code",
      "execution_count": 39,
      "metadata": {},
      "outputs": [],
      "source": [
        "mlflow.set_tracking_uri(\"http://127.0.0.1:5000\")\n",
        "\n",
        "EXPERIMENT_NAME = \"DonationMaximization\"\n",
        "mlflow.set_experiment(EXPERIMENT_NAME)\n",
        "\n",
        "experiment = mlflow.get_experiment_by_name(EXPERIMENT_NAME)\n",
        "if experiment is None:\n",
        "    experiment_id = mlflow.create_experiment(EXPERIMENT_NAME) \n",
        "else:\n",
        "    experiment_id = experiment.experiment_id"
      ]
    },
    {
      "cell_type": "code",
      "execution_count": null,
      "metadata": {},
      "outputs": [
        {
          "name": "stderr",
          "output_type": "stream",
          "text": [
            "[I 2025-07-02 00:09:25,944] A new study created in memory with name: Optuna_Optimization\n"
          ]
        },
        {
          "name": "stdout",
          "output_type": "stream",
          "text": [
            "INFO:tensorflow:Assets written to: C:\\Users\\Reazeng\\AppData\\Local\\Temp\\tmpmy75le0y\\model\\data\\model\\assets\n"
          ]
        },
        {
          "name": "stderr",
          "output_type": "stream",
          "text": [
            "[I 2025-07-02 00:10:48,493] Trial 0 finished with value: 3183140.75 and parameters: {'units': 32, 'dropout_rate': 0.5, 'learning_rate': 0.0019849363343413242, 'activation': 'tanh'}. Best is trial 0 with value: 3183140.75.\n"
          ]
        },
        {
          "name": "stdout",
          "output_type": "stream",
          "text": [
            "INFO:tensorflow:Assets written to: C:\\Users\\Reazeng\\AppData\\Local\\Temp\\tmpy84cu3zh\\model\\data\\model\\assets\n"
          ]
        },
        {
          "name": "stderr",
          "output_type": "stream",
          "text": [
            "[I 2025-07-02 00:11:49,067] Trial 1 finished with value: 3183140.75 and parameters: {'units': 16, 'dropout_rate': 0.5, 'learning_rate': 0.038542330254965194, 'activation': 'elu'}. Best is trial 0 with value: 3183140.75.\n"
          ]
        },
        {
          "name": "stdout",
          "output_type": "stream",
          "text": [
            "INFO:tensorflow:Assets written to: C:\\Users\\Reazeng\\AppData\\Local\\Temp\\tmpuowzgbk7\\model\\data\\model\\assets\n"
          ]
        },
        {
          "name": "stderr",
          "output_type": "stream",
          "text": [
            "[I 2025-07-02 00:13:20,769] Trial 2 finished with value: 3183140.75 and parameters: {'units': 16, 'dropout_rate': 0.5, 'learning_rate': 0.0002704056712600893, 'activation': 'tanh'}. Best is trial 0 with value: 3183140.75.\n"
          ]
        },
        {
          "name": "stdout",
          "output_type": "stream",
          "text": [
            "INFO:tensorflow:Assets written to: C:\\Users\\Reazeng\\AppData\\Local\\Temp\\tmprjsht29h\\model\\data\\model\\assets\n"
          ]
        },
        {
          "name": "stderr",
          "output_type": "stream",
          "text": [
            "[I 2025-07-02 00:16:34,258] Trial 3 finished with value: 3183140.75 and parameters: {'units': 32, 'dropout_rate': 0.2, 'learning_rate': 0.0001485300738527755, 'activation': 'elu'}. Best is trial 0 with value: 3183140.75.\n"
          ]
        },
        {
          "name": "stdout",
          "output_type": "stream",
          "text": [
            "INFO:tensorflow:Assets written to: C:\\Users\\Reazeng\\AppData\\Local\\Temp\\tmp1k0y3o8t\\model\\data\\model\\assets\n"
          ]
        },
        {
          "name": "stderr",
          "output_type": "stream",
          "text": [
            "[I 2025-07-02 00:18:06,908] Trial 4 finished with value: 3183140.75 and parameters: {'units': 16, 'dropout_rate': 0.1, 'learning_rate': 0.0056721868001368535, 'activation': 'elu'}. Best is trial 0 with value: 3183140.75.\n"
          ]
        },
        {
          "ename": "TypeError",
          "evalue": "Cannot set mlflow.Metric.value to 'fa4382bc7f1c4e12827c1fb99f0104c5': 'fa4382bc7f1c4e12827c1fb99f0104c5' has type <class 'str'>, but expected one of: int, float",
          "output_type": "error",
          "traceback": [
            "\u001b[1;31m---------------------------------------------------------------------------\u001b[0m",
            "\u001b[1;31mTypeError\u001b[0m                                 Traceback (most recent call last)",
            "File \u001b[1;32mc:\\Users\\Reazeng\\anaconda3\\envs\\tf\\lib\\site-packages\\google\\protobuf\\internal\\python_message.py:702\u001b[0m, in \u001b[0;36m_AddPropertiesForNonRepeatedScalarField.<locals>.field_setter\u001b[1;34m(self, new_value)\u001b[0m\n\u001b[0;32m    701\u001b[0m \u001b[38;5;28;01mtry\u001b[39;00m:\n\u001b[1;32m--> 702\u001b[0m   new_value \u001b[38;5;241m=\u001b[39m \u001b[43mtype_checker\u001b[49m\u001b[38;5;241;43m.\u001b[39;49m\u001b[43mCheckValue\u001b[49m\u001b[43m(\u001b[49m\u001b[43mnew_value\u001b[49m\u001b[43m)\u001b[49m\n\u001b[0;32m    703\u001b[0m \u001b[38;5;28;01mexcept\u001b[39;00m \u001b[38;5;167;01mTypeError\u001b[39;00m \u001b[38;5;28;01mas\u001b[39;00m e:\n",
            "File \u001b[1;32mc:\\Users\\Reazeng\\anaconda3\\envs\\tf\\lib\\site-packages\\google\\protobuf\\internal\\type_checkers.py:279\u001b[0m, in \u001b[0;36mDoubleValueChecker.CheckValue\u001b[1;34m(self, proposed_value)\u001b[0m\n\u001b[0;32m    277\u001b[0m   message \u001b[38;5;241m=\u001b[39m (\u001b[38;5;124m'\u001b[39m\u001b[38;5;132;01m%.1024r\u001b[39;00m\u001b[38;5;124m has type \u001b[39m\u001b[38;5;132;01m%s\u001b[39;00m\u001b[38;5;124m, but expected one of: int, float\u001b[39m\u001b[38;5;124m'\u001b[39m \u001b[38;5;241m%\u001b[39m\n\u001b[0;32m    278\u001b[0m              (proposed_value, \u001b[38;5;28mtype\u001b[39m(proposed_value)))\n\u001b[1;32m--> 279\u001b[0m   \u001b[38;5;28;01mraise\u001b[39;00m \u001b[38;5;167;01mTypeError\u001b[39;00m(message)\n\u001b[0;32m    280\u001b[0m \u001b[38;5;28;01mreturn\u001b[39;00m \u001b[38;5;28mfloat\u001b[39m(proposed_value)\n",
            "\u001b[1;31mTypeError\u001b[0m: 'fa4382bc7f1c4e12827c1fb99f0104c5' has type <class 'str'>, but expected one of: int, float",
            "\nDuring handling of the above exception, another exception occurred:\n",
            "\u001b[1;31mTypeError\u001b[0m                                 Traceback (most recent call last)",
            "Cell \u001b[1;32mIn[44], line 111\u001b[0m\n\u001b[0;32m    109\u001b[0m \u001b[38;5;28;01mfor\u001b[39;00m key, value \u001b[38;5;129;01min\u001b[39;00m study\u001b[38;5;241m.\u001b[39mbest_trial\u001b[38;5;241m.\u001b[39muser_attrs\u001b[38;5;241m.\u001b[39mitems():\n\u001b[0;32m    110\u001b[0m     best_metrics[key] \u001b[38;5;241m=\u001b[39m value\n\u001b[1;32m--> 111\u001b[0m \u001b[43mmlflow\u001b[49m\u001b[38;5;241;43m.\u001b[39;49m\u001b[43mlog_metrics\u001b[49m\u001b[43m(\u001b[49m\u001b[43mbest_metrics\u001b[49m\u001b[43m)\u001b[49m\n\u001b[0;32m    114\u001b[0m \u001b[38;5;66;03m# Generate Best Trial Information for Loading Best Model\u001b[39;00m\n\u001b[0;32m    115\u001b[0m best_trial \u001b[38;5;241m=\u001b[39m study\u001b[38;5;241m.\u001b[39mbest_trial\n",
            "File \u001b[1;32mc:\\Users\\Reazeng\\anaconda3\\envs\\tf\\lib\\site-packages\\mlflow\\tracking\\fluent.py:675\u001b[0m, in \u001b[0;36mlog_metrics\u001b[1;34m(metrics, step)\u001b[0m\n\u001b[0;32m    673\u001b[0m timestamp \u001b[38;5;241m=\u001b[39m get_current_time_millis()\n\u001b[0;32m    674\u001b[0m metrics_arr \u001b[38;5;241m=\u001b[39m [Metric(key, value, timestamp, step \u001b[38;5;129;01mor\u001b[39;00m \u001b[38;5;241m0\u001b[39m) \u001b[38;5;28;01mfor\u001b[39;00m key, value \u001b[38;5;129;01min\u001b[39;00m metrics\u001b[38;5;241m.\u001b[39mitems()]\n\u001b[1;32m--> 675\u001b[0m \u001b[43mMlflowClient\u001b[49m\u001b[43m(\u001b[49m\u001b[43m)\u001b[49m\u001b[38;5;241;43m.\u001b[39;49m\u001b[43mlog_batch\u001b[49m\u001b[43m(\u001b[49m\u001b[43mrun_id\u001b[49m\u001b[38;5;241;43m=\u001b[39;49m\u001b[43mrun_id\u001b[49m\u001b[43m,\u001b[49m\u001b[43m \u001b[49m\u001b[43mmetrics\u001b[49m\u001b[38;5;241;43m=\u001b[39;49m\u001b[43mmetrics_arr\u001b[49m\u001b[43m,\u001b[49m\u001b[43m \u001b[49m\u001b[43mparams\u001b[49m\u001b[38;5;241;43m=\u001b[39;49m\u001b[43m[\u001b[49m\u001b[43m]\u001b[49m\u001b[43m,\u001b[49m\u001b[43m \u001b[49m\u001b[43mtags\u001b[49m\u001b[38;5;241;43m=\u001b[39;49m\u001b[43m[\u001b[49m\u001b[43m]\u001b[49m\u001b[43m)\u001b[49m\n",
            "File \u001b[1;32mc:\\Users\\Reazeng\\anaconda3\\envs\\tf\\lib\\site-packages\\mlflow\\tracking\\client.py:1099\u001b[0m, in \u001b[0;36mMlflowClient.log_batch\u001b[1;34m(self, run_id, metrics, params, tags)\u001b[0m\n\u001b[0;32m   1042\u001b[0m \u001b[38;5;28;01mdef\u001b[39;00m \u001b[38;5;21mlog_batch\u001b[39m(\n\u001b[0;32m   1043\u001b[0m     \u001b[38;5;28mself\u001b[39m,\n\u001b[0;32m   1044\u001b[0m     run_id: \u001b[38;5;28mstr\u001b[39m,\n\u001b[1;32m   (...)\u001b[0m\n\u001b[0;32m   1047\u001b[0m     tags: Sequence[RunTag] \u001b[38;5;241m=\u001b[39m (),\n\u001b[0;32m   1048\u001b[0m ) \u001b[38;5;241m-\u001b[39m\u001b[38;5;241m>\u001b[39m \u001b[38;5;28;01mNone\u001b[39;00m:\n\u001b[0;32m   1049\u001b[0m \u001b[38;5;250m    \u001b[39m\u001b[38;5;124;03m\"\"\"\u001b[39;00m\n\u001b[0;32m   1050\u001b[0m \u001b[38;5;124;03m    Log multiple metrics, params, and/or tags.\u001b[39;00m\n\u001b[0;32m   1051\u001b[0m \n\u001b[1;32m   (...)\u001b[0m\n\u001b[0;32m   1097\u001b[0m \u001b[38;5;124;03m        status: FINISHED\u001b[39;00m\n\u001b[0;32m   1098\u001b[0m \u001b[38;5;124;03m    \"\"\"\u001b[39;00m\n\u001b[1;32m-> 1099\u001b[0m     \u001b[38;5;28;43mself\u001b[39;49m\u001b[38;5;241;43m.\u001b[39;49m\u001b[43m_tracking_client\u001b[49m\u001b[38;5;241;43m.\u001b[39;49m\u001b[43mlog_batch\u001b[49m\u001b[43m(\u001b[49m\u001b[43mrun_id\u001b[49m\u001b[43m,\u001b[49m\u001b[43m \u001b[49m\u001b[43mmetrics\u001b[49m\u001b[43m,\u001b[49m\u001b[43m \u001b[49m\u001b[43mparams\u001b[49m\u001b[43m,\u001b[49m\u001b[43m \u001b[49m\u001b[43mtags\u001b[49m\u001b[43m)\u001b[49m\n",
            "File \u001b[1;32mc:\\Users\\Reazeng\\anaconda3\\envs\\tf\\lib\\site-packages\\mlflow\\tracking\\_tracking_service\\client.py:415\u001b[0m, in \u001b[0;36mTrackingServiceClient.log_batch\u001b[1;34m(self, run_id, metrics, params, tags)\u001b[0m\n\u001b[0;32m    410\u001b[0m     \u001b[38;5;28mself\u001b[39m\u001b[38;5;241m.\u001b[39mstore\u001b[38;5;241m.\u001b[39mlog_batch(\n\u001b[0;32m    411\u001b[0m         run_id\u001b[38;5;241m=\u001b[39mrun_id, metrics\u001b[38;5;241m=\u001b[39mmetrics_batch, params\u001b[38;5;241m=\u001b[39mparams_batch, tags\u001b[38;5;241m=\u001b[39mtags_batch\n\u001b[0;32m    412\u001b[0m     )\n\u001b[0;32m    414\u001b[0m \u001b[38;5;28;01mfor\u001b[39;00m metrics_batch \u001b[38;5;129;01min\u001b[39;00m chunk_list(metrics, chunk_size\u001b[38;5;241m=\u001b[39mMAX_METRICS_PER_BATCH):\n\u001b[1;32m--> 415\u001b[0m     \u001b[38;5;28;43mself\u001b[39;49m\u001b[38;5;241;43m.\u001b[39;49m\u001b[43mstore\u001b[49m\u001b[38;5;241;43m.\u001b[39;49m\u001b[43mlog_batch\u001b[49m\u001b[43m(\u001b[49m\u001b[43mrun_id\u001b[49m\u001b[38;5;241;43m=\u001b[39;49m\u001b[43mrun_id\u001b[49m\u001b[43m,\u001b[49m\u001b[43m \u001b[49m\u001b[43mmetrics\u001b[49m\u001b[38;5;241;43m=\u001b[39;49m\u001b[43mmetrics_batch\u001b[49m\u001b[43m,\u001b[49m\u001b[43m \u001b[49m\u001b[43mparams\u001b[49m\u001b[38;5;241;43m=\u001b[39;49m\u001b[43m[\u001b[49m\u001b[43m]\u001b[49m\u001b[43m,\u001b[49m\u001b[43m \u001b[49m\u001b[43mtags\u001b[49m\u001b[38;5;241;43m=\u001b[39;49m\u001b[43m[\u001b[49m\u001b[43m]\u001b[49m\u001b[43m)\u001b[49m\n",
            "File \u001b[1;32mc:\\Users\\Reazeng\\anaconda3\\envs\\tf\\lib\\site-packages\\mlflow\\store\\tracking\\rest_store.py:335\u001b[0m, in \u001b[0;36mRestStore.log_batch\u001b[1;34m(self, run_id, metrics, params, tags)\u001b[0m\n\u001b[0;32m    334\u001b[0m \u001b[38;5;28;01mdef\u001b[39;00m \u001b[38;5;21mlog_batch\u001b[39m(\u001b[38;5;28mself\u001b[39m, run_id, metrics, params, tags):\n\u001b[1;32m--> 335\u001b[0m     metric_protos \u001b[38;5;241m=\u001b[39m [metric\u001b[38;5;241m.\u001b[39mto_proto() \u001b[38;5;28;01mfor\u001b[39;00m metric \u001b[38;5;129;01min\u001b[39;00m metrics]\n\u001b[0;32m    336\u001b[0m     param_protos \u001b[38;5;241m=\u001b[39m [param\u001b[38;5;241m.\u001b[39mto_proto() \u001b[38;5;28;01mfor\u001b[39;00m param \u001b[38;5;129;01min\u001b[39;00m params]\n\u001b[0;32m    337\u001b[0m     tag_protos \u001b[38;5;241m=\u001b[39m [tag\u001b[38;5;241m.\u001b[39mto_proto() \u001b[38;5;28;01mfor\u001b[39;00m tag \u001b[38;5;129;01min\u001b[39;00m tags]\n",
            "File \u001b[1;32mc:\\Users\\Reazeng\\anaconda3\\envs\\tf\\lib\\site-packages\\mlflow\\store\\tracking\\rest_store.py:335\u001b[0m, in \u001b[0;36m<listcomp>\u001b[1;34m(.0)\u001b[0m\n\u001b[0;32m    334\u001b[0m \u001b[38;5;28;01mdef\u001b[39;00m \u001b[38;5;21mlog_batch\u001b[39m(\u001b[38;5;28mself\u001b[39m, run_id, metrics, params, tags):\n\u001b[1;32m--> 335\u001b[0m     metric_protos \u001b[38;5;241m=\u001b[39m [\u001b[43mmetric\u001b[49m\u001b[38;5;241;43m.\u001b[39;49m\u001b[43mto_proto\u001b[49m\u001b[43m(\u001b[49m\u001b[43m)\u001b[49m \u001b[38;5;28;01mfor\u001b[39;00m metric \u001b[38;5;129;01min\u001b[39;00m metrics]\n\u001b[0;32m    336\u001b[0m     param_protos \u001b[38;5;241m=\u001b[39m [param\u001b[38;5;241m.\u001b[39mto_proto() \u001b[38;5;28;01mfor\u001b[39;00m param \u001b[38;5;129;01min\u001b[39;00m params]\n\u001b[0;32m    337\u001b[0m     tag_protos \u001b[38;5;241m=\u001b[39m [tag\u001b[38;5;241m.\u001b[39mto_proto() \u001b[38;5;28;01mfor\u001b[39;00m tag \u001b[38;5;129;01min\u001b[39;00m tags]\n",
            "File \u001b[1;32mc:\\Users\\Reazeng\\anaconda3\\envs\\tf\\lib\\site-packages\\mlflow\\entities\\metric.py:39\u001b[0m, in \u001b[0;36mMetric.to_proto\u001b[1;34m(self)\u001b[0m\n\u001b[0;32m     37\u001b[0m metric \u001b[38;5;241m=\u001b[39m ProtoMetric()\n\u001b[0;32m     38\u001b[0m metric\u001b[38;5;241m.\u001b[39mkey \u001b[38;5;241m=\u001b[39m \u001b[38;5;28mself\u001b[39m\u001b[38;5;241m.\u001b[39mkey\n\u001b[1;32m---> 39\u001b[0m metric\u001b[38;5;241m.\u001b[39mvalue \u001b[38;5;241m=\u001b[39m \u001b[38;5;28mself\u001b[39m\u001b[38;5;241m.\u001b[39mvalue\n\u001b[0;32m     40\u001b[0m metric\u001b[38;5;241m.\u001b[39mtimestamp \u001b[38;5;241m=\u001b[39m \u001b[38;5;28mself\u001b[39m\u001b[38;5;241m.\u001b[39mtimestamp\n\u001b[0;32m     41\u001b[0m metric\u001b[38;5;241m.\u001b[39mstep \u001b[38;5;241m=\u001b[39m \u001b[38;5;28mself\u001b[39m\u001b[38;5;241m.\u001b[39mstep\n",
            "File \u001b[1;32mc:\\Users\\Reazeng\\anaconda3\\envs\\tf\\lib\\site-packages\\google\\protobuf\\internal\\python_message.py:704\u001b[0m, in \u001b[0;36m_AddPropertiesForNonRepeatedScalarField.<locals>.field_setter\u001b[1;34m(self, new_value)\u001b[0m\n\u001b[0;32m    702\u001b[0m   new_value \u001b[38;5;241m=\u001b[39m type_checker\u001b[38;5;241m.\u001b[39mCheckValue(new_value)\n\u001b[0;32m    703\u001b[0m \u001b[38;5;28;01mexcept\u001b[39;00m \u001b[38;5;167;01mTypeError\u001b[39;00m \u001b[38;5;28;01mas\u001b[39;00m e:\n\u001b[1;32m--> 704\u001b[0m   \u001b[38;5;28;01mraise\u001b[39;00m \u001b[38;5;167;01mTypeError\u001b[39;00m(\n\u001b[0;32m    705\u001b[0m       \u001b[38;5;124m'\u001b[39m\u001b[38;5;124mCannot set \u001b[39m\u001b[38;5;132;01m%s\u001b[39;00m\u001b[38;5;124m to \u001b[39m\u001b[38;5;132;01m%.1024r\u001b[39;00m\u001b[38;5;124m: \u001b[39m\u001b[38;5;132;01m%s\u001b[39;00m\u001b[38;5;124m'\u001b[39m \u001b[38;5;241m%\u001b[39m (field\u001b[38;5;241m.\u001b[39mfull_name, new_value, e))\n\u001b[0;32m    706\u001b[0m \u001b[38;5;28;01mif\u001b[39;00m clear_when_set_to_default \u001b[38;5;129;01mand\u001b[39;00m \u001b[38;5;129;01mnot\u001b[39;00m new_value:\n\u001b[0;32m    707\u001b[0m   \u001b[38;5;28mself\u001b[39m\u001b[38;5;241m.\u001b[39m_fields\u001b[38;5;241m.\u001b[39mpop(field, \u001b[38;5;28;01mNone\u001b[39;00m)\n",
            "\u001b[1;31mTypeError\u001b[0m: Cannot set mlflow.Metric.value to 'fa4382bc7f1c4e12827c1fb99f0104c5': 'fa4382bc7f1c4e12827c1fb99f0104c5' has type <class 'str'>, but expected one of: int, float"
          ]
        }
      ],
      "source": [
        "def objective(trial):\n",
        "\n",
        "    with mlflow.start_run(nested=True) as run:\n",
        "\n",
        "        trial_num = trial.number\n",
        "        mlflow.set_tag(\"trial_num\", trial_num)\n",
        "        \n",
        "        # Set up Options for Hyperparameters Tuning\n",
        "        units = trial.suggest_categorical(\"units\", [16, 32, 64, 128])\n",
        "        dropout_rate = trial.suggest_float(\"dropout_rate\", 0.1, 0.5, step=0.1)\n",
        "        learning_rate = trial.suggest_float(\"learning_rate\", 1e-4, 1e-1, log=True)\n",
        "        activation = trial.suggest_categorical(\"activation\", [\"relu\", \"elu\", \"tanh\"])\n",
        "        \n",
        "        # Log Parameters to MLflow\n",
        "        params = {\n",
        "            \"units\": units,\n",
        "            \"dropout_rate\": dropout_rate,\n",
        "            \"learning_rate\": learning_rate,\n",
        "            \"activation\": activation,\n",
        "            \"batch_size\": 32,\n",
        "            \"epochs\": 50,\n",
        "            \"early_stopping_patience\": 5\n",
        "        }\n",
        "        mlflow.log_params(params)\n",
        "        \n",
        "        # Model Building\n",
        "        inputs = tf.keras.Input(shape=X_train.shape[1:])\n",
        "        x = inputs\n",
        "        x = tf.keras.layers.Dense(units, activation=activation)(x)\n",
        "        x = tf.keras.layers.BatchNormalization()(x)\n",
        "        x = tf.keras.layers.Dropout(dropout_rate)(x)\n",
        "        \n",
        "        reg_output = tf.keras.layers.Dense(1, name='regression_output')(x)\n",
        "        class_output = tf.keras.layers.Dense(1, activation='sigmoid', name='classification_output')(x)\n",
        "        \n",
        "        model = tf.keras.Model(inputs=inputs, outputs=[reg_output, class_output])\n",
        "        \n",
        "        # Model Compilation\n",
        "        model.compile(\n",
        "            optimizer=tf.keras.optimizers.Adam(learning_rate=learning_rate),\n",
        "            loss={\n",
        "                'regression_output': 'mse',\n",
        "                'classification_output': 'binary_crossentropy'\n",
        "            },\n",
        "            metrics={\n",
        "                'regression_output': 'mae',\n",
        "                'classification_output': 'accuracy'\n",
        "            }\n",
        "        )\n",
        "        \n",
        "        # Model Training\n",
        "        history = model.fit(\n",
        "            x=X_train,\n",
        "            y={'regression_output': Y_regression_train, 'classification_output': Y_classification_train},\n",
        "            validation_split= 0.3,\n",
        "            epochs=50,\n",
        "            batch_size=32,\n",
        "            callbacks=[\n",
        "                tf.keras.callbacks.EarlyStopping(monitor='val_loss', patience=5, restore_best_weights=True)\n",
        "            ],\n",
        "            verbose=0 \n",
        "        )\n",
        "    \n",
        "        \n",
        "        # Log Metrics to MLflow\n",
        "        for epoch in range(len(history.history['loss'])):\n",
        "            metrics_dict = {}\n",
        "            for metric_name, values in history.history.items():\n",
        "                if epoch < len(values):\n",
        "                    metrics_dict[metric_name] = values[epoch]\n",
        "            mlflow.log_metrics(metrics_dict, step=epoch)\n",
        "            \n",
        "        # Set User Attributes for Best Trial in Parent Run\n",
        "        trial.set_user_attr(\"run_id\", run.info.run_id)\n",
        "        trial.set_user_attr(\"model_path\", f\"model_trial_{trial.number}\")    \n",
        "        for metric_name, value in metrics_dict.items():\n",
        "            trial.set_user_attr(metric_name, value)\n",
        "        \n",
        "        # Log Model to MLflow\n",
        "        model_name = f\"model_trial_{trial_num}\"\n",
        "        mlflow.keras.log_model(keras_model=model, artifact_path=model_name)\n",
        "        \n",
        "        # Log Run ID to MLflow\n",
        "        mlflow.log_param(\"run_id\", run.info.run_id)\n",
        "        \n",
        "        return best_val_loss\n",
        "\n",
        "# Optimize Hyperparameters conducting Optuna\n",
        "now = datetime.now().strftime(\"%Y%m%d_%H%M\")\n",
        "with mlflow.start_run(run_name=f\"Optuna_Optimization_{now}\") as main_run:\n",
        "    study = optuna.create_study(direction=\"minimize\", study_name=\"Optuna_Optimization\")\n",
        "    study.optimize(objective, n_trials=5) \n",
        "    \n",
        "    # Generate Best Trial Information\n",
        "    best_trial_num = study.best_trial.number\n",
        "    best_val_loss = study.best_value\n",
        "    \n",
        "    # Log Parameters\n",
        "    mlflow.log_params({\n",
        "        \"best_trial\": best_trial_num,\n",
        "        \"best_val_loss\": best_val_loss,\n",
        "        \"total_trials\": len(study.trials)\n",
        "    })\n",
        "    \n",
        "    mlflow.log_params({f\"best_{k}\": v for k, v in study.best_params.items()})\n",
        "    \n",
        "    # Log Metrics\n",
        "    best_metrics = {}\n",
        "    for key, value in study.best_trial.user_attrs.items():\n",
        "        if isinstance(value, (int, float)):\n",
        "            best_metrics[key] = value\n",
        "    mlflow.log_metrics(best_metrics)\n",
        "\n",
        "    \n",
        "    # Generate Best Trial Information for Loading Best Model\n",
        "    best_trial = study.best_trial\n",
        "    best_run_id = best_trial.user_attrs[\"run_id\"]\n",
        "    best_model_path = best_trial.user_attrs[\"model_path\"]\n",
        "    \n",
        "    # Load Best Model\n",
        "    best_model_uri = f\"runs:/{best_run_id}/{best_model_path}\"\n",
        "    best_model = mlflow.keras.load_model(best_model_uri)\n",
        "    mlflow.keras.log_model(\n",
        "        keras_model=best_model, \n",
        "        artifact_path=\"best_model\",\n",
        "        registered_model_name=\"DonationMaximization_MTL_Model\"\n",
        "    )"
      ]
    },
    {
      "cell_type": "markdown",
      "metadata": {},
      "source": [
        "---"
      ]
    },
    {
      "cell_type": "markdown",
      "metadata": {
        "id": "_NQUrXjkYv9Q"
      },
      "source": [
        "### Feature importance: Shape"
      ]
    },
    {
      "cell_type": "code",
      "execution_count": null,
      "metadata": {
        "id": "ondb6q8MYx0P"
      },
      "outputs": [],
      "source": [
        "import shap"
      ]
    },
    {
      "cell_type": "code",
      "execution_count": null,
      "metadata": {},
      "outputs": [
        {
          "ename": "AttributeError",
          "evalue": "module 'shap' has no attribute 'DeepExplainerExplainer'",
          "output_type": "error",
          "traceback": [
            "\u001b[1;31m---------------------------------------------------------------------------\u001b[0m",
            "\u001b[1;31mAttributeError\u001b[0m                            Traceback (most recent call last)",
            "Cell \u001b[1;32mIn[42], line 10\u001b[0m\n\u001b[0;32m      7\u001b[0m     \u001b[38;5;28;01mreturn\u001b[39;00m prediction[\u001b[38;5;241m0\u001b[39m]\n\u001b[0;32m      9\u001b[0m sample_data\u001b[38;5;241m=\u001b[39mshap\u001b[38;5;241m.\u001b[39msample(X_train, \u001b[38;5;241m100\u001b[39m)\n\u001b[1;32m---> 10\u001b[0m explainer_class \u001b[38;5;241m=\u001b[39m \u001b[43mshap\u001b[49m\u001b[38;5;241;43m.\u001b[39;49m\u001b[43mDeepExplainerExplainer\u001b[49m(predict_class, sample_data)\n\u001b[0;32m     11\u001b[0m explainer_class \u001b[38;5;241m=\u001b[39m shap\u001b[38;5;241m.\u001b[39mDeepExplainerExplainer(predict_class, sample_data)\n\u001b[0;32m     13\u001b[0m explain_data\u001b[38;5;241m=\u001b[39m shap\u001b[38;5;241m.\u001b[39msample(X_test, \u001b[38;5;241m100\u001b[39m)\n",
            "\u001b[1;31mAttributeError\u001b[0m: module 'shap' has no attribute 'DeepExplainerExplainer'"
          ]
        }
      ],
      "source": [
        "def predict_class(x):\n",
        "    prediction = best_model.predict(x)\n",
        "    return prediction[0]\n",
        "\n",
        "def predict_reg(x):\n",
        "    prediction = best_model.predict(x)\n",
        "    return prediction[0]\n",
        "\n",
        "sample_data=shap.sample(X_train, 100)\n",
        "explainer_class = shap.DeepExplainer(predict_class, sample_data)\n",
        "explainer_reg = shap.DeepExplainer(predict_reg, sample_data)\n",
        "\n",
        "explain_data= shap.sample(X_test, 100)\n",
        "\n",
        "shap_values_class = explainer_class.shap_values(explain_data)\n",
        "shap_values_reg = explainer_reg.shap_values(explain_data)\n",
        "\n",
        "shap.summary_plot(shap_values_class, explain_data, plot_type=\"bar\", show=False)\n",
        "shap.summary_plot(shap_values_reg, explain_data, plot_type=\"bar\", show=False)"
      ]
    },
    {
      "cell_type": "markdown",
      "metadata": {
        "id": "Jul-m-hSpVAk"
      },
      "source": [
        "#### Confusion Matrix"
      ]
    },
    {
      "cell_type": "code",
      "execution_count": 200,
      "metadata": {
        "id": "wDsc3L6VpYrc"
      },
      "outputs": [],
      "source": [
        "def create_confusion_matrix(label_true, label_pred):\n",
        "    mat = confusion_matrix(label_true, label_pred)\n",
        "    plt.figure(figsize = (6, 6))\n",
        "    sns.heatmap(mat, cmap = 'Blues', alpha = 0.8, annot = True, fmt = 'd')\n",
        "    plt.xlabel('Predicted label')\n",
        "    plt.ylabel('True label')\n",
        "    plt.show()"
      ]
    },
    {
      "cell_type": "code",
      "execution_count": 214,
      "metadata": {
        "colab": {
          "base_uri": "https://localhost:8080/",
          "height": 542
        },
        "id": "N342-ZP6pt7i",
        "outputId": "2b935c80-d517-41d4-8a6a-c233e92aff1c"
      },
      "outputs": [
        {
          "data": {
            "image/png": "[encoded data removed]",
            "text/plain": [
              "<Figure size 600x600 with 2 Axes>"
            ]
          },
          "metadata": {},
          "output_type": "display_data"
        }
      ],
      "source": [
        "create_confusion_matrix(y_pred_lgbmc, y_test)"
      ]
    },
    {
      "cell_type": "code",
      "execution_count": 23,
      "metadata": {
        "id": "27MjgKfHQ4a7"
      },
      "outputs": [],
      "source": [
        "sorted_df_proba_lgbmc = df_proba_lgbmc.sort_values(by = '1', ascending = False).iloc[0: 10000]"
      ]
    },
    {
      "cell_type": "code",
      "execution_count": null,
      "metadata": {
        "colab": {
          "base_uri": "https://localhost:8080/",
          "height": 835
        },
        "id": "RwdyEERqRSiJ",
        "outputId": "d5dd0218-34eb-4e1d-c635-75ba5f7d2a66"
      },
      "outputs": [],
      "source": [
        "plt.figure(figsize = (8, 6))\n",
        "plt.grid(color = 'lightgray', axis = 'y')\n",
        "sns.distplot(sorted_df_proba_lgbmc.iloc[0: 10000]['1'])\n",
        "plt.xlabel('Probability')\n",
        "plt.ylabel('Value')\n",
        "plt.legend(fontsize = 10)\n",
        "plt.tight_layout()\n",
        "plt.show()"
      ]
    },
    {
      "cell_type": "markdown",
      "metadata": {
        "id": "jQOXa8PgoRVS"
      },
      "source": [
        "#### Export excel file including 10000 selected alumni data according to probability"
      ]
    },
    {
      "cell_type": "code",
      "execution_count": 24,
      "metadata": {
        "id": "d7dLQbt1Sg87"
      },
      "outputs": [],
      "source": [
        "df_2 = pd.merge(df, sorted_df_proba_lgbmc, on = 'ACCOUNT_ID', how = 'inner')"
      ]
    },
    {
      "cell_type": "code",
      "execution_count": null,
      "metadata": {
        "colab": {
          "base_uri": "https://localhost:8080/",
          "height": 17
        },
        "id": "lBNyGFvlUV40",
        "outputId": "bd742f9e-c943-4250-f4ac-a923edce4137"
      },
      "outputs": [],
      "source": [
        "df_2.to_excel('Selected 10000 Alumni Attributes.xlsx', index = False)\n",
        "files.download('Selected 10000 Alumni Attributes.xlsx')"
      ]
    },
    {
      "cell_type": "markdown",
      "metadata": {
        "id": "xGOhtpGySuYA"
      },
      "source": [
        "#### Feature trends of 10,000 selected alumni"
      ]
    },
    {
      "cell_type": "code",
      "execution_count": 75,
      "metadata": {
        "id": "gt3C0v4bUjTM"
      },
      "outputs": [],
      "source": [
        "def pie_plot(c):\n",
        "  plt.figure(figsize = (6, 6))\n",
        "  plt.grid(color = 'lightgray', axis = 'y')\n",
        "  plt.pie(c.value_counts(), labels = c.value_counts().index, colors = ['skyblue', 'steelblue'])\n",
        "  plt.legend(fontsize = 10)\n",
        "  plt.tight_layout()\n",
        "  plt.show()"
      ]
    },
    {
      "cell_type": "code",
      "execution_count": null,
      "metadata": {
        "colab": {
          "base_uri": "https://localhost:8080/",
          "height": 1000
        },
        "id": "Oc6uRtUOZUG4",
        "outputId": "f5f6edd2-58e1-457b-d297-395cdeae97f4"
      },
      "outputs": [],
      "source": [
        "for c in ['GENDER', 'MARRIED_TO_ALUM', 'JC', 'ROTC', 'ALUMNI_TYPE']:\n",
        "  print(c)\n",
        "  pie_plot(sorted_df_3[c])"
      ]
    },
    {
      "cell_type": "code",
      "execution_count": 116,
      "metadata": {
        "id": "tMjB2Pm_aYmN"
      },
      "outputs": [],
      "source": [
        "def count_plot(c):\n",
        "  order = sorted_df_3[c].value_counts().sort_values(ascending = False).nlargest(10).index\n",
        "  plt.figure(figsize = (8, 6))\n",
        "  plt.grid(color = 'lightgray', axis = 'y')\n",
        "  sns.countplot(data = sorted_df_3, x = c, palette = list(reversed(sns.color_palette('Blues'))), alpha = 0.8, order = order)\n",
        "  plt.legend(fontsize = 10)\n",
        "  plt.xticks(rotation = 'vertical')\n",
        "  plt.tight_layout()\n",
        "  plt.show()"
      ]
    },
    {
      "cell_type": "code",
      "execution_count": null,
      "metadata": {
        "colab": {
          "base_uri": "https://localhost:8080/",
          "height": 1000
        },
        "id": "WE3JcdbGa1bT",
        "outputId": "30bfad23-b7f9-43e8-8bc6-5244bfd891b6"
      },
      "outputs": [],
      "source": [
        "for c in ['ZIP','UG_CLASS_YEAR','UG_SCHOOL','GRAD_DEGREE','GRAD_CLASS_YEAR','GRAD_SCHOOL']:\n",
        "  count_plot(c)"
      ]
    },
    {
      "cell_type": "markdown",
      "metadata": {},
      "source": [
        "### Result"
      ]
    },
    {
      "cell_type": "code",
      "execution_count": 107,
      "metadata": {
        "colab": {
          "base_uri": "https://localhost:8080/",
          "height": 17
        },
        "id": "CCQuGzh0EsUR",
        "outputId": "f4d77929-c33f-4d2e-cba3-3ed4464a0533"
      },
      "outputs": [
        {
          "data": {
            "application/javascript": "\n    async function download(id, filename, size) {\n      if (!google.colab.kernel.accessAllowed) {\n        return;\n      }\n      const div = document.createElement('div');\n      const label = document.createElement('label');\n      label.textContent = `Downloading \"${filename}\": `;\n      div.appendChild(label);\n      const progress = document.createElement('progress');\n      progress.max = size;\n      div.appendChild(progress);\n      document.body.appendChild(div);\n\n      const buffers = [];\n      let downloaded = 0;\n\n      const channel = await google.colab.kernel.comms.open(id);\n      // Send a message to notify the kernel that we're ready.\n      channel.send({})\n\n      for await (const message of channel.messages) {\n        // Send a message to notify the kernel that we're ready.\n        channel.send({})\n        if (message.buffers) {\n          for (const buffer of message.buffers) {\n            buffers.push(buffer);\n            downloaded += buffer.byteLength;\n            progress.value = downloaded;\n          }\n        }\n      }\n      const blob = new Blob(buffers, {type: 'application/binary'});\n      const a = document.createElement('a');\n      a.href = window.URL.createObjectURL(blob);\n      a.download = filename;\n      div.appendChild(a);\n      a.click();\n      div.remove();\n    }\n  ",
            "text/plain": [
              "<IPython.core.display.Javascript object>"
            ]
          },
          "metadata": {},
          "output_type": "display_data"
        },
        {
          "data": {
            "application/javascript": "download(\"download_d4b7366d-5ddf-4fb3-a1c0-18fcc78abd39\", \"Selected 10000 Alumni Attributes.xlsx\", 862591)",
            "text/plain": [
              "<IPython.core.display.Javascript object>"
            ]
          },
          "metadata": {},
          "output_type": "display_data"
        }
      ],
      "source": [
        "sorted_df_3.to_excel('Selected 10000 Alumni Attributes.xlsx', index = False)\n",
        "files.download('Selected 10000 Alumni Attributes.xlsx')"
      ]
    }
  ],
  "metadata": {
    "colab": {
      "provenance": []
    },
    "kernelspec": {
      "display_name": "tf",
      "language": "python",
      "name": "python3"
    },
    "language_info": {
      "codemirror_mode": {
        "name": "ipython",
        "version": 3
      },
      "file_extension": ".py",
      "mimetype": "text/x-python",
      "name": "python",
      "nbconvert_exporter": "python",
      "pygments_lexer": "ipython3",
      "version": "3.10.13"
    }
  },
  "nbformat": 4,
  "nbformat_minor": 0
}
